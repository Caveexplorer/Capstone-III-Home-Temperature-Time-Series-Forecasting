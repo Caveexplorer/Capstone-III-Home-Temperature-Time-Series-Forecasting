{
 "cells": [
  {
   "cell_type": "markdown",
   "id": "d7b972e3",
   "metadata": {},
   "source": [
    "# **Capstone III Data Wrangling**"
   ]
  },
  {
   "cell_type": "markdown",
   "id": "6a18f469",
   "metadata": {},
   "source": [
    "### **Section 1: Imports and Initial Inspection**"
   ]
  },
  {
   "cell_type": "code",
   "execution_count": 1,
   "id": "1e9a285c",
   "metadata": {},
   "outputs": [],
   "source": [
    "import pandas as pd"
   ]
  },
  {
   "cell_type": "code",
   "execution_count": 2,
   "id": "9f6538a5",
   "metadata": {},
   "outputs": [],
   "source": [
    "train = pd.read_csv(\"../Raw Data/train.csv\")\n",
    "test = pd.read_csv('../Raw Data/test.csv')"
   ]
  },
  {
   "cell_type": "code",
   "execution_count": 3,
   "id": "9ab0f80d",
   "metadata": {},
   "outputs": [
    {
     "data": {
      "text/html": [
       "<div>\n",
       "<style scoped>\n",
       "    .dataframe tbody tr th:only-of-type {\n",
       "        vertical-align: middle;\n",
       "    }\n",
       "\n",
       "    .dataframe tbody tr th {\n",
       "        vertical-align: top;\n",
       "    }\n",
       "\n",
       "    .dataframe thead th {\n",
       "        text-align: right;\n",
       "    }\n",
       "</style>\n",
       "<table border=\"1\" class=\"dataframe\">\n",
       "  <thead>\n",
       "    <tr style=\"text-align: right;\">\n",
       "      <th></th>\n",
       "      <th>Id</th>\n",
       "      <th>Date</th>\n",
       "      <th>Time</th>\n",
       "      <th>CO2_(dinning-room)</th>\n",
       "      <th>CO2_room</th>\n",
       "      <th>Relative_humidity_(dinning-room)</th>\n",
       "      <th>Relative_humidity_room</th>\n",
       "      <th>Lighting_(dinning-room)</th>\n",
       "      <th>Lighting_room</th>\n",
       "      <th>Meteo_Rain</th>\n",
       "      <th>Meteo_Sun_dusk</th>\n",
       "      <th>Meteo_Wind</th>\n",
       "      <th>Meteo_Sun_light_in_west_facade</th>\n",
       "      <th>Meteo_Sun_light_in_east_facade</th>\n",
       "      <th>Meteo_Sun_light_in_south_facade</th>\n",
       "      <th>Meteo_Sun_irradiance</th>\n",
       "      <th>Outdoor_relative_humidity_Sensor</th>\n",
       "      <th>Day_of_the_week</th>\n",
       "      <th>Indoor_temperature_room</th>\n",
       "    </tr>\n",
       "  </thead>\n",
       "  <tbody>\n",
       "    <tr>\n",
       "      <th>0</th>\n",
       "      <td>0</td>\n",
       "      <td>13/03/2012</td>\n",
       "      <td>11:45</td>\n",
       "      <td>216.560</td>\n",
       "      <td>221.920</td>\n",
       "      <td>39.9125</td>\n",
       "      <td>42.4150</td>\n",
       "      <td>81.6650</td>\n",
       "      <td>113.520</td>\n",
       "      <td>0.0</td>\n",
       "      <td>623.360</td>\n",
       "      <td>1.42625</td>\n",
       "      <td>9690.24</td>\n",
       "      <td>12604.20</td>\n",
       "      <td>95436.8</td>\n",
       "      <td>758.880</td>\n",
       "      <td>48.3750</td>\n",
       "      <td>2.0</td>\n",
       "      <td>17.8275</td>\n",
       "    </tr>\n",
       "    <tr>\n",
       "      <th>1</th>\n",
       "      <td>1</td>\n",
       "      <td>13/03/2012</td>\n",
       "      <td>12:00</td>\n",
       "      <td>219.947</td>\n",
       "      <td>220.363</td>\n",
       "      <td>39.9267</td>\n",
       "      <td>42.2453</td>\n",
       "      <td>81.7413</td>\n",
       "      <td>113.605</td>\n",
       "      <td>0.0</td>\n",
       "      <td>623.211</td>\n",
       "      <td>1.59200</td>\n",
       "      <td>11022.00</td>\n",
       "      <td>10787.20</td>\n",
       "      <td>95436.8</td>\n",
       "      <td>762.069</td>\n",
       "      <td>47.8080</td>\n",
       "      <td>2.0</td>\n",
       "      <td>18.1207</td>\n",
       "    </tr>\n",
       "    <tr>\n",
       "      <th>2</th>\n",
       "      <td>2</td>\n",
       "      <td>13/03/2012</td>\n",
       "      <td>12:15</td>\n",
       "      <td>219.403</td>\n",
       "      <td>218.933</td>\n",
       "      <td>39.7720</td>\n",
       "      <td>42.2267</td>\n",
       "      <td>81.4240</td>\n",
       "      <td>113.600</td>\n",
       "      <td>0.0</td>\n",
       "      <td>622.656</td>\n",
       "      <td>1.89133</td>\n",
       "      <td>13960.50</td>\n",
       "      <td>9669.63</td>\n",
       "      <td>95398.6</td>\n",
       "      <td>766.251</td>\n",
       "      <td>47.4320</td>\n",
       "      <td>2.0</td>\n",
       "      <td>18.4367</td>\n",
       "    </tr>\n",
       "    <tr>\n",
       "      <th>3</th>\n",
       "      <td>3</td>\n",
       "      <td>13/03/2012</td>\n",
       "      <td>12:30</td>\n",
       "      <td>218.613</td>\n",
       "      <td>217.045</td>\n",
       "      <td>39.7760</td>\n",
       "      <td>42.0987</td>\n",
       "      <td>81.5013</td>\n",
       "      <td>113.344</td>\n",
       "      <td>0.0</td>\n",
       "      <td>622.571</td>\n",
       "      <td>1.82800</td>\n",
       "      <td>18511.20</td>\n",
       "      <td>9648.13</td>\n",
       "      <td>95360.3</td>\n",
       "      <td>766.037</td>\n",
       "      <td>47.0240</td>\n",
       "      <td>2.0</td>\n",
       "      <td>18.7513</td>\n",
       "    </tr>\n",
       "    <tr>\n",
       "      <th>4</th>\n",
       "      <td>4</td>\n",
       "      <td>13/03/2012</td>\n",
       "      <td>12:45</td>\n",
       "      <td>217.714</td>\n",
       "      <td>216.080</td>\n",
       "      <td>39.7757</td>\n",
       "      <td>42.0686</td>\n",
       "      <td>81.4657</td>\n",
       "      <td>113.034</td>\n",
       "      <td>0.0</td>\n",
       "      <td>622.400</td>\n",
       "      <td>2.36071</td>\n",
       "      <td>26349.00</td>\n",
       "      <td>9208.32</td>\n",
       "      <td>95354.9</td>\n",
       "      <td>762.743</td>\n",
       "      <td>45.4743</td>\n",
       "      <td>2.0</td>\n",
       "      <td>19.0414</td>\n",
       "    </tr>\n",
       "  </tbody>\n",
       "</table>\n",
       "</div>"
      ],
      "text/plain": [
       "   Id        Date   Time  CO2_(dinning-room)  CO2_room  \\\n",
       "0   0  13/03/2012  11:45             216.560   221.920   \n",
       "1   1  13/03/2012  12:00             219.947   220.363   \n",
       "2   2  13/03/2012  12:15             219.403   218.933   \n",
       "3   3  13/03/2012  12:30             218.613   217.045   \n",
       "4   4  13/03/2012  12:45             217.714   216.080   \n",
       "\n",
       "   Relative_humidity_(dinning-room)  Relative_humidity_room  \\\n",
       "0                           39.9125                 42.4150   \n",
       "1                           39.9267                 42.2453   \n",
       "2                           39.7720                 42.2267   \n",
       "3                           39.7760                 42.0987   \n",
       "4                           39.7757                 42.0686   \n",
       "\n",
       "   Lighting_(dinning-room)  Lighting_room  Meteo_Rain  Meteo_Sun_dusk  \\\n",
       "0                  81.6650        113.520         0.0         623.360   \n",
       "1                  81.7413        113.605         0.0         623.211   \n",
       "2                  81.4240        113.600         0.0         622.656   \n",
       "3                  81.5013        113.344         0.0         622.571   \n",
       "4                  81.4657        113.034         0.0         622.400   \n",
       "\n",
       "   Meteo_Wind  Meteo_Sun_light_in_west_facade  Meteo_Sun_light_in_east_facade  \\\n",
       "0     1.42625                         9690.24                        12604.20   \n",
       "1     1.59200                        11022.00                        10787.20   \n",
       "2     1.89133                        13960.50                         9669.63   \n",
       "3     1.82800                        18511.20                         9648.13   \n",
       "4     2.36071                        26349.00                         9208.32   \n",
       "\n",
       "   Meteo_Sun_light_in_south_facade  Meteo_Sun_irradiance  \\\n",
       "0                          95436.8               758.880   \n",
       "1                          95436.8               762.069   \n",
       "2                          95398.6               766.251   \n",
       "3                          95360.3               766.037   \n",
       "4                          95354.9               762.743   \n",
       "\n",
       "   Outdoor_relative_humidity_Sensor  Day_of_the_week  Indoor_temperature_room  \n",
       "0                           48.3750              2.0                  17.8275  \n",
       "1                           47.8080              2.0                  18.1207  \n",
       "2                           47.4320              2.0                  18.4367  \n",
       "3                           47.0240              2.0                  18.7513  \n",
       "4                           45.4743              2.0                  19.0414  "
      ]
     },
     "execution_count": 3,
     "metadata": {},
     "output_type": "execute_result"
    }
   ],
   "source": [
    "train.head()"
   ]
  },
  {
   "cell_type": "code",
   "execution_count": 4,
   "id": "a3c91347",
   "metadata": {
    "scrolled": true
   },
   "outputs": [
    {
     "data": {
      "text/html": [
       "<div>\n",
       "<style scoped>\n",
       "    .dataframe tbody tr th:only-of-type {\n",
       "        vertical-align: middle;\n",
       "    }\n",
       "\n",
       "    .dataframe tbody tr th {\n",
       "        vertical-align: top;\n",
       "    }\n",
       "\n",
       "    .dataframe thead th {\n",
       "        text-align: right;\n",
       "    }\n",
       "</style>\n",
       "<table border=\"1\" class=\"dataframe\">\n",
       "  <thead>\n",
       "    <tr style=\"text-align: right;\">\n",
       "      <th></th>\n",
       "      <th>Id</th>\n",
       "      <th>Date</th>\n",
       "      <th>Time</th>\n",
       "      <th>CO2_(dinning-room)</th>\n",
       "      <th>CO2_room</th>\n",
       "      <th>Relative_humidity_(dinning-room)</th>\n",
       "      <th>Relative_humidity_room</th>\n",
       "      <th>Lighting_(dinning-room)</th>\n",
       "      <th>Lighting_room</th>\n",
       "      <th>Meteo_Rain</th>\n",
       "      <th>Meteo_Sun_dusk</th>\n",
       "      <th>Meteo_Wind</th>\n",
       "      <th>Meteo_Sun_light_in_west_facade</th>\n",
       "      <th>Meteo_Sun_light_in_east_facade</th>\n",
       "      <th>Meteo_Sun_light_in_south_facade</th>\n",
       "      <th>Meteo_Sun_irradiance</th>\n",
       "      <th>Outdoor_relative_humidity_Sensor</th>\n",
       "      <th>Day_of_the_week</th>\n",
       "    </tr>\n",
       "  </thead>\n",
       "  <tbody>\n",
       "    <tr>\n",
       "      <th>0</th>\n",
       "      <td>2764</td>\n",
       "      <td>18/04/2012</td>\n",
       "      <td>00:00</td>\n",
       "      <td>207.840</td>\n",
       "      <td>206.560</td>\n",
       "      <td>31.5800</td>\n",
       "      <td>30.1600</td>\n",
       "      <td>11.7200</td>\n",
       "      <td>14.1600</td>\n",
       "      <td>0.0</td>\n",
       "      <td>0.65</td>\n",
       "      <td>0.000000</td>\n",
       "      <td>0.0</td>\n",
       "      <td>0.0</td>\n",
       "      <td>0.0</td>\n",
       "      <td>-3.12000</td>\n",
       "      <td>39.0800</td>\n",
       "      <td>3.0</td>\n",
       "    </tr>\n",
       "    <tr>\n",
       "      <th>1</th>\n",
       "      <td>2765</td>\n",
       "      <td>18/04/2012</td>\n",
       "      <td>00:15</td>\n",
       "      <td>207.499</td>\n",
       "      <td>206.101</td>\n",
       "      <td>31.6240</td>\n",
       "      <td>30.0613</td>\n",
       "      <td>11.5240</td>\n",
       "      <td>14.7600</td>\n",
       "      <td>0.0</td>\n",
       "      <td>0.65</td>\n",
       "      <td>0.000000</td>\n",
       "      <td>0.0</td>\n",
       "      <td>0.0</td>\n",
       "      <td>0.0</td>\n",
       "      <td>-2.80800</td>\n",
       "      <td>38.9680</td>\n",
       "      <td>3.0</td>\n",
       "    </tr>\n",
       "    <tr>\n",
       "      <th>2</th>\n",
       "      <td>2766</td>\n",
       "      <td>18/04/2012</td>\n",
       "      <td>00:30</td>\n",
       "      <td>207.360</td>\n",
       "      <td>206.805</td>\n",
       "      <td>31.6507</td>\n",
       "      <td>30.1773</td>\n",
       "      <td>11.6220</td>\n",
       "      <td>14.9547</td>\n",
       "      <td>0.0</td>\n",
       "      <td>0.65</td>\n",
       "      <td>0.088000</td>\n",
       "      <td>0.0</td>\n",
       "      <td>0.0</td>\n",
       "      <td>0.0</td>\n",
       "      <td>-2.96400</td>\n",
       "      <td>38.9467</td>\n",
       "      <td>3.0</td>\n",
       "    </tr>\n",
       "    <tr>\n",
       "      <th>3</th>\n",
       "      <td>2767</td>\n",
       "      <td>18/04/2012</td>\n",
       "      <td>00:45</td>\n",
       "      <td>207.445</td>\n",
       "      <td>206.325</td>\n",
       "      <td>31.6987</td>\n",
       "      <td>30.2560</td>\n",
       "      <td>11.7847</td>\n",
       "      <td>15.0520</td>\n",
       "      <td>0.0</td>\n",
       "      <td>0.65</td>\n",
       "      <td>0.127333</td>\n",
       "      <td>0.0</td>\n",
       "      <td>0.0</td>\n",
       "      <td>0.0</td>\n",
       "      <td>-3.02933</td>\n",
       "      <td>39.0760</td>\n",
       "      <td>3.0</td>\n",
       "    </tr>\n",
       "    <tr>\n",
       "      <th>4</th>\n",
       "      <td>2768</td>\n",
       "      <td>18/04/2012</td>\n",
       "      <td>01:00</td>\n",
       "      <td>207.840</td>\n",
       "      <td>205.952</td>\n",
       "      <td>31.7707</td>\n",
       "      <td>30.3840</td>\n",
       "      <td>11.5887</td>\n",
       "      <td>15.2147</td>\n",
       "      <td>0.0</td>\n",
       "      <td>0.65</td>\n",
       "      <td>0.000000</td>\n",
       "      <td>0.0</td>\n",
       "      <td>0.0</td>\n",
       "      <td>0.0</td>\n",
       "      <td>-2.88600</td>\n",
       "      <td>40.0413</td>\n",
       "      <td>3.0</td>\n",
       "    </tr>\n",
       "  </tbody>\n",
       "</table>\n",
       "</div>"
      ],
      "text/plain": [
       "     Id        Date   Time  CO2_(dinning-room)  CO2_room  \\\n",
       "0  2764  18/04/2012  00:00             207.840   206.560   \n",
       "1  2765  18/04/2012  00:15             207.499   206.101   \n",
       "2  2766  18/04/2012  00:30             207.360   206.805   \n",
       "3  2767  18/04/2012  00:45             207.445   206.325   \n",
       "4  2768  18/04/2012  01:00             207.840   205.952   \n",
       "\n",
       "   Relative_humidity_(dinning-room)  Relative_humidity_room  \\\n",
       "0                           31.5800                 30.1600   \n",
       "1                           31.6240                 30.0613   \n",
       "2                           31.6507                 30.1773   \n",
       "3                           31.6987                 30.2560   \n",
       "4                           31.7707                 30.3840   \n",
       "\n",
       "   Lighting_(dinning-room)  Lighting_room  Meteo_Rain  Meteo_Sun_dusk  \\\n",
       "0                  11.7200        14.1600         0.0            0.65   \n",
       "1                  11.5240        14.7600         0.0            0.65   \n",
       "2                  11.6220        14.9547         0.0            0.65   \n",
       "3                  11.7847        15.0520         0.0            0.65   \n",
       "4                  11.5887        15.2147         0.0            0.65   \n",
       "\n",
       "   Meteo_Wind  Meteo_Sun_light_in_west_facade  Meteo_Sun_light_in_east_facade  \\\n",
       "0    0.000000                             0.0                             0.0   \n",
       "1    0.000000                             0.0                             0.0   \n",
       "2    0.088000                             0.0                             0.0   \n",
       "3    0.127333                             0.0                             0.0   \n",
       "4    0.000000                             0.0                             0.0   \n",
       "\n",
       "   Meteo_Sun_light_in_south_facade  Meteo_Sun_irradiance  \\\n",
       "0                              0.0              -3.12000   \n",
       "1                              0.0              -2.80800   \n",
       "2                              0.0              -2.96400   \n",
       "3                              0.0              -3.02933   \n",
       "4                              0.0              -2.88600   \n",
       "\n",
       "   Outdoor_relative_humidity_Sensor  Day_of_the_week  \n",
       "0                           39.0800              3.0  \n",
       "1                           38.9680              3.0  \n",
       "2                           38.9467              3.0  \n",
       "3                           39.0760              3.0  \n",
       "4                           40.0413              3.0  "
      ]
     },
     "execution_count": 4,
     "metadata": {},
     "output_type": "execute_result"
    }
   ],
   "source": [
    "test.head()"
   ]
  },
  {
   "cell_type": "code",
   "execution_count": 5,
   "id": "65434717",
   "metadata": {},
   "outputs": [
    {
     "data": {
      "text/plain": [
       "(2764, 19)"
      ]
     },
     "execution_count": 5,
     "metadata": {},
     "output_type": "execute_result"
    }
   ],
   "source": [
    "train.shape"
   ]
  },
  {
   "cell_type": "code",
   "execution_count": 6,
   "id": "b37526a7",
   "metadata": {},
   "outputs": [
    {
     "data": {
      "text/plain": [
       "(1373, 18)"
      ]
     },
     "execution_count": 6,
     "metadata": {},
     "output_type": "execute_result"
    }
   ],
   "source": [
    "test.shape"
   ]
  },
  {
   "cell_type": "code",
   "execution_count": 7,
   "id": "310c7175",
   "metadata": {
    "scrolled": true
   },
   "outputs": [
    {
     "data": {
      "text/plain": [
       "Id                                    int64\n",
       "Date                                 object\n",
       "Time                                 object\n",
       "CO2_(dinning-room)                  float64\n",
       "CO2_room                            float64\n",
       "Relative_humidity_(dinning-room)    float64\n",
       "Relative_humidity_room              float64\n",
       "Lighting_(dinning-room)             float64\n",
       "Lighting_room                       float64\n",
       "Meteo_Rain                          float64\n",
       "Meteo_Sun_dusk                      float64\n",
       "Meteo_Wind                          float64\n",
       "Meteo_Sun_light_in_west_facade      float64\n",
       "Meteo_Sun_light_in_east_facade      float64\n",
       "Meteo_Sun_light_in_south_facade     float64\n",
       "Meteo_Sun_irradiance                float64\n",
       "Outdoor_relative_humidity_Sensor    float64\n",
       "Day_of_the_week                     float64\n",
       "Indoor_temperature_room             float64\n",
       "dtype: object"
      ]
     },
     "execution_count": 7,
     "metadata": {},
     "output_type": "execute_result"
    }
   ],
   "source": [
    "# With the exception of Date and Time, all columns are the correct data type\n",
    "train.dtypes"
   ]
  },
  {
   "cell_type": "code",
   "execution_count": 8,
   "id": "00d968dc",
   "metadata": {},
   "outputs": [
    {
     "data": {
      "text/plain": [
       "Id                                    int64\n",
       "Date                                 object\n",
       "Time                                 object\n",
       "CO2_(dinning-room)                  float64\n",
       "CO2_room                            float64\n",
       "Relative_humidity_(dinning-room)    float64\n",
       "Relative_humidity_room              float64\n",
       "Lighting_(dinning-room)             float64\n",
       "Lighting_room                       float64\n",
       "Meteo_Rain                          float64\n",
       "Meteo_Sun_dusk                      float64\n",
       "Meteo_Wind                          float64\n",
       "Meteo_Sun_light_in_west_facade      float64\n",
       "Meteo_Sun_light_in_east_facade      float64\n",
       "Meteo_Sun_light_in_south_facade     float64\n",
       "Meteo_Sun_irradiance                float64\n",
       "Outdoor_relative_humidity_Sensor    float64\n",
       "Day_of_the_week                     float64\n",
       "dtype: object"
      ]
     },
     "execution_count": 8,
     "metadata": {},
     "output_type": "execute_result"
    }
   ],
   "source": [
    "test.dtypes"
   ]
  },
  {
   "cell_type": "code",
   "execution_count": 9,
   "id": "2a4f1cef",
   "metadata": {
    "scrolled": true
   },
   "outputs": [
    {
     "data": {
      "text/plain": [
       "Id                                  0\n",
       "Date                                0\n",
       "Time                                0\n",
       "CO2_(dinning-room)                  0\n",
       "CO2_room                            0\n",
       "Relative_humidity_(dinning-room)    0\n",
       "Relative_humidity_room              0\n",
       "Lighting_(dinning-room)             0\n",
       "Lighting_room                       0\n",
       "Meteo_Rain                          0\n",
       "Meteo_Sun_dusk                      0\n",
       "Meteo_Wind                          0\n",
       "Meteo_Sun_light_in_west_facade      0\n",
       "Meteo_Sun_light_in_east_facade      0\n",
       "Meteo_Sun_light_in_south_facade     0\n",
       "Meteo_Sun_irradiance                0\n",
       "Outdoor_relative_humidity_Sensor    0\n",
       "Day_of_the_week                     0\n",
       "Indoor_temperature_room             0\n",
       "dtype: int64"
      ]
     },
     "execution_count": 9,
     "metadata": {},
     "output_type": "execute_result"
    }
   ],
   "source": [
    "# No NaN values\n",
    "train.isna().sum()"
   ]
  },
  {
   "cell_type": "code",
   "execution_count": 10,
   "id": "de7c7b48",
   "metadata": {},
   "outputs": [
    {
     "data": {
      "text/plain": [
       "Id                                  0\n",
       "Date                                0\n",
       "Time                                0\n",
       "CO2_(dinning-room)                  0\n",
       "CO2_room                            0\n",
       "Relative_humidity_(dinning-room)    0\n",
       "Relative_humidity_room              0\n",
       "Lighting_(dinning-room)             0\n",
       "Lighting_room                       0\n",
       "Meteo_Rain                          0\n",
       "Meteo_Sun_dusk                      0\n",
       "Meteo_Wind                          0\n",
       "Meteo_Sun_light_in_west_facade      0\n",
       "Meteo_Sun_light_in_east_facade      0\n",
       "Meteo_Sun_light_in_south_facade     0\n",
       "Meteo_Sun_irradiance                0\n",
       "Outdoor_relative_humidity_Sensor    0\n",
       "Day_of_the_week                     0\n",
       "dtype: int64"
      ]
     },
     "execution_count": 10,
     "metadata": {},
     "output_type": "execute_result"
    }
   ],
   "source": [
    "test.isna().sum()"
   ]
  },
  {
   "cell_type": "markdown",
   "id": "f82afd1b",
   "metadata": {},
   "source": [
    "### **Section 2: Format and Structure Changes**\n",
    "\n",
    "Here we'll make some format changes. This includes creating a combined date and time column, changing the data types of the date columns, and changing column names."
   ]
  },
  {
   "cell_type": "code",
   "execution_count": 11,
   "id": "15246115",
   "metadata": {
    "scrolled": false
   },
   "outputs": [
    {
     "data": {
      "text/html": [
       "<div>\n",
       "<style scoped>\n",
       "    .dataframe tbody tr th:only-of-type {\n",
       "        vertical-align: middle;\n",
       "    }\n",
       "\n",
       "    .dataframe tbody tr th {\n",
       "        vertical-align: top;\n",
       "    }\n",
       "\n",
       "    .dataframe thead th {\n",
       "        text-align: right;\n",
       "    }\n",
       "</style>\n",
       "<table border=\"1\" class=\"dataframe\">\n",
       "  <thead>\n",
       "    <tr style=\"text-align: right;\">\n",
       "      <th></th>\n",
       "      <th>Id</th>\n",
       "      <th>Date</th>\n",
       "      <th>Time</th>\n",
       "      <th>CO2_(dinning-room)</th>\n",
       "      <th>CO2_room</th>\n",
       "      <th>Relative_humidity_(dinning-room)</th>\n",
       "      <th>Relative_humidity_room</th>\n",
       "      <th>Lighting_(dinning-room)</th>\n",
       "      <th>Lighting_room</th>\n",
       "      <th>Meteo_Rain</th>\n",
       "      <th>Meteo_Sun_dusk</th>\n",
       "      <th>Meteo_Wind</th>\n",
       "      <th>Meteo_Sun_light_in_west_facade</th>\n",
       "      <th>Meteo_Sun_light_in_east_facade</th>\n",
       "      <th>Meteo_Sun_light_in_south_facade</th>\n",
       "      <th>Meteo_Sun_irradiance</th>\n",
       "      <th>Outdoor_relative_humidity_Sensor</th>\n",
       "      <th>Day_of_the_week</th>\n",
       "      <th>Indoor_temperature_room</th>\n",
       "    </tr>\n",
       "  </thead>\n",
       "  <tbody>\n",
       "    <tr>\n",
       "      <th>0</th>\n",
       "      <td>0</td>\n",
       "      <td>13/03/2012</td>\n",
       "      <td>11:45</td>\n",
       "      <td>216.560</td>\n",
       "      <td>221.920</td>\n",
       "      <td>39.9125</td>\n",
       "      <td>42.4150</td>\n",
       "      <td>81.6650</td>\n",
       "      <td>113.520</td>\n",
       "      <td>0.0</td>\n",
       "      <td>623.360</td>\n",
       "      <td>1.42625</td>\n",
       "      <td>9690.24</td>\n",
       "      <td>12604.20</td>\n",
       "      <td>95436.8</td>\n",
       "      <td>758.880</td>\n",
       "      <td>48.3750</td>\n",
       "      <td>2.0</td>\n",
       "      <td>17.8275</td>\n",
       "    </tr>\n",
       "    <tr>\n",
       "      <th>1</th>\n",
       "      <td>1</td>\n",
       "      <td>13/03/2012</td>\n",
       "      <td>12:00</td>\n",
       "      <td>219.947</td>\n",
       "      <td>220.363</td>\n",
       "      <td>39.9267</td>\n",
       "      <td>42.2453</td>\n",
       "      <td>81.7413</td>\n",
       "      <td>113.605</td>\n",
       "      <td>0.0</td>\n",
       "      <td>623.211</td>\n",
       "      <td>1.59200</td>\n",
       "      <td>11022.00</td>\n",
       "      <td>10787.20</td>\n",
       "      <td>95436.8</td>\n",
       "      <td>762.069</td>\n",
       "      <td>47.8080</td>\n",
       "      <td>2.0</td>\n",
       "      <td>18.1207</td>\n",
       "    </tr>\n",
       "    <tr>\n",
       "      <th>2</th>\n",
       "      <td>2</td>\n",
       "      <td>13/03/2012</td>\n",
       "      <td>12:15</td>\n",
       "      <td>219.403</td>\n",
       "      <td>218.933</td>\n",
       "      <td>39.7720</td>\n",
       "      <td>42.2267</td>\n",
       "      <td>81.4240</td>\n",
       "      <td>113.600</td>\n",
       "      <td>0.0</td>\n",
       "      <td>622.656</td>\n",
       "      <td>1.89133</td>\n",
       "      <td>13960.50</td>\n",
       "      <td>9669.63</td>\n",
       "      <td>95398.6</td>\n",
       "      <td>766.251</td>\n",
       "      <td>47.4320</td>\n",
       "      <td>2.0</td>\n",
       "      <td>18.4367</td>\n",
       "    </tr>\n",
       "    <tr>\n",
       "      <th>3</th>\n",
       "      <td>3</td>\n",
       "      <td>13/03/2012</td>\n",
       "      <td>12:30</td>\n",
       "      <td>218.613</td>\n",
       "      <td>217.045</td>\n",
       "      <td>39.7760</td>\n",
       "      <td>42.0987</td>\n",
       "      <td>81.5013</td>\n",
       "      <td>113.344</td>\n",
       "      <td>0.0</td>\n",
       "      <td>622.571</td>\n",
       "      <td>1.82800</td>\n",
       "      <td>18511.20</td>\n",
       "      <td>9648.13</td>\n",
       "      <td>95360.3</td>\n",
       "      <td>766.037</td>\n",
       "      <td>47.0240</td>\n",
       "      <td>2.0</td>\n",
       "      <td>18.7513</td>\n",
       "    </tr>\n",
       "    <tr>\n",
       "      <th>4</th>\n",
       "      <td>4</td>\n",
       "      <td>13/03/2012</td>\n",
       "      <td>12:45</td>\n",
       "      <td>217.714</td>\n",
       "      <td>216.080</td>\n",
       "      <td>39.7757</td>\n",
       "      <td>42.0686</td>\n",
       "      <td>81.4657</td>\n",
       "      <td>113.034</td>\n",
       "      <td>0.0</td>\n",
       "      <td>622.400</td>\n",
       "      <td>2.36071</td>\n",
       "      <td>26349.00</td>\n",
       "      <td>9208.32</td>\n",
       "      <td>95354.9</td>\n",
       "      <td>762.743</td>\n",
       "      <td>45.4743</td>\n",
       "      <td>2.0</td>\n",
       "      <td>19.0414</td>\n",
       "    </tr>\n",
       "  </tbody>\n",
       "</table>\n",
       "</div>"
      ],
      "text/plain": [
       "   Id        Date   Time  CO2_(dinning-room)  CO2_room  \\\n",
       "0   0  13/03/2012  11:45             216.560   221.920   \n",
       "1   1  13/03/2012  12:00             219.947   220.363   \n",
       "2   2  13/03/2012  12:15             219.403   218.933   \n",
       "3   3  13/03/2012  12:30             218.613   217.045   \n",
       "4   4  13/03/2012  12:45             217.714   216.080   \n",
       "\n",
       "   Relative_humidity_(dinning-room)  Relative_humidity_room  \\\n",
       "0                           39.9125                 42.4150   \n",
       "1                           39.9267                 42.2453   \n",
       "2                           39.7720                 42.2267   \n",
       "3                           39.7760                 42.0987   \n",
       "4                           39.7757                 42.0686   \n",
       "\n",
       "   Lighting_(dinning-room)  Lighting_room  Meteo_Rain  Meteo_Sun_dusk  \\\n",
       "0                  81.6650        113.520         0.0         623.360   \n",
       "1                  81.7413        113.605         0.0         623.211   \n",
       "2                  81.4240        113.600         0.0         622.656   \n",
       "3                  81.5013        113.344         0.0         622.571   \n",
       "4                  81.4657        113.034         0.0         622.400   \n",
       "\n",
       "   Meteo_Wind  Meteo_Sun_light_in_west_facade  Meteo_Sun_light_in_east_facade  \\\n",
       "0     1.42625                         9690.24                        12604.20   \n",
       "1     1.59200                        11022.00                        10787.20   \n",
       "2     1.89133                        13960.50                         9669.63   \n",
       "3     1.82800                        18511.20                         9648.13   \n",
       "4     2.36071                        26349.00                         9208.32   \n",
       "\n",
       "   Meteo_Sun_light_in_south_facade  Meteo_Sun_irradiance  \\\n",
       "0                          95436.8               758.880   \n",
       "1                          95436.8               762.069   \n",
       "2                          95398.6               766.251   \n",
       "3                          95360.3               766.037   \n",
       "4                          95354.9               762.743   \n",
       "\n",
       "   Outdoor_relative_humidity_Sensor  Day_of_the_week  Indoor_temperature_room  \n",
       "0                           48.3750              2.0                  17.8275  \n",
       "1                           47.8080              2.0                  18.1207  \n",
       "2                           47.4320              2.0                  18.4367  \n",
       "3                           47.0240              2.0                  18.7513  \n",
       "4                           45.4743              2.0                  19.0414  "
      ]
     },
     "execution_count": 11,
     "metadata": {},
     "output_type": "execute_result"
    }
   ],
   "source": [
    "train.head()"
   ]
  },
  {
   "cell_type": "code",
   "execution_count": 12,
   "id": "109a1d16",
   "metadata": {},
   "outputs": [
    {
     "data": {
      "text/html": [
       "<div>\n",
       "<style scoped>\n",
       "    .dataframe tbody tr th:only-of-type {\n",
       "        vertical-align: middle;\n",
       "    }\n",
       "\n",
       "    .dataframe tbody tr th {\n",
       "        vertical-align: top;\n",
       "    }\n",
       "\n",
       "    .dataframe thead th {\n",
       "        text-align: right;\n",
       "    }\n",
       "</style>\n",
       "<table border=\"1\" class=\"dataframe\">\n",
       "  <thead>\n",
       "    <tr style=\"text-align: right;\">\n",
       "      <th></th>\n",
       "      <th>Id</th>\n",
       "      <th>Date</th>\n",
       "      <th>Time</th>\n",
       "      <th>CO2_(dinning-room)</th>\n",
       "      <th>CO2_room</th>\n",
       "      <th>Relative_humidity_(dinning-room)</th>\n",
       "      <th>Relative_humidity_room</th>\n",
       "      <th>Lighting_(dinning-room)</th>\n",
       "      <th>Lighting_room</th>\n",
       "      <th>Meteo_Rain</th>\n",
       "      <th>Meteo_Sun_dusk</th>\n",
       "      <th>Meteo_Wind</th>\n",
       "      <th>Meteo_Sun_light_in_west_facade</th>\n",
       "      <th>Meteo_Sun_light_in_east_facade</th>\n",
       "      <th>Meteo_Sun_light_in_south_facade</th>\n",
       "      <th>Meteo_Sun_irradiance</th>\n",
       "      <th>Outdoor_relative_humidity_Sensor</th>\n",
       "      <th>Day_of_the_week</th>\n",
       "    </tr>\n",
       "  </thead>\n",
       "  <tbody>\n",
       "    <tr>\n",
       "      <th>0</th>\n",
       "      <td>2764</td>\n",
       "      <td>18/04/2012</td>\n",
       "      <td>00:00</td>\n",
       "      <td>207.840</td>\n",
       "      <td>206.560</td>\n",
       "      <td>31.5800</td>\n",
       "      <td>30.1600</td>\n",
       "      <td>11.7200</td>\n",
       "      <td>14.1600</td>\n",
       "      <td>0.0</td>\n",
       "      <td>0.65</td>\n",
       "      <td>0.000000</td>\n",
       "      <td>0.0</td>\n",
       "      <td>0.0</td>\n",
       "      <td>0.0</td>\n",
       "      <td>-3.12000</td>\n",
       "      <td>39.0800</td>\n",
       "      <td>3.0</td>\n",
       "    </tr>\n",
       "    <tr>\n",
       "      <th>1</th>\n",
       "      <td>2765</td>\n",
       "      <td>18/04/2012</td>\n",
       "      <td>00:15</td>\n",
       "      <td>207.499</td>\n",
       "      <td>206.101</td>\n",
       "      <td>31.6240</td>\n",
       "      <td>30.0613</td>\n",
       "      <td>11.5240</td>\n",
       "      <td>14.7600</td>\n",
       "      <td>0.0</td>\n",
       "      <td>0.65</td>\n",
       "      <td>0.000000</td>\n",
       "      <td>0.0</td>\n",
       "      <td>0.0</td>\n",
       "      <td>0.0</td>\n",
       "      <td>-2.80800</td>\n",
       "      <td>38.9680</td>\n",
       "      <td>3.0</td>\n",
       "    </tr>\n",
       "    <tr>\n",
       "      <th>2</th>\n",
       "      <td>2766</td>\n",
       "      <td>18/04/2012</td>\n",
       "      <td>00:30</td>\n",
       "      <td>207.360</td>\n",
       "      <td>206.805</td>\n",
       "      <td>31.6507</td>\n",
       "      <td>30.1773</td>\n",
       "      <td>11.6220</td>\n",
       "      <td>14.9547</td>\n",
       "      <td>0.0</td>\n",
       "      <td>0.65</td>\n",
       "      <td>0.088000</td>\n",
       "      <td>0.0</td>\n",
       "      <td>0.0</td>\n",
       "      <td>0.0</td>\n",
       "      <td>-2.96400</td>\n",
       "      <td>38.9467</td>\n",
       "      <td>3.0</td>\n",
       "    </tr>\n",
       "    <tr>\n",
       "      <th>3</th>\n",
       "      <td>2767</td>\n",
       "      <td>18/04/2012</td>\n",
       "      <td>00:45</td>\n",
       "      <td>207.445</td>\n",
       "      <td>206.325</td>\n",
       "      <td>31.6987</td>\n",
       "      <td>30.2560</td>\n",
       "      <td>11.7847</td>\n",
       "      <td>15.0520</td>\n",
       "      <td>0.0</td>\n",
       "      <td>0.65</td>\n",
       "      <td>0.127333</td>\n",
       "      <td>0.0</td>\n",
       "      <td>0.0</td>\n",
       "      <td>0.0</td>\n",
       "      <td>-3.02933</td>\n",
       "      <td>39.0760</td>\n",
       "      <td>3.0</td>\n",
       "    </tr>\n",
       "    <tr>\n",
       "      <th>4</th>\n",
       "      <td>2768</td>\n",
       "      <td>18/04/2012</td>\n",
       "      <td>01:00</td>\n",
       "      <td>207.840</td>\n",
       "      <td>205.952</td>\n",
       "      <td>31.7707</td>\n",
       "      <td>30.3840</td>\n",
       "      <td>11.5887</td>\n",
       "      <td>15.2147</td>\n",
       "      <td>0.0</td>\n",
       "      <td>0.65</td>\n",
       "      <td>0.000000</td>\n",
       "      <td>0.0</td>\n",
       "      <td>0.0</td>\n",
       "      <td>0.0</td>\n",
       "      <td>-2.88600</td>\n",
       "      <td>40.0413</td>\n",
       "      <td>3.0</td>\n",
       "    </tr>\n",
       "  </tbody>\n",
       "</table>\n",
       "</div>"
      ],
      "text/plain": [
       "     Id        Date   Time  CO2_(dinning-room)  CO2_room  \\\n",
       "0  2764  18/04/2012  00:00             207.840   206.560   \n",
       "1  2765  18/04/2012  00:15             207.499   206.101   \n",
       "2  2766  18/04/2012  00:30             207.360   206.805   \n",
       "3  2767  18/04/2012  00:45             207.445   206.325   \n",
       "4  2768  18/04/2012  01:00             207.840   205.952   \n",
       "\n",
       "   Relative_humidity_(dinning-room)  Relative_humidity_room  \\\n",
       "0                           31.5800                 30.1600   \n",
       "1                           31.6240                 30.0613   \n",
       "2                           31.6507                 30.1773   \n",
       "3                           31.6987                 30.2560   \n",
       "4                           31.7707                 30.3840   \n",
       "\n",
       "   Lighting_(dinning-room)  Lighting_room  Meteo_Rain  Meteo_Sun_dusk  \\\n",
       "0                  11.7200        14.1600         0.0            0.65   \n",
       "1                  11.5240        14.7600         0.0            0.65   \n",
       "2                  11.6220        14.9547         0.0            0.65   \n",
       "3                  11.7847        15.0520         0.0            0.65   \n",
       "4                  11.5887        15.2147         0.0            0.65   \n",
       "\n",
       "   Meteo_Wind  Meteo_Sun_light_in_west_facade  Meteo_Sun_light_in_east_facade  \\\n",
       "0    0.000000                             0.0                             0.0   \n",
       "1    0.000000                             0.0                             0.0   \n",
       "2    0.088000                             0.0                             0.0   \n",
       "3    0.127333                             0.0                             0.0   \n",
       "4    0.000000                             0.0                             0.0   \n",
       "\n",
       "   Meteo_Sun_light_in_south_facade  Meteo_Sun_irradiance  \\\n",
       "0                              0.0              -3.12000   \n",
       "1                              0.0              -2.80800   \n",
       "2                              0.0              -2.96400   \n",
       "3                              0.0              -3.02933   \n",
       "4                              0.0              -2.88600   \n",
       "\n",
       "   Outdoor_relative_humidity_Sensor  Day_of_the_week  \n",
       "0                           39.0800              3.0  \n",
       "1                           38.9680              3.0  \n",
       "2                           38.9467              3.0  \n",
       "3                           39.0760              3.0  \n",
       "4                           40.0413              3.0  "
      ]
     },
     "execution_count": 12,
     "metadata": {},
     "output_type": "execute_result"
    }
   ],
   "source": [
    "test.head()"
   ]
  },
  {
   "cell_type": "code",
   "execution_count": 13,
   "id": "82d63e28",
   "metadata": {},
   "outputs": [],
   "source": [
    "# Drop the Id columns. We'll be indexing our dataframe by date/time.\n",
    "train.drop(columns = 'Id', inplace = True)\n",
    "test.drop(columns = 'Id', inplace = True)"
   ]
  },
  {
   "cell_type": "code",
   "execution_count": 14,
   "id": "fa8842f7",
   "metadata": {},
   "outputs": [
    {
     "data": {
      "text/plain": [
       "Index(['Date', 'Time', 'CO2_(dinning-room)', 'CO2_room',\n",
       "       'Relative_humidity_(dinning-room)', 'Relative_humidity_room',\n",
       "       'Lighting_(dinning-room)', 'Lighting_room', 'Meteo_Rain',\n",
       "       'Meteo_Sun_dusk', 'Meteo_Wind', 'Meteo_Sun_light_in_west_facade',\n",
       "       'Meteo_Sun_light_in_east_facade', 'Meteo_Sun_light_in_south_facade',\n",
       "       'Meteo_Sun_irradiance', 'Outdoor_relative_humidity_Sensor',\n",
       "       'Day_of_the_week', 'Indoor_temperature_room'],\n",
       "      dtype='object')"
      ]
     },
     "execution_count": 14,
     "metadata": {},
     "output_type": "execute_result"
    }
   ],
   "source": [
    "# We'd like these column names to be formatted differently.\n",
    "train.columns"
   ]
  },
  {
   "cell_type": "code",
   "execution_count": 15,
   "id": "cb963511",
   "metadata": {},
   "outputs": [
    {
     "data": {
      "text/plain": [
       "Index(['Date', 'Time', 'CO2_(dinning-room)', 'CO2_room',\n",
       "       'Relative_humidity_(dinning-room)', 'Relative_humidity_room',\n",
       "       'Lighting_(dinning-room)', 'Lighting_room', 'Meteo_Rain',\n",
       "       'Meteo_Sun_dusk', 'Meteo_Wind', 'Meteo_Sun_light_in_west_facade',\n",
       "       'Meteo_Sun_light_in_east_facade', 'Meteo_Sun_light_in_south_facade',\n",
       "       'Meteo_Sun_irradiance', 'Outdoor_relative_humidity_Sensor',\n",
       "       'Day_of_the_week'],\n",
       "      dtype='object')"
      ]
     },
     "execution_count": 15,
     "metadata": {},
     "output_type": "execute_result"
    }
   ],
   "source": [
    "test.columns"
   ]
  },
  {
   "cell_type": "code",
   "execution_count": 20,
   "id": "8caf2dbb",
   "metadata": {},
   "outputs": [],
   "source": [
    "# Function to reformat column names\n",
    "def column_renamer(df):\n",
    "    new_names = []\n",
    "    for column in df.columns:\n",
    "        new_name = column.lower() # Make column names lower case\n",
    "        \n",
    "        new_name = (new_name.replace('(', '').replace(')', '').replace('-', '_')\n",
    "        .replace('dinning', 'dining').replace('meteo_', '').replace('_sensor', '')) # Replaces parentheses, misspellings, etc.\n",
    "        \n",
    "        new_names.append(new_name)\n",
    "        mapper = dict(zip(df.columns, new_names))\n",
    "        df.rename(mapper, axis = 'columns', inplace = True)\n",
    "    return(df)"
   ]
  },
  {
   "cell_type": "code",
   "execution_count": 24,
   "id": "98c9c687",
   "metadata": {},
   "outputs": [
    {
     "data": {
      "text/plain": [
       "Index(['date', 'time', 'co2_dining_room', 'co2_room',\n",
       "       'relative_humidity_dining_room', 'relative_humidity_room',\n",
       "       'lighting_dining_room', 'lighting_room', 'rain', 'sun_dusk', 'wind',\n",
       "       'sun_light_in_west_facade', 'sun_light_in_east_facade',\n",
       "       'sun_light_in_south_facade', 'sun_irradiance',\n",
       "       'outdoor_relative_humidity', 'day_of_the_week',\n",
       "       'indoor_temperature_room'],\n",
       "      dtype='object')"
      ]
     },
     "execution_count": 24,
     "metadata": {},
     "output_type": "execute_result"
    }
   ],
   "source": [
    "column_renamer(train)\n",
    "train.columns"
   ]
  },
  {
   "cell_type": "code",
   "execution_count": 25,
   "id": "7256e10e",
   "metadata": {
    "scrolled": true
   },
   "outputs": [
    {
     "data": {
      "text/plain": [
       "Index(['date', 'time', 'co2_dining_room', 'co2_room',\n",
       "       'relative_humidity_dining_room', 'relative_humidity_room',\n",
       "       'lighting_dining_room', 'lighting_room', 'rain', 'sun_dusk', 'wind',\n",
       "       'sun_light_in_west_facade', 'sun_light_in_east_facade',\n",
       "       'sun_light_in_south_facade', 'sun_irradiance',\n",
       "       'outdoor_relative_humidity', 'day_of_the_week'],\n",
       "      dtype='object')"
      ]
     },
     "execution_count": 25,
     "metadata": {},
     "output_type": "execute_result"
    }
   ],
   "source": [
    "column_renamer(test)\n",
    "test.columns"
   ]
  },
  {
   "cell_type": "code",
   "execution_count": 26,
   "id": "6815823a",
   "metadata": {
    "scrolled": true
   },
   "outputs": [
    {
     "data": {
      "text/plain": [
       "336     16/03/2012 23:45\n",
       "2447    07/04/2012 23:30\n",
       "1313    27/03/2012 04:00\n",
       "1131    25/03/2012 06:30\n",
       "2248    05/04/2012 21:45\n",
       "2297    06/04/2012 10:00\n",
       "2122    04/04/2012 14:15\n",
       "766     21/03/2012 11:15\n",
       "811     21/03/2012 22:30\n",
       "454     18/03/2012 05:15\n",
       "Name: date_time, dtype: object"
      ]
     },
     "execution_count": 26,
     "metadata": {},
     "output_type": "execute_result"
    }
   ],
   "source": [
    "# Add a new column that combines the Date and Time columns. Drop the time column.\n",
    "train['date_time'] = train['date'] + ' ' + train['time']\n",
    "train.drop(columns = 'time', inplace = True)\n",
    "\n",
    "test['date_time'] = test['date'] + ' ' + test['time']\n",
    "test.drop(columns = 'time', inplace = True)\n",
    "\n",
    "train['date_time'].sample(10)"
   ]
  },
  {
   "cell_type": "code",
   "execution_count": 27,
   "id": "c03f3bca",
   "metadata": {},
   "outputs": [
    {
     "data": {
      "text/plain": [
       "774     26/04/2012 01:30\n",
       "808     26/04/2012 10:00\n",
       "1315    01/05/2012 16:45\n",
       "560     23/04/2012 20:00\n",
       "398     22/04/2012 03:30\n",
       "809     26/04/2012 10:15\n",
       "1316    01/05/2012 17:00\n",
       "783     26/04/2012 03:45\n",
       "125     19/04/2012 07:15\n",
       "43      18/04/2012 10:45\n",
       "Name: date_time, dtype: object"
      ]
     },
     "execution_count": 27,
     "metadata": {},
     "output_type": "execute_result"
    }
   ],
   "source": [
    "test['date_time'].sample(10)"
   ]
  },
  {
   "cell_type": "code",
   "execution_count": 28,
   "id": "5027b0a7",
   "metadata": {},
   "outputs": [
    {
     "data": {
      "text/plain": [
       "(date         object\n",
       " date_time    object\n",
       " dtype: object,\n",
       " date         object\n",
       " date_time    object\n",
       " dtype: object)"
      ]
     },
     "execution_count": 28,
     "metadata": {},
     "output_type": "execute_result"
    }
   ],
   "source": [
    "# These should be datetime objects.\n",
    "train[['date', 'date_time']].dtypes, test[['date', 'date_time']].dtypes"
   ]
  },
  {
   "cell_type": "code",
   "execution_count": 29,
   "id": "d46d3cb6",
   "metadata": {
    "scrolled": true
   },
   "outputs": [
    {
     "data": {
      "text/html": [
       "<div>\n",
       "<style scoped>\n",
       "    .dataframe tbody tr th:only-of-type {\n",
       "        vertical-align: middle;\n",
       "    }\n",
       "\n",
       "    .dataframe tbody tr th {\n",
       "        vertical-align: top;\n",
       "    }\n",
       "\n",
       "    .dataframe thead th {\n",
       "        text-align: right;\n",
       "    }\n",
       "</style>\n",
       "<table border=\"1\" class=\"dataframe\">\n",
       "  <thead>\n",
       "    <tr style=\"text-align: right;\">\n",
       "      <th></th>\n",
       "      <th>date</th>\n",
       "      <th>date_time</th>\n",
       "    </tr>\n",
       "  </thead>\n",
       "  <tbody>\n",
       "    <tr>\n",
       "      <th>1268</th>\n",
       "      <td>2012-03-26</td>\n",
       "      <td>2012-03-26 16:45:00</td>\n",
       "    </tr>\n",
       "    <tr>\n",
       "      <th>1446</th>\n",
       "      <td>2012-03-28</td>\n",
       "      <td>2012-03-28 13:15:00</td>\n",
       "    </tr>\n",
       "    <tr>\n",
       "      <th>828</th>\n",
       "      <td>2012-03-22</td>\n",
       "      <td>2012-03-22 02:45:00</td>\n",
       "    </tr>\n",
       "    <tr>\n",
       "      <th>1646</th>\n",
       "      <td>2012-03-30</td>\n",
       "      <td>2012-03-30 15:15:00</td>\n",
       "    </tr>\n",
       "    <tr>\n",
       "      <th>44</th>\n",
       "      <td>2012-03-13</td>\n",
       "      <td>2012-03-13 22:45:00</td>\n",
       "    </tr>\n",
       "    <tr>\n",
       "      <th>702</th>\n",
       "      <td>2012-03-20</td>\n",
       "      <td>2012-03-20 19:15:00</td>\n",
       "    </tr>\n",
       "    <tr>\n",
       "      <th>476</th>\n",
       "      <td>2012-03-18</td>\n",
       "      <td>2012-03-18 10:45:00</td>\n",
       "    </tr>\n",
       "    <tr>\n",
       "      <th>2082</th>\n",
       "      <td>2012-04-04</td>\n",
       "      <td>2012-04-04 04:15:00</td>\n",
       "    </tr>\n",
       "    <tr>\n",
       "      <th>2340</th>\n",
       "      <td>2012-04-06</td>\n",
       "      <td>2012-04-06 20:45:00</td>\n",
       "    </tr>\n",
       "    <tr>\n",
       "      <th>2609</th>\n",
       "      <td>2012-04-09</td>\n",
       "      <td>2012-04-09 16:00:00</td>\n",
       "    </tr>\n",
       "  </tbody>\n",
       "</table>\n",
       "</div>"
      ],
      "text/plain": [
       "           date           date_time\n",
       "1268 2012-03-26 2012-03-26 16:45:00\n",
       "1446 2012-03-28 2012-03-28 13:15:00\n",
       "828  2012-03-22 2012-03-22 02:45:00\n",
       "1646 2012-03-30 2012-03-30 15:15:00\n",
       "44   2012-03-13 2012-03-13 22:45:00\n",
       "702  2012-03-20 2012-03-20 19:15:00\n",
       "476  2012-03-18 2012-03-18 10:45:00\n",
       "2082 2012-04-04 2012-04-04 04:15:00\n",
       "2340 2012-04-06 2012-04-06 20:45:00\n",
       "2609 2012-04-09 2012-04-09 16:00:00"
      ]
     },
     "execution_count": 29,
     "metadata": {},
     "output_type": "execute_result"
    }
   ],
   "source": [
    "# Change Date and Date_time columns to be datetime objects instead of strings.\n",
    "train['date'] = pd.to_datetime(train['date'], format = '%d/%m/%Y')\n",
    "train['date_time'] = pd.to_datetime(train['date_time'], format = \"%d/%m/%Y %H:%M\")\n",
    "\n",
    "test['date'] = pd.to_datetime(test['date'], format = '%d/%m/%Y')\n",
    "test['date_time'] = pd.to_datetime(test['date_time'], format = \"%d/%m/%Y %H:%M\")\n",
    "\n",
    "train[['date', 'date_time']].sample(10)"
   ]
  },
  {
   "cell_type": "code",
   "execution_count": 30,
   "id": "bd506f95",
   "metadata": {},
   "outputs": [
    {
     "data": {
      "text/html": [
       "<div>\n",
       "<style scoped>\n",
       "    .dataframe tbody tr th:only-of-type {\n",
       "        vertical-align: middle;\n",
       "    }\n",
       "\n",
       "    .dataframe tbody tr th {\n",
       "        vertical-align: top;\n",
       "    }\n",
       "\n",
       "    .dataframe thead th {\n",
       "        text-align: right;\n",
       "    }\n",
       "</style>\n",
       "<table border=\"1\" class=\"dataframe\">\n",
       "  <thead>\n",
       "    <tr style=\"text-align: right;\">\n",
       "      <th></th>\n",
       "      <th>date</th>\n",
       "      <th>date_time</th>\n",
       "    </tr>\n",
       "  </thead>\n",
       "  <tbody>\n",
       "    <tr>\n",
       "      <th>30</th>\n",
       "      <td>2012-04-18</td>\n",
       "      <td>2012-04-18 07:30:00</td>\n",
       "    </tr>\n",
       "    <tr>\n",
       "      <th>871</th>\n",
       "      <td>2012-04-27</td>\n",
       "      <td>2012-04-27 01:45:00</td>\n",
       "    </tr>\n",
       "    <tr>\n",
       "      <th>912</th>\n",
       "      <td>2012-04-27</td>\n",
       "      <td>2012-04-27 12:00:00</td>\n",
       "    </tr>\n",
       "    <tr>\n",
       "      <th>146</th>\n",
       "      <td>2012-04-19</td>\n",
       "      <td>2012-04-19 12:30:00</td>\n",
       "    </tr>\n",
       "    <tr>\n",
       "      <th>712</th>\n",
       "      <td>2012-04-25</td>\n",
       "      <td>2012-04-25 10:00:00</td>\n",
       "    </tr>\n",
       "    <tr>\n",
       "      <th>539</th>\n",
       "      <td>2012-04-23</td>\n",
       "      <td>2012-04-23 14:45:00</td>\n",
       "    </tr>\n",
       "    <tr>\n",
       "      <th>918</th>\n",
       "      <td>2012-04-27</td>\n",
       "      <td>2012-04-27 13:30:00</td>\n",
       "    </tr>\n",
       "    <tr>\n",
       "      <th>460</th>\n",
       "      <td>2012-04-22</td>\n",
       "      <td>2012-04-22 19:00:00</td>\n",
       "    </tr>\n",
       "    <tr>\n",
       "      <th>93</th>\n",
       "      <td>2012-04-18</td>\n",
       "      <td>2012-04-18 23:15:00</td>\n",
       "    </tr>\n",
       "    <tr>\n",
       "      <th>649</th>\n",
       "      <td>2012-04-24</td>\n",
       "      <td>2012-04-24 18:15:00</td>\n",
       "    </tr>\n",
       "  </tbody>\n",
       "</table>\n",
       "</div>"
      ],
      "text/plain": [
       "          date           date_time\n",
       "30  2012-04-18 2012-04-18 07:30:00\n",
       "871 2012-04-27 2012-04-27 01:45:00\n",
       "912 2012-04-27 2012-04-27 12:00:00\n",
       "146 2012-04-19 2012-04-19 12:30:00\n",
       "712 2012-04-25 2012-04-25 10:00:00\n",
       "539 2012-04-23 2012-04-23 14:45:00\n",
       "918 2012-04-27 2012-04-27 13:30:00\n",
       "460 2012-04-22 2012-04-22 19:00:00\n",
       "93  2012-04-18 2012-04-18 23:15:00\n",
       "649 2012-04-24 2012-04-24 18:15:00"
      ]
     },
     "execution_count": 30,
     "metadata": {},
     "output_type": "execute_result"
    }
   ],
   "source": [
    "test[['date', 'date_time']].sample(10)"
   ]
  },
  {
   "cell_type": "code",
   "execution_count": 31,
   "id": "d48fe980",
   "metadata": {},
   "outputs": [
    {
     "data": {
      "text/plain": [
       "(date                             datetime64[ns]\n",
       " co2_dining_room                         float64\n",
       " co2_room                                float64\n",
       " relative_humidity_dining_room           float64\n",
       " relative_humidity_room                  float64\n",
       " lighting_dining_room                    float64\n",
       " lighting_room                           float64\n",
       " rain                                    float64\n",
       " sun_dusk                                float64\n",
       " wind                                    float64\n",
       " sun_light_in_west_facade                float64\n",
       " sun_light_in_east_facade                float64\n",
       " sun_light_in_south_facade               float64\n",
       " sun_irradiance                          float64\n",
       " outdoor_relative_humidity               float64\n",
       " day_of_the_week                         float64\n",
       " indoor_temperature_room                 float64\n",
       " date_time                        datetime64[ns]\n",
       " dtype: object,\n",
       " date                             datetime64[ns]\n",
       " co2_dining_room                         float64\n",
       " co2_room                                float64\n",
       " relative_humidity_dining_room           float64\n",
       " relative_humidity_room                  float64\n",
       " lighting_dining_room                    float64\n",
       " lighting_room                           float64\n",
       " rain                                    float64\n",
       " sun_dusk                                float64\n",
       " wind                                    float64\n",
       " sun_light_in_west_facade                float64\n",
       " sun_light_in_east_facade                float64\n",
       " sun_light_in_south_facade               float64\n",
       " sun_irradiance                          float64\n",
       " outdoor_relative_humidity               float64\n",
       " day_of_the_week                         float64\n",
       " date_time                        datetime64[ns]\n",
       " dtype: object)"
      ]
     },
     "execution_count": 31,
     "metadata": {},
     "output_type": "execute_result"
    }
   ],
   "source": [
    "train.dtypes, test.dtypes"
   ]
  },
  {
   "cell_type": "markdown",
   "id": "3a93a317",
   "metadata": {},
   "source": [
    "### **Section 3: Data Validation**\n",
    "\n",
    "Now we'll inspect the contents of our columns to make sure the data makes sense. We know there are no missing values, but we need to make sure the data isn't invalid in other ways. For example, we shouldn't see negative values in columns like the co2 columns, which are in parts per million. We also need to see if any measurements were skipped. They should occur every fifteen minutes."
   ]
  },
  {
   "cell_type": "code",
   "execution_count": 32,
   "id": "69bf91cb",
   "metadata": {},
   "outputs": [
    {
     "data": {
      "text/plain": [
       "(Timedelta('0 days 00:15:00'), Timedelta('0 days 00:15:00'))"
      ]
     },
     "execution_count": 32,
     "metadata": {},
     "output_type": "execute_result"
    }
   ],
   "source": [
    "# Measurements are supposed to have been taken every 15 minutes. Let's find out if any rows are missing.\n",
    "# .diff() takes the difference between each row and the previous row.\n",
    "train['date_time'].diff().drop([0]).max(), train['date_time'].diff().drop([0]).min()"
   ]
  },
  {
   "cell_type": "code",
   "execution_count": 33,
   "id": "818719d6",
   "metadata": {},
   "outputs": [
    {
     "data": {
      "text/plain": [
       "(Timedelta('0 days 00:30:00'), Timedelta('0 days 00:15:00'))"
      ]
     },
     "execution_count": 33,
     "metadata": {},
     "output_type": "execute_result"
    }
   ],
   "source": [
    "test['date_time'].diff().drop([0]).max(), test['date_time'].diff().drop([0]).min()"
   ]
  },
  {
   "cell_type": "markdown",
   "id": "16b6d11d",
   "metadata": {},
   "source": [
    "Train is fine, meaning the maximum and minimum difference in time between any two subsequent measurments is 15 minutes. In the test set it looks like there is a maximum difference of 30 minutes, meaning at least one measurement was likely skipped. We must investigate this."
   ]
  },
  {
   "cell_type": "code",
   "execution_count": 34,
   "id": "5935cb9c",
   "metadata": {},
   "outputs": [
    {
     "data": {
      "text/plain": [
       "1362   0 days 00:30:00\n",
       "1356   0 days 00:30:00\n",
       "912    0 days 00:15:00\n",
       "920    0 days 00:15:00\n",
       "919    0 days 00:15:00\n",
       "             ...      \n",
       "456    0 days 00:15:00\n",
       "455    0 days 00:15:00\n",
       "454    0 days 00:15:00\n",
       "453    0 days 00:15:00\n",
       "1372   0 days 00:15:00\n",
       "Name: date_time, Length: 1372, dtype: timedelta64[ns]"
      ]
     },
     "execution_count": 34,
     "metadata": {},
     "output_type": "execute_result"
    }
   ],
   "source": [
    "# There are two instances of a gap of 30 minutes between measurements\n",
    "test['date_time'].diff().drop([0]).sort_values(ascending = False)"
   ]
  },
  {
   "cell_type": "code",
   "execution_count": 35,
   "id": "0b0e41cf",
   "metadata": {},
   "outputs": [
    {
     "data": {
      "text/plain": [
       "1355   2012-05-02 02:45:00\n",
       "1356   2012-05-02 03:15:00\n",
       "1357   2012-05-02 03:30:00\n",
       "1358   2012-05-02 03:45:00\n",
       "1359   2012-05-02 04:00:00\n",
       "1360   2012-05-02 04:15:00\n",
       "1361   2012-05-02 04:30:00\n",
       "1362   2012-05-02 05:00:00\n",
       "Name: date_time, dtype: datetime64[ns]"
      ]
     },
     "execution_count": 35,
     "metadata": {},
     "output_type": "execute_result"
    }
   ],
   "source": [
    "# Our culprits both occur on May 2, from 02:45 to 3:15, and again from 4:30 to 5:00.\n",
    "test['date_time'].iloc[1355:1363]"
   ]
  },
  {
   "cell_type": "markdown",
   "id": "81e292aa",
   "metadata": {},
   "source": [
    "There are different strategies for imputing missing data. In non time series data sets, common strategies include imputing the mean or median values for the missing values. For a time series data set like ours, strategies include duplicating the last value, duplicating the next value, linear interpolation, and 'spline' interpolation, where the goal is to minimize the curvature of the imputed data point. Another strategy common to all data sets is to simply drop the missing values. In our current situation, we're only missing 2 out of 1373 data points. Our intutions about weather and temperature lead us to believe that it's very unlikely to be suprised by radical deviations in fifteen minute or half hour intervals (in other words, our data has high autocorrelation which we'll see in the EDA section). Therefore, if this data was missing in the sense of NaN values or invalid values, we would drop those two rows. The rows have already been dropped for us by the uploaders. We will not attempt to impute any values."
   ]
  },
  {
   "cell_type": "code",
   "execution_count": 36,
   "id": "bc42b1a7",
   "metadata": {},
   "outputs": [],
   "source": [
    "# Function to check if the minimum values of the numeric data types are above zero\n",
    "def min_max_checker(df):\n",
    "    invalid_value_columns = []\n",
    "    for column in df.columns:\n",
    "        try:\n",
    "            df[column][0] + 1 # Checks to see if column is of numeric type\n",
    "            if df[column].min() < 0: # If it is numeric, and if the minimum value is below zero, add it to the list\n",
    "                invalid_value_columns.append(column)\n",
    "        except:\n",
    "            pass # Does nothing if the column is not numeric\n",
    "    return(invalid_value_columns) # Return a list of columns with minimum values below zero."
   ]
  },
  {
   "cell_type": "code",
   "execution_count": 37,
   "id": "c8d3cffd",
   "metadata": {},
   "outputs": [
    {
     "data": {
      "text/plain": [
       "(['sun_irradiance'], ['sun_irradiance'])"
      ]
     },
     "execution_count": 37,
     "metadata": {},
     "output_type": "execute_result"
    }
   ],
   "source": [
    "min_max_checker(train), min_max_checker(test)"
   ]
  },
  {
   "cell_type": "code",
   "execution_count": 38,
   "id": "5f74de90",
   "metadata": {},
   "outputs": [
    {
     "data": {
      "text/plain": [
       "count    2764.000000\n",
       "mean      215.010017\n",
       "std       297.234046\n",
       "min        -4.164670\n",
       "25%        -3.381330\n",
       "50%         3.922000\n",
       "75%       435.434500\n",
       "max      1028.270000\n",
       "Name: sun_irradiance, dtype: float64"
      ]
     },
     "execution_count": 38,
     "metadata": {},
     "output_type": "execute_result"
    }
   ],
   "source": [
    "train['sun_irradiance'].describe()"
   ]
  },
  {
   "cell_type": "code",
   "execution_count": 39,
   "id": "764b9ea4",
   "metadata": {},
   "outputs": [
    {
     "data": {
      "text/plain": [
       "count    1373.000000\n",
       "mean      266.816322\n",
       "std       338.532417\n",
       "min        -3.708000\n",
       "25%        -3.042000\n",
       "50%        35.816000\n",
       "75%       566.293000\n",
       "max      1094.660000\n",
       "Name: sun_irradiance, dtype: float64"
      ]
     },
     "execution_count": 39,
     "metadata": {},
     "output_type": "execute_result"
    }
   ],
   "source": [
    "test['sun_irradiance'].describe()"
   ]
  },
  {
   "cell_type": "code",
   "execution_count": 40,
   "id": "6d36f2e1",
   "metadata": {},
   "outputs": [
    {
     "name": "stdout",
     "output_type": "stream",
     "text": [
      "49.13 percent of the training irradiance readings are below zero.\n"
     ]
    }
   ],
   "source": [
    "# At least 25% of irradiance values are negative. Let's see exactly what proportion of irradiance's values are negative.\n",
    "negative_irrad_rows = len(train[train['sun_irradiance'] < 0])\n",
    "all_rows = len(train)\n",
    "print(round(negative_irrad_rows / all_rows * 100, 2), 'percent of the training irradiance readings are below zero.')"
   ]
  },
  {
   "cell_type": "code",
   "execution_count": 41,
   "id": "cc49eaf2",
   "metadata": {},
   "outputs": [
    {
     "name": "stdout",
     "output_type": "stream",
     "text": [
      "44.28 percent of the testing irradiance readings are below zero.\n"
     ]
    }
   ],
   "source": [
    "negative_irrad_rows = len(test[test['sun_irradiance'] < 0])\n",
    "all_rows = len(test)\n",
    "print(round(negative_irrad_rows / all_rows * 100, 2), 'percent of the testing irradiance readings are below zero.')"
   ]
  },
  {
   "cell_type": "markdown",
   "id": "b92686d8",
   "metadata": {},
   "source": [
    "Upon cursory investigation, it seems to be relatively common to have small negative irradiance values. The reason for this might be because the value is recorded on a log scale, with an arbitrary zero point at, say, dawn or dusk. At night (which comprises roughly half of the measurments), the absence of sun falls results in low points of irradiance that fall just below the arbitrary zero point, meaning the value of the exponent variable is negative. During the day, it is vastly higher.\n",
    "\n",
    "Posts that lead to this conclusion:\n",
    "\n",
    "https://unmethours.com/question/13731/negative-and-positive-values-of-solar-radiation-during-night/\n",
    "https://www.researchgate.net/post/Its_normal_to_have_negative_values_of_irradiance_in_a_database"
   ]
  },
  {
   "cell_type": "code",
   "execution_count": 42,
   "id": "6052af9d",
   "metadata": {},
   "outputs": [],
   "source": [
    "# Lastly, we'll set the indices of the train and test sets to be our date_time columns.\n",
    "train.set_index('date_time', inplace = True)\n",
    "test.set_index('date_time', inplace = True)"
   ]
  },
  {
   "cell_type": "code",
   "execution_count": 43,
   "id": "8b1dfac8",
   "metadata": {},
   "outputs": [],
   "source": [
    "# Save cleaned version of the data.\n",
    "train.to_csv('../Data/train_cleaned.csv')\n",
    "test.to_csv('../Data/test_cleaned.csv')"
   ]
  },
  {
   "cell_type": "markdown",
   "id": "2be2a491",
   "metadata": {},
   "source": [
    "# Summary\n",
    "\n",
    "Here is a summary of the changes we have made to the data so far:\n",
    "\n",
    "1) Made combined date_time columns out of the date and time columns,\n",
    "\n",
    "2) Changed the data types of the date and date_time columns to be datetime objects,\n",
    "\n",
    "3) Deleted the time and Id columns,\n",
    "\n",
    "4) Set the indices of our dataframes to be the combined date_time columns,\n",
    "\n",
    "5) Fixed spelling errors and in general made the column name formatting consistent and less verbose.\n",
    "\n",
    "\n",
    "The data was quite clean when it came to us. There were no missing values in the form of NaN's we needed to deal with. We further confirmed that the columns weren't missing values in other ways by observing the maximum and minimum values of the differences between each row. Train had no more and no less than a 15 minute difference between two subsequent rows, and test only had two instances 30 minutes between two subsequent rows (two missing values). These were safe to leave be. Lastly, we made sure that no column had negative values that wasn't supposed to have negative values. "
   ]
  }
 ],
 "metadata": {
  "kernelspec": {
   "display_name": "Python 3 (ipykernel)",
   "language": "python",
   "name": "python3"
  },
  "language_info": {
   "codemirror_mode": {
    "name": "ipython",
    "version": 3
   },
   "file_extension": ".py",
   "mimetype": "text/x-python",
   "name": "python",
   "nbconvert_exporter": "python",
   "pygments_lexer": "ipython3",
   "version": "3.8.8"
  }
 },
 "nbformat": 4,
 "nbformat_minor": 5
}
