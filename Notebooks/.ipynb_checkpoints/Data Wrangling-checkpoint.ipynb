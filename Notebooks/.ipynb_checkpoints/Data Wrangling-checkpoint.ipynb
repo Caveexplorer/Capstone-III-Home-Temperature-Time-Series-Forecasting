{
 "cells": [
  {
   "cell_type": "markdown",
   "id": "d7b972e3",
   "metadata": {},
   "source": [
    "# **Capstone III Data Wrangling**"
   ]
  },
  {
   "cell_type": "markdown",
   "id": "6a18f469",
   "metadata": {},
   "source": [
    "### **Section 1: Imports and Initial Inspection**"
   ]
  },
  {
   "cell_type": "code",
   "execution_count": 71,
   "id": "1e9a285c",
   "metadata": {},
   "outputs": [],
   "source": [
    "import pandas as pd\n",
    "import matplotlib.pyplot as plt\n",
    "import numpy as np\n",
    "from datetime import datetime"
   ]
  },
  {
   "cell_type": "code",
   "execution_count": 2,
   "id": "9f6538a5",
   "metadata": {},
   "outputs": [],
   "source": [
    "house_measurements = pd.read_csv(\"../Raw Data/train.csv\")"
   ]
  },
  {
   "cell_type": "code",
   "execution_count": 3,
   "id": "9ab0f80d",
   "metadata": {},
   "outputs": [
    {
     "data": {
      "text/html": [
       "<div>\n",
       "<style scoped>\n",
       "    .dataframe tbody tr th:only-of-type {\n",
       "        vertical-align: middle;\n",
       "    }\n",
       "\n",
       "    .dataframe tbody tr th {\n",
       "        vertical-align: top;\n",
       "    }\n",
       "\n",
       "    .dataframe thead th {\n",
       "        text-align: right;\n",
       "    }\n",
       "</style>\n",
       "<table border=\"1\" class=\"dataframe\">\n",
       "  <thead>\n",
       "    <tr style=\"text-align: right;\">\n",
       "      <th></th>\n",
       "      <th>Id</th>\n",
       "      <th>Date</th>\n",
       "      <th>Time</th>\n",
       "      <th>CO2_(dinning-room)</th>\n",
       "      <th>CO2_room</th>\n",
       "      <th>Relative_humidity_(dinning-room)</th>\n",
       "      <th>Relative_humidity_room</th>\n",
       "      <th>Lighting_(dinning-room)</th>\n",
       "      <th>Lighting_room</th>\n",
       "      <th>Meteo_Rain</th>\n",
       "      <th>Meteo_Sun_dusk</th>\n",
       "      <th>Meteo_Wind</th>\n",
       "      <th>Meteo_Sun_light_in_west_facade</th>\n",
       "      <th>Meteo_Sun_light_in_east_facade</th>\n",
       "      <th>Meteo_Sun_light_in_south_facade</th>\n",
       "      <th>Meteo_Sun_irradiance</th>\n",
       "      <th>Outdoor_relative_humidity_Sensor</th>\n",
       "      <th>Day_of_the_week</th>\n",
       "      <th>Indoor_temperature_room</th>\n",
       "    </tr>\n",
       "  </thead>\n",
       "  <tbody>\n",
       "    <tr>\n",
       "      <th>0</th>\n",
       "      <td>0</td>\n",
       "      <td>13/03/2012</td>\n",
       "      <td>11:45</td>\n",
       "      <td>216.560</td>\n",
       "      <td>221.920</td>\n",
       "      <td>39.9125</td>\n",
       "      <td>42.4150</td>\n",
       "      <td>81.6650</td>\n",
       "      <td>113.520</td>\n",
       "      <td>0.0</td>\n",
       "      <td>623.360</td>\n",
       "      <td>1.42625</td>\n",
       "      <td>9690.24</td>\n",
       "      <td>12604.20</td>\n",
       "      <td>95436.8</td>\n",
       "      <td>758.880</td>\n",
       "      <td>48.3750</td>\n",
       "      <td>2.0</td>\n",
       "      <td>17.8275</td>\n",
       "    </tr>\n",
       "    <tr>\n",
       "      <th>1</th>\n",
       "      <td>1</td>\n",
       "      <td>13/03/2012</td>\n",
       "      <td>12:00</td>\n",
       "      <td>219.947</td>\n",
       "      <td>220.363</td>\n",
       "      <td>39.9267</td>\n",
       "      <td>42.2453</td>\n",
       "      <td>81.7413</td>\n",
       "      <td>113.605</td>\n",
       "      <td>0.0</td>\n",
       "      <td>623.211</td>\n",
       "      <td>1.59200</td>\n",
       "      <td>11022.00</td>\n",
       "      <td>10787.20</td>\n",
       "      <td>95436.8</td>\n",
       "      <td>762.069</td>\n",
       "      <td>47.8080</td>\n",
       "      <td>2.0</td>\n",
       "      <td>18.1207</td>\n",
       "    </tr>\n",
       "    <tr>\n",
       "      <th>2</th>\n",
       "      <td>2</td>\n",
       "      <td>13/03/2012</td>\n",
       "      <td>12:15</td>\n",
       "      <td>219.403</td>\n",
       "      <td>218.933</td>\n",
       "      <td>39.7720</td>\n",
       "      <td>42.2267</td>\n",
       "      <td>81.4240</td>\n",
       "      <td>113.600</td>\n",
       "      <td>0.0</td>\n",
       "      <td>622.656</td>\n",
       "      <td>1.89133</td>\n",
       "      <td>13960.50</td>\n",
       "      <td>9669.63</td>\n",
       "      <td>95398.6</td>\n",
       "      <td>766.251</td>\n",
       "      <td>47.4320</td>\n",
       "      <td>2.0</td>\n",
       "      <td>18.4367</td>\n",
       "    </tr>\n",
       "    <tr>\n",
       "      <th>3</th>\n",
       "      <td>3</td>\n",
       "      <td>13/03/2012</td>\n",
       "      <td>12:30</td>\n",
       "      <td>218.613</td>\n",
       "      <td>217.045</td>\n",
       "      <td>39.7760</td>\n",
       "      <td>42.0987</td>\n",
       "      <td>81.5013</td>\n",
       "      <td>113.344</td>\n",
       "      <td>0.0</td>\n",
       "      <td>622.571</td>\n",
       "      <td>1.82800</td>\n",
       "      <td>18511.20</td>\n",
       "      <td>9648.13</td>\n",
       "      <td>95360.3</td>\n",
       "      <td>766.037</td>\n",
       "      <td>47.0240</td>\n",
       "      <td>2.0</td>\n",
       "      <td>18.7513</td>\n",
       "    </tr>\n",
       "    <tr>\n",
       "      <th>4</th>\n",
       "      <td>4</td>\n",
       "      <td>13/03/2012</td>\n",
       "      <td>12:45</td>\n",
       "      <td>217.714</td>\n",
       "      <td>216.080</td>\n",
       "      <td>39.7757</td>\n",
       "      <td>42.0686</td>\n",
       "      <td>81.4657</td>\n",
       "      <td>113.034</td>\n",
       "      <td>0.0</td>\n",
       "      <td>622.400</td>\n",
       "      <td>2.36071</td>\n",
       "      <td>26349.00</td>\n",
       "      <td>9208.32</td>\n",
       "      <td>95354.9</td>\n",
       "      <td>762.743</td>\n",
       "      <td>45.4743</td>\n",
       "      <td>2.0</td>\n",
       "      <td>19.0414</td>\n",
       "    </tr>\n",
       "  </tbody>\n",
       "</table>\n",
       "</div>"
      ],
      "text/plain": [
       "   Id        Date   Time  CO2_(dinning-room)  CO2_room  \\\n",
       "0   0  13/03/2012  11:45             216.560   221.920   \n",
       "1   1  13/03/2012  12:00             219.947   220.363   \n",
       "2   2  13/03/2012  12:15             219.403   218.933   \n",
       "3   3  13/03/2012  12:30             218.613   217.045   \n",
       "4   4  13/03/2012  12:45             217.714   216.080   \n",
       "\n",
       "   Relative_humidity_(dinning-room)  Relative_humidity_room  \\\n",
       "0                           39.9125                 42.4150   \n",
       "1                           39.9267                 42.2453   \n",
       "2                           39.7720                 42.2267   \n",
       "3                           39.7760                 42.0987   \n",
       "4                           39.7757                 42.0686   \n",
       "\n",
       "   Lighting_(dinning-room)  Lighting_room  Meteo_Rain  Meteo_Sun_dusk  \\\n",
       "0                  81.6650        113.520         0.0         623.360   \n",
       "1                  81.7413        113.605         0.0         623.211   \n",
       "2                  81.4240        113.600         0.0         622.656   \n",
       "3                  81.5013        113.344         0.0         622.571   \n",
       "4                  81.4657        113.034         0.0         622.400   \n",
       "\n",
       "   Meteo_Wind  Meteo_Sun_light_in_west_facade  Meteo_Sun_light_in_east_facade  \\\n",
       "0     1.42625                         9690.24                        12604.20   \n",
       "1     1.59200                        11022.00                        10787.20   \n",
       "2     1.89133                        13960.50                         9669.63   \n",
       "3     1.82800                        18511.20                         9648.13   \n",
       "4     2.36071                        26349.00                         9208.32   \n",
       "\n",
       "   Meteo_Sun_light_in_south_facade  Meteo_Sun_irradiance  \\\n",
       "0                          95436.8               758.880   \n",
       "1                          95436.8               762.069   \n",
       "2                          95398.6               766.251   \n",
       "3                          95360.3               766.037   \n",
       "4                          95354.9               762.743   \n",
       "\n",
       "   Outdoor_relative_humidity_Sensor  Day_of_the_week  Indoor_temperature_room  \n",
       "0                           48.3750              2.0                  17.8275  \n",
       "1                           47.8080              2.0                  18.1207  \n",
       "2                           47.4320              2.0                  18.4367  \n",
       "3                           47.0240              2.0                  18.7513  \n",
       "4                           45.4743              2.0                  19.0414  "
      ]
     },
     "execution_count": 3,
     "metadata": {},
     "output_type": "execute_result"
    }
   ],
   "source": [
    "house_measurements.head()"
   ]
  },
  {
   "cell_type": "code",
   "execution_count": 4,
   "id": "65434717",
   "metadata": {},
   "outputs": [
    {
     "data": {
      "text/plain": [
       "(2764, 19)"
      ]
     },
     "execution_count": 4,
     "metadata": {},
     "output_type": "execute_result"
    }
   ],
   "source": [
    "house_measurements.shape"
   ]
  },
  {
   "cell_type": "code",
   "execution_count": 5,
   "id": "310c7175",
   "metadata": {
    "scrolled": true
   },
   "outputs": [
    {
     "data": {
      "text/plain": [
       "Id                                    int64\n",
       "Date                                 object\n",
       "Time                                 object\n",
       "CO2_(dinning-room)                  float64\n",
       "CO2_room                            float64\n",
       "Relative_humidity_(dinning-room)    float64\n",
       "Relative_humidity_room              float64\n",
       "Lighting_(dinning-room)             float64\n",
       "Lighting_room                       float64\n",
       "Meteo_Rain                          float64\n",
       "Meteo_Sun_dusk                      float64\n",
       "Meteo_Wind                          float64\n",
       "Meteo_Sun_light_in_west_facade      float64\n",
       "Meteo_Sun_light_in_east_facade      float64\n",
       "Meteo_Sun_light_in_south_facade     float64\n",
       "Meteo_Sun_irradiance                float64\n",
       "Outdoor_relative_humidity_Sensor    float64\n",
       "Day_of_the_week                     float64\n",
       "Indoor_temperature_room             float64\n",
       "dtype: object"
      ]
     },
     "execution_count": 5,
     "metadata": {},
     "output_type": "execute_result"
    }
   ],
   "source": [
    "# With the exception of Date and Time, all columns are the correct data type\n",
    "house_measurements.dtypes"
   ]
  },
  {
   "cell_type": "code",
   "execution_count": 6,
   "id": "2a4f1cef",
   "metadata": {
    "scrolled": true
   },
   "outputs": [
    {
     "data": {
      "text/plain": [
       "Id                                  0\n",
       "Date                                0\n",
       "Time                                0\n",
       "CO2_(dinning-room)                  0\n",
       "CO2_room                            0\n",
       "Relative_humidity_(dinning-room)    0\n",
       "Relative_humidity_room              0\n",
       "Lighting_(dinning-room)             0\n",
       "Lighting_room                       0\n",
       "Meteo_Rain                          0\n",
       "Meteo_Sun_dusk                      0\n",
       "Meteo_Wind                          0\n",
       "Meteo_Sun_light_in_west_facade      0\n",
       "Meteo_Sun_light_in_east_facade      0\n",
       "Meteo_Sun_light_in_south_facade     0\n",
       "Meteo_Sun_irradiance                0\n",
       "Outdoor_relative_humidity_Sensor    0\n",
       "Day_of_the_week                     0\n",
       "Indoor_temperature_room             0\n",
       "dtype: int64"
      ]
     },
     "execution_count": 6,
     "metadata": {},
     "output_type": "execute_result"
    }
   ],
   "source": [
    "# No NaN values\n",
    "house_measurements.isna().sum()"
   ]
  },
  {
   "cell_type": "markdown",
   "id": "f82afd1b",
   "metadata": {},
   "source": [
    "### **Section 2: Format Changes**\n",
    "\n",
    "Here we'll make some format changes. This includes creating a combined date and time column, changing the data types of the date columns, and changing column names."
   ]
  },
  {
   "cell_type": "code",
   "execution_count": 7,
   "id": "15246115",
   "metadata": {
    "scrolled": true
   },
   "outputs": [
    {
     "data": {
      "text/html": [
       "<div>\n",
       "<style scoped>\n",
       "    .dataframe tbody tr th:only-of-type {\n",
       "        vertical-align: middle;\n",
       "    }\n",
       "\n",
       "    .dataframe tbody tr th {\n",
       "        vertical-align: top;\n",
       "    }\n",
       "\n",
       "    .dataframe thead th {\n",
       "        text-align: right;\n",
       "    }\n",
       "</style>\n",
       "<table border=\"1\" class=\"dataframe\">\n",
       "  <thead>\n",
       "    <tr style=\"text-align: right;\">\n",
       "      <th></th>\n",
       "      <th>Id</th>\n",
       "      <th>Date</th>\n",
       "      <th>Time</th>\n",
       "      <th>CO2_(dinning-room)</th>\n",
       "      <th>CO2_room</th>\n",
       "      <th>Relative_humidity_(dinning-room)</th>\n",
       "      <th>Relative_humidity_room</th>\n",
       "      <th>Lighting_(dinning-room)</th>\n",
       "      <th>Lighting_room</th>\n",
       "      <th>Meteo_Rain</th>\n",
       "      <th>Meteo_Sun_dusk</th>\n",
       "      <th>Meteo_Wind</th>\n",
       "      <th>Meteo_Sun_light_in_west_facade</th>\n",
       "      <th>Meteo_Sun_light_in_east_facade</th>\n",
       "      <th>Meteo_Sun_light_in_south_facade</th>\n",
       "      <th>Meteo_Sun_irradiance</th>\n",
       "      <th>Outdoor_relative_humidity_Sensor</th>\n",
       "      <th>Day_of_the_week</th>\n",
       "      <th>Indoor_temperature_room</th>\n",
       "    </tr>\n",
       "  </thead>\n",
       "  <tbody>\n",
       "    <tr>\n",
       "      <th>0</th>\n",
       "      <td>0</td>\n",
       "      <td>13/03/2012</td>\n",
       "      <td>11:45</td>\n",
       "      <td>216.560</td>\n",
       "      <td>221.920</td>\n",
       "      <td>39.9125</td>\n",
       "      <td>42.4150</td>\n",
       "      <td>81.6650</td>\n",
       "      <td>113.520</td>\n",
       "      <td>0.0</td>\n",
       "      <td>623.360</td>\n",
       "      <td>1.42625</td>\n",
       "      <td>9690.24</td>\n",
       "      <td>12604.20</td>\n",
       "      <td>95436.8</td>\n",
       "      <td>758.880</td>\n",
       "      <td>48.3750</td>\n",
       "      <td>2.0</td>\n",
       "      <td>17.8275</td>\n",
       "    </tr>\n",
       "    <tr>\n",
       "      <th>1</th>\n",
       "      <td>1</td>\n",
       "      <td>13/03/2012</td>\n",
       "      <td>12:00</td>\n",
       "      <td>219.947</td>\n",
       "      <td>220.363</td>\n",
       "      <td>39.9267</td>\n",
       "      <td>42.2453</td>\n",
       "      <td>81.7413</td>\n",
       "      <td>113.605</td>\n",
       "      <td>0.0</td>\n",
       "      <td>623.211</td>\n",
       "      <td>1.59200</td>\n",
       "      <td>11022.00</td>\n",
       "      <td>10787.20</td>\n",
       "      <td>95436.8</td>\n",
       "      <td>762.069</td>\n",
       "      <td>47.8080</td>\n",
       "      <td>2.0</td>\n",
       "      <td>18.1207</td>\n",
       "    </tr>\n",
       "    <tr>\n",
       "      <th>2</th>\n",
       "      <td>2</td>\n",
       "      <td>13/03/2012</td>\n",
       "      <td>12:15</td>\n",
       "      <td>219.403</td>\n",
       "      <td>218.933</td>\n",
       "      <td>39.7720</td>\n",
       "      <td>42.2267</td>\n",
       "      <td>81.4240</td>\n",
       "      <td>113.600</td>\n",
       "      <td>0.0</td>\n",
       "      <td>622.656</td>\n",
       "      <td>1.89133</td>\n",
       "      <td>13960.50</td>\n",
       "      <td>9669.63</td>\n",
       "      <td>95398.6</td>\n",
       "      <td>766.251</td>\n",
       "      <td>47.4320</td>\n",
       "      <td>2.0</td>\n",
       "      <td>18.4367</td>\n",
       "    </tr>\n",
       "    <tr>\n",
       "      <th>3</th>\n",
       "      <td>3</td>\n",
       "      <td>13/03/2012</td>\n",
       "      <td>12:30</td>\n",
       "      <td>218.613</td>\n",
       "      <td>217.045</td>\n",
       "      <td>39.7760</td>\n",
       "      <td>42.0987</td>\n",
       "      <td>81.5013</td>\n",
       "      <td>113.344</td>\n",
       "      <td>0.0</td>\n",
       "      <td>622.571</td>\n",
       "      <td>1.82800</td>\n",
       "      <td>18511.20</td>\n",
       "      <td>9648.13</td>\n",
       "      <td>95360.3</td>\n",
       "      <td>766.037</td>\n",
       "      <td>47.0240</td>\n",
       "      <td>2.0</td>\n",
       "      <td>18.7513</td>\n",
       "    </tr>\n",
       "    <tr>\n",
       "      <th>4</th>\n",
       "      <td>4</td>\n",
       "      <td>13/03/2012</td>\n",
       "      <td>12:45</td>\n",
       "      <td>217.714</td>\n",
       "      <td>216.080</td>\n",
       "      <td>39.7757</td>\n",
       "      <td>42.0686</td>\n",
       "      <td>81.4657</td>\n",
       "      <td>113.034</td>\n",
       "      <td>0.0</td>\n",
       "      <td>622.400</td>\n",
       "      <td>2.36071</td>\n",
       "      <td>26349.00</td>\n",
       "      <td>9208.32</td>\n",
       "      <td>95354.9</td>\n",
       "      <td>762.743</td>\n",
       "      <td>45.4743</td>\n",
       "      <td>2.0</td>\n",
       "      <td>19.0414</td>\n",
       "    </tr>\n",
       "  </tbody>\n",
       "</table>\n",
       "</div>"
      ],
      "text/plain": [
       "   Id        Date   Time  CO2_(dinning-room)  CO2_room  \\\n",
       "0   0  13/03/2012  11:45             216.560   221.920   \n",
       "1   1  13/03/2012  12:00             219.947   220.363   \n",
       "2   2  13/03/2012  12:15             219.403   218.933   \n",
       "3   3  13/03/2012  12:30             218.613   217.045   \n",
       "4   4  13/03/2012  12:45             217.714   216.080   \n",
       "\n",
       "   Relative_humidity_(dinning-room)  Relative_humidity_room  \\\n",
       "0                           39.9125                 42.4150   \n",
       "1                           39.9267                 42.2453   \n",
       "2                           39.7720                 42.2267   \n",
       "3                           39.7760                 42.0987   \n",
       "4                           39.7757                 42.0686   \n",
       "\n",
       "   Lighting_(dinning-room)  Lighting_room  Meteo_Rain  Meteo_Sun_dusk  \\\n",
       "0                  81.6650        113.520         0.0         623.360   \n",
       "1                  81.7413        113.605         0.0         623.211   \n",
       "2                  81.4240        113.600         0.0         622.656   \n",
       "3                  81.5013        113.344         0.0         622.571   \n",
       "4                  81.4657        113.034         0.0         622.400   \n",
       "\n",
       "   Meteo_Wind  Meteo_Sun_light_in_west_facade  Meteo_Sun_light_in_east_facade  \\\n",
       "0     1.42625                         9690.24                        12604.20   \n",
       "1     1.59200                        11022.00                        10787.20   \n",
       "2     1.89133                        13960.50                         9669.63   \n",
       "3     1.82800                        18511.20                         9648.13   \n",
       "4     2.36071                        26349.00                         9208.32   \n",
       "\n",
       "   Meteo_Sun_light_in_south_facade  Meteo_Sun_irradiance  \\\n",
       "0                          95436.8               758.880   \n",
       "1                          95436.8               762.069   \n",
       "2                          95398.6               766.251   \n",
       "3                          95360.3               766.037   \n",
       "4                          95354.9               762.743   \n",
       "\n",
       "   Outdoor_relative_humidity_Sensor  Day_of_the_week  Indoor_temperature_room  \n",
       "0                           48.3750              2.0                  17.8275  \n",
       "1                           47.8080              2.0                  18.1207  \n",
       "2                           47.4320              2.0                  18.4367  \n",
       "3                           47.0240              2.0                  18.7513  \n",
       "4                           45.4743              2.0                  19.0414  "
      ]
     },
     "execution_count": 7,
     "metadata": {},
     "output_type": "execute_result"
    }
   ],
   "source": [
    "house_measurements.head()"
   ]
  },
  {
   "cell_type": "code",
   "execution_count": 8,
   "id": "82d63e28",
   "metadata": {},
   "outputs": [],
   "source": [
    "# Set the extra Id column to be the index of the data frame.\n",
    "house_measurements.set_index('Id', inplace = True)"
   ]
  },
  {
   "cell_type": "code",
   "execution_count": 9,
   "id": "fa8842f7",
   "metadata": {},
   "outputs": [
    {
     "data": {
      "text/plain": [
       "Index(['Date', 'Time', 'CO2_(dinning-room)', 'CO2_room',\n",
       "       'Relative_humidity_(dinning-room)', 'Relative_humidity_room',\n",
       "       'Lighting_(dinning-room)', 'Lighting_room', 'Meteo_Rain',\n",
       "       'Meteo_Sun_dusk', 'Meteo_Wind', 'Meteo_Sun_light_in_west_facade',\n",
       "       'Meteo_Sun_light_in_east_facade', 'Meteo_Sun_light_in_south_facade',\n",
       "       'Meteo_Sun_irradiance', 'Outdoor_relative_humidity_Sensor',\n",
       "       'Day_of_the_week', 'Indoor_temperature_room'],\n",
       "      dtype='object')"
      ]
     },
     "execution_count": 9,
     "metadata": {},
     "output_type": "execute_result"
    }
   ],
   "source": [
    "# We'd like these column names to be formatted differently.\n",
    "house_measurements.columns"
   ]
  },
  {
   "cell_type": "code",
   "execution_count": 10,
   "id": "8caf2dbb",
   "metadata": {},
   "outputs": [],
   "source": [
    "# Function to remove parentheses, make lower case, and change dashes to underscores in a list of strings.\n",
    "def column_renamer(df):\n",
    "    new_names = []\n",
    "    for column in df.columns:\n",
    "        new_name = column.lower()\n",
    "        new_name = new_name.replace('(', '').replace(')', '').replace('-', '_').replace('dinning', 'dining')\n",
    "        new_names.append(new_name)\n",
    "    return(new_names)"
   ]
  },
  {
   "cell_type": "code",
   "execution_count": 11,
   "id": "3a6ae090",
   "metadata": {},
   "outputs": [
    {
     "data": {
      "text/html": [
       "<div>\n",
       "<style scoped>\n",
       "    .dataframe tbody tr th:only-of-type {\n",
       "        vertical-align: middle;\n",
       "    }\n",
       "\n",
       "    .dataframe tbody tr th {\n",
       "        vertical-align: top;\n",
       "    }\n",
       "\n",
       "    .dataframe thead th {\n",
       "        text-align: right;\n",
       "    }\n",
       "</style>\n",
       "<table border=\"1\" class=\"dataframe\">\n",
       "  <thead>\n",
       "    <tr style=\"text-align: right;\">\n",
       "      <th></th>\n",
       "      <th>date</th>\n",
       "      <th>time</th>\n",
       "      <th>co2_dining_room</th>\n",
       "      <th>co2_room</th>\n",
       "      <th>relative_humidity_dining_room</th>\n",
       "      <th>relative_humidity_room</th>\n",
       "      <th>lighting_dining_room</th>\n",
       "      <th>lighting_room</th>\n",
       "      <th>meteo_rain</th>\n",
       "      <th>meteo_sun_dusk</th>\n",
       "      <th>meteo_wind</th>\n",
       "      <th>meteo_sun_light_in_west_facade</th>\n",
       "      <th>meteo_sun_light_in_east_facade</th>\n",
       "      <th>meteo_sun_light_in_south_facade</th>\n",
       "      <th>meteo_sun_irradiance</th>\n",
       "      <th>outdoor_relative_humidity_sensor</th>\n",
       "      <th>day_of_the_week</th>\n",
       "      <th>indoor_temperature_room</th>\n",
       "    </tr>\n",
       "    <tr>\n",
       "      <th>Id</th>\n",
       "      <th></th>\n",
       "      <th></th>\n",
       "      <th></th>\n",
       "      <th></th>\n",
       "      <th></th>\n",
       "      <th></th>\n",
       "      <th></th>\n",
       "      <th></th>\n",
       "      <th></th>\n",
       "      <th></th>\n",
       "      <th></th>\n",
       "      <th></th>\n",
       "      <th></th>\n",
       "      <th></th>\n",
       "      <th></th>\n",
       "      <th></th>\n",
       "      <th></th>\n",
       "      <th></th>\n",
       "    </tr>\n",
       "  </thead>\n",
       "  <tbody>\n",
       "    <tr>\n",
       "      <th>0</th>\n",
       "      <td>13/03/2012</td>\n",
       "      <td>11:45</td>\n",
       "      <td>216.560</td>\n",
       "      <td>221.920</td>\n",
       "      <td>39.9125</td>\n",
       "      <td>42.4150</td>\n",
       "      <td>81.6650</td>\n",
       "      <td>113.520</td>\n",
       "      <td>0.0</td>\n",
       "      <td>623.360</td>\n",
       "      <td>1.42625</td>\n",
       "      <td>9690.24</td>\n",
       "      <td>12604.20</td>\n",
       "      <td>95436.8</td>\n",
       "      <td>758.880</td>\n",
       "      <td>48.3750</td>\n",
       "      <td>2.0</td>\n",
       "      <td>17.8275</td>\n",
       "    </tr>\n",
       "    <tr>\n",
       "      <th>1</th>\n",
       "      <td>13/03/2012</td>\n",
       "      <td>12:00</td>\n",
       "      <td>219.947</td>\n",
       "      <td>220.363</td>\n",
       "      <td>39.9267</td>\n",
       "      <td>42.2453</td>\n",
       "      <td>81.7413</td>\n",
       "      <td>113.605</td>\n",
       "      <td>0.0</td>\n",
       "      <td>623.211</td>\n",
       "      <td>1.59200</td>\n",
       "      <td>11022.00</td>\n",
       "      <td>10787.20</td>\n",
       "      <td>95436.8</td>\n",
       "      <td>762.069</td>\n",
       "      <td>47.8080</td>\n",
       "      <td>2.0</td>\n",
       "      <td>18.1207</td>\n",
       "    </tr>\n",
       "    <tr>\n",
       "      <th>2</th>\n",
       "      <td>13/03/2012</td>\n",
       "      <td>12:15</td>\n",
       "      <td>219.403</td>\n",
       "      <td>218.933</td>\n",
       "      <td>39.7720</td>\n",
       "      <td>42.2267</td>\n",
       "      <td>81.4240</td>\n",
       "      <td>113.600</td>\n",
       "      <td>0.0</td>\n",
       "      <td>622.656</td>\n",
       "      <td>1.89133</td>\n",
       "      <td>13960.50</td>\n",
       "      <td>9669.63</td>\n",
       "      <td>95398.6</td>\n",
       "      <td>766.251</td>\n",
       "      <td>47.4320</td>\n",
       "      <td>2.0</td>\n",
       "      <td>18.4367</td>\n",
       "    </tr>\n",
       "    <tr>\n",
       "      <th>3</th>\n",
       "      <td>13/03/2012</td>\n",
       "      <td>12:30</td>\n",
       "      <td>218.613</td>\n",
       "      <td>217.045</td>\n",
       "      <td>39.7760</td>\n",
       "      <td>42.0987</td>\n",
       "      <td>81.5013</td>\n",
       "      <td>113.344</td>\n",
       "      <td>0.0</td>\n",
       "      <td>622.571</td>\n",
       "      <td>1.82800</td>\n",
       "      <td>18511.20</td>\n",
       "      <td>9648.13</td>\n",
       "      <td>95360.3</td>\n",
       "      <td>766.037</td>\n",
       "      <td>47.0240</td>\n",
       "      <td>2.0</td>\n",
       "      <td>18.7513</td>\n",
       "    </tr>\n",
       "    <tr>\n",
       "      <th>4</th>\n",
       "      <td>13/03/2012</td>\n",
       "      <td>12:45</td>\n",
       "      <td>217.714</td>\n",
       "      <td>216.080</td>\n",
       "      <td>39.7757</td>\n",
       "      <td>42.0686</td>\n",
       "      <td>81.4657</td>\n",
       "      <td>113.034</td>\n",
       "      <td>0.0</td>\n",
       "      <td>622.400</td>\n",
       "      <td>2.36071</td>\n",
       "      <td>26349.00</td>\n",
       "      <td>9208.32</td>\n",
       "      <td>95354.9</td>\n",
       "      <td>762.743</td>\n",
       "      <td>45.4743</td>\n",
       "      <td>2.0</td>\n",
       "      <td>19.0414</td>\n",
       "    </tr>\n",
       "  </tbody>\n",
       "</table>\n",
       "</div>"
      ],
      "text/plain": [
       "          date   time  co2_dining_room  co2_room  \\\n",
       "Id                                                 \n",
       "0   13/03/2012  11:45          216.560   221.920   \n",
       "1   13/03/2012  12:00          219.947   220.363   \n",
       "2   13/03/2012  12:15          219.403   218.933   \n",
       "3   13/03/2012  12:30          218.613   217.045   \n",
       "4   13/03/2012  12:45          217.714   216.080   \n",
       "\n",
       "    relative_humidity_dining_room  relative_humidity_room  \\\n",
       "Id                                                          \n",
       "0                         39.9125                 42.4150   \n",
       "1                         39.9267                 42.2453   \n",
       "2                         39.7720                 42.2267   \n",
       "3                         39.7760                 42.0987   \n",
       "4                         39.7757                 42.0686   \n",
       "\n",
       "    lighting_dining_room  lighting_room  meteo_rain  meteo_sun_dusk  \\\n",
       "Id                                                                    \n",
       "0                81.6650        113.520         0.0         623.360   \n",
       "1                81.7413        113.605         0.0         623.211   \n",
       "2                81.4240        113.600         0.0         622.656   \n",
       "3                81.5013        113.344         0.0         622.571   \n",
       "4                81.4657        113.034         0.0         622.400   \n",
       "\n",
       "    meteo_wind  meteo_sun_light_in_west_facade  \\\n",
       "Id                                               \n",
       "0      1.42625                         9690.24   \n",
       "1      1.59200                        11022.00   \n",
       "2      1.89133                        13960.50   \n",
       "3      1.82800                        18511.20   \n",
       "4      2.36071                        26349.00   \n",
       "\n",
       "    meteo_sun_light_in_east_facade  meteo_sun_light_in_south_facade  \\\n",
       "Id                                                                    \n",
       "0                         12604.20                          95436.8   \n",
       "1                         10787.20                          95436.8   \n",
       "2                          9669.63                          95398.6   \n",
       "3                          9648.13                          95360.3   \n",
       "4                          9208.32                          95354.9   \n",
       "\n",
       "    meteo_sun_irradiance  outdoor_relative_humidity_sensor  day_of_the_week  \\\n",
       "Id                                                                            \n",
       "0                758.880                           48.3750              2.0   \n",
       "1                762.069                           47.8080              2.0   \n",
       "2                766.251                           47.4320              2.0   \n",
       "3                766.037                           47.0240              2.0   \n",
       "4                762.743                           45.4743              2.0   \n",
       "\n",
       "    indoor_temperature_room  \n",
       "Id                           \n",
       "0                   17.8275  \n",
       "1                   18.1207  \n",
       "2                   18.4367  \n",
       "3                   18.7513  \n",
       "4                   19.0414  "
      ]
     },
     "execution_count": 11,
     "metadata": {},
     "output_type": "execute_result"
    }
   ],
   "source": [
    "# Replace column names with the formatted names using our column_renamer function.\n",
    "new_columns = column_renamer(house_measurements)\n",
    "mapper = dict(zip(house_measurements.columns, new_columns))\n",
    "house_measurements.rename(mapper, axis = 'columns', inplace = True)\n",
    "house_measurements.head()"
   ]
  },
  {
   "cell_type": "code",
   "execution_count": 12,
   "id": "6815823a",
   "metadata": {
    "scrolled": true
   },
   "outputs": [
    {
     "data": {
      "text/plain": [
       "Id\n",
       "1183    25/03/2012 19:30\n",
       "2417    07/04/2012 16:00\n",
       "2160    04/04/2012 23:45\n",
       "965     23/03/2012 13:00\n",
       "1742    31/03/2012 15:15\n",
       "2761    11/04/2012 06:00\n",
       "1304    27/03/2012 01:45\n",
       "796     21/03/2012 18:45\n",
       "355     17/03/2012 04:30\n",
       "1044    24/03/2012 08:45\n",
       "Name: date_time, dtype: object"
      ]
     },
     "execution_count": 12,
     "metadata": {},
     "output_type": "execute_result"
    }
   ],
   "source": [
    "# Add a new column that combines the Date and Time columns \n",
    "house_measurements['date_time'] = house_measurements['date'] + ' ' + house_measurements['time']\n",
    "house_measurements['date_time'].sample(10)"
   ]
  },
  {
   "cell_type": "code",
   "execution_count": 109,
   "id": "5027b0a7",
   "metadata": {},
   "outputs": [
    {
     "data": {
      "text/plain": [
       "date         object\n",
       "time         object\n",
       "date_time    object\n",
       "dtype: object"
      ]
     },
     "execution_count": 109,
     "metadata": {},
     "output_type": "execute_result"
    }
   ],
   "source": [
    "# These should be datetime objects.\n",
    "house_measurements[['date', 'time', 'date_time']].dtypes"
   ]
  },
  {
   "cell_type": "code",
   "execution_count": 98,
   "id": "d46d3cb6",
   "metadata": {
    "scrolled": true
   },
   "outputs": [
    {
     "data": {
      "text/html": [
       "<div>\n",
       "<style scoped>\n",
       "    .dataframe tbody tr th:only-of-type {\n",
       "        vertical-align: middle;\n",
       "    }\n",
       "\n",
       "    .dataframe tbody tr th {\n",
       "        vertical-align: top;\n",
       "    }\n",
       "\n",
       "    .dataframe thead th {\n",
       "        text-align: right;\n",
       "    }\n",
       "</style>\n",
       "<table border=\"1\" class=\"dataframe\">\n",
       "  <thead>\n",
       "    <tr style=\"text-align: right;\">\n",
       "      <th></th>\n",
       "      <th>date</th>\n",
       "      <th>date_time</th>\n",
       "    </tr>\n",
       "    <tr>\n",
       "      <th>Id</th>\n",
       "      <th></th>\n",
       "      <th></th>\n",
       "    </tr>\n",
       "  </thead>\n",
       "  <tbody>\n",
       "    <tr>\n",
       "      <th>2530</th>\n",
       "      <td>2012-04-08</td>\n",
       "      <td>2012-04-08 20:15:00</td>\n",
       "    </tr>\n",
       "    <tr>\n",
       "      <th>2617</th>\n",
       "      <td>2012-04-09</td>\n",
       "      <td>2012-04-09 18:00:00</td>\n",
       "    </tr>\n",
       "    <tr>\n",
       "      <th>340</th>\n",
       "      <td>2012-03-17</td>\n",
       "      <td>2012-03-17 00:45:00</td>\n",
       "    </tr>\n",
       "    <tr>\n",
       "      <th>630</th>\n",
       "      <td>2012-03-20</td>\n",
       "      <td>2012-03-20 01:15:00</td>\n",
       "    </tr>\n",
       "    <tr>\n",
       "      <th>374</th>\n",
       "      <td>2012-03-17</td>\n",
       "      <td>2012-03-17 09:15:00</td>\n",
       "    </tr>\n",
       "    <tr>\n",
       "      <th>1342</th>\n",
       "      <td>2012-03-27</td>\n",
       "      <td>2012-03-27 11:15:00</td>\n",
       "    </tr>\n",
       "    <tr>\n",
       "      <th>1759</th>\n",
       "      <td>2012-03-31</td>\n",
       "      <td>2012-03-31 19:30:00</td>\n",
       "    </tr>\n",
       "    <tr>\n",
       "      <th>1811</th>\n",
       "      <td>2012-04-01</td>\n",
       "      <td>2012-04-01 08:30:00</td>\n",
       "    </tr>\n",
       "    <tr>\n",
       "      <th>823</th>\n",
       "      <td>2012-03-22</td>\n",
       "      <td>2012-03-22 01:30:00</td>\n",
       "    </tr>\n",
       "    <tr>\n",
       "      <th>944</th>\n",
       "      <td>2012-03-23</td>\n",
       "      <td>2012-03-23 07:45:00</td>\n",
       "    </tr>\n",
       "  </tbody>\n",
       "</table>\n",
       "</div>"
      ],
      "text/plain": [
       "           date           date_time\n",
       "Id                                 \n",
       "2530 2012-04-08 2012-04-08 20:15:00\n",
       "2617 2012-04-09 2012-04-09 18:00:00\n",
       "340  2012-03-17 2012-03-17 00:45:00\n",
       "630  2012-03-20 2012-03-20 01:15:00\n",
       "374  2012-03-17 2012-03-17 09:15:00\n",
       "1342 2012-03-27 2012-03-27 11:15:00\n",
       "1759 2012-03-31 2012-03-31 19:30:00\n",
       "1811 2012-04-01 2012-04-01 08:30:00\n",
       "823  2012-03-22 2012-03-22 01:30:00\n",
       "944  2012-03-23 2012-03-23 07:45:00"
      ]
     },
     "execution_count": 98,
     "metadata": {},
     "output_type": "execute_result"
    }
   ],
   "source": [
    "# Change Date, Time, and Date_time columns to be datetime objects instead of strings.\n",
    "df['date'] = pd.to_datetime(df['date'], format = '%d/%m/%Y')\n",
    "df['date_time'] = pd.to_datetime(df['date_time'], format = \"%d/%m/%Y %H:%M\")\n",
    "\n",
    "df[['date','date_time']].sample(10)"
   ]
  },
  {
   "cell_type": "code",
   "execution_count": 114,
   "id": "478fc90e",
   "metadata": {},
   "outputs": [
    {
     "data": {
      "text/html": [
       "<div>\n",
       "<style scoped>\n",
       "    .dataframe tbody tr th:only-of-type {\n",
       "        vertical-align: middle;\n",
       "    }\n",
       "\n",
       "    .dataframe tbody tr th {\n",
       "        vertical-align: top;\n",
       "    }\n",
       "\n",
       "    .dataframe thead th {\n",
       "        text-align: right;\n",
       "    }\n",
       "</style>\n",
       "<table border=\"1\" class=\"dataframe\">\n",
       "  <thead>\n",
       "    <tr style=\"text-align: right;\">\n",
       "      <th></th>\n",
       "      <th>date</th>\n",
       "      <th>date_time</th>\n",
       "    </tr>\n",
       "    <tr>\n",
       "      <th>Id</th>\n",
       "      <th></th>\n",
       "      <th></th>\n",
       "    </tr>\n",
       "  </thead>\n",
       "  <tbody>\n",
       "    <tr>\n",
       "      <th>623</th>\n",
       "      <td>2012-03-19</td>\n",
       "      <td>2012-03-19 23:30:00</td>\n",
       "    </tr>\n",
       "    <tr>\n",
       "      <th>1682</th>\n",
       "      <td>2012-03-31</td>\n",
       "      <td>2012-03-31 00:15:00</td>\n",
       "    </tr>\n",
       "    <tr>\n",
       "      <th>2605</th>\n",
       "      <td>2012-04-09</td>\n",
       "      <td>2012-04-09 15:00:00</td>\n",
       "    </tr>\n",
       "    <tr>\n",
       "      <th>1180</th>\n",
       "      <td>2012-03-25</td>\n",
       "      <td>2012-03-25 18:45:00</td>\n",
       "    </tr>\n",
       "    <tr>\n",
       "      <th>46</th>\n",
       "      <td>2012-03-13</td>\n",
       "      <td>2012-03-13 23:15:00</td>\n",
       "    </tr>\n",
       "    <tr>\n",
       "      <th>2759</th>\n",
       "      <td>2012-04-11</td>\n",
       "      <td>2012-04-11 05:30:00</td>\n",
       "    </tr>\n",
       "    <tr>\n",
       "      <th>775</th>\n",
       "      <td>2012-03-21</td>\n",
       "      <td>2012-03-21 13:30:00</td>\n",
       "    </tr>\n",
       "    <tr>\n",
       "      <th>792</th>\n",
       "      <td>2012-03-21</td>\n",
       "      <td>2012-03-21 17:45:00</td>\n",
       "    </tr>\n",
       "    <tr>\n",
       "      <th>746</th>\n",
       "      <td>2012-03-21</td>\n",
       "      <td>2012-03-21 06:15:00</td>\n",
       "    </tr>\n",
       "    <tr>\n",
       "      <th>2146</th>\n",
       "      <td>2012-04-04</td>\n",
       "      <td>2012-04-04 20:15:00</td>\n",
       "    </tr>\n",
       "  </tbody>\n",
       "</table>\n",
       "</div>"
      ],
      "text/plain": [
       "           date           date_time\n",
       "Id                                 \n",
       "623  2012-03-19 2012-03-19 23:30:00\n",
       "1682 2012-03-31 2012-03-31 00:15:00\n",
       "2605 2012-04-09 2012-04-09 15:00:00\n",
       "1180 2012-03-25 2012-03-25 18:45:00\n",
       "46   2012-03-13 2012-03-13 23:15:00\n",
       "2759 2012-04-11 2012-04-11 05:30:00\n",
       "775  2012-03-21 2012-03-21 13:30:00\n",
       "792  2012-03-21 2012-03-21 17:45:00\n",
       "746  2012-03-21 2012-03-21 06:15:00\n",
       "2146 2012-04-04 2012-04-04 20:15:00"
      ]
     },
     "execution_count": 114,
     "metadata": {},
     "output_type": "execute_result"
    }
   ],
   "source": [
    "df[['date','date_time']].sample(10)"
   ]
  },
  {
   "cell_type": "code",
   "execution_count": 46,
   "id": "d48fe980",
   "metadata": {},
   "outputs": [
    {
     "data": {
      "text/plain": [
       "date                                datetime64[ns]\n",
       "time                                        object\n",
       "co2_dining_room                            float64\n",
       "co2_room                                   float64\n",
       "relative_humidity_dining_room              float64\n",
       "relative_humidity_room                     float64\n",
       "lighting_dining_room                       float64\n",
       "lighting_room                              float64\n",
       "meteo_rain                                 float64\n",
       "meteo_sun_dusk                             float64\n",
       "meteo_wind                                 float64\n",
       "meteo_sun_light_in_west_facade             float64\n",
       "meteo_sun_light_in_east_facade             float64\n",
       "meteo_sun_light_in_south_facade            float64\n",
       "meteo_sun_irradiance                       float64\n",
       "outdoor_relative_humidity_sensor           float64\n",
       "day_of_the_week                            float64\n",
       "indoor_temperature_room                    float64\n",
       "date_time                                   object\n",
       "dtype: object"
      ]
     },
     "execution_count": 46,
     "metadata": {},
     "output_type": "execute_result"
    }
   ],
   "source": [
    "house_measurements.dtypes"
   ]
  },
  {
   "cell_type": "code",
   "execution_count": 99,
   "id": "6e0ef052",
   "metadata": {},
   "outputs": [],
   "source": [
    "# # Change Date, Time, and Date_time columns to be datetime objects instead of strings.\n",
    "# house_measurements['date'] = pd.to_datetime(house_measurements['date'], errors = 'coerce', format='%d/%m/%y')\n",
    "# house_measurements['date_time'] = pd.to_datetime(house_measurements['date_time'])\n",
    "\n",
    "# # Using .sample() has revealed to us some inconsistencies in the date format. We'll address this in the next section.\n",
    "# house_measurements['date_time'].sample(10)"
   ]
  },
  {
   "cell_type": "code",
   "execution_count": 115,
   "id": "c7763ff8",
   "metadata": {},
   "outputs": [
    {
     "data": {
      "text/plain": [
       "dtype('<M8[ns]')"
      ]
     },
     "execution_count": 115,
     "metadata": {},
     "output_type": "execute_result"
    }
   ],
   "source": [
    "house_measurements['date'].dtypes"
   ]
  },
  {
   "cell_type": "code",
   "execution_count": 38,
   "id": "c49e8f4a",
   "metadata": {},
   "outputs": [
    {
     "data": {
      "text/plain": [
       "Id\n",
       "35      13/03/2012 20:30\n",
       "68      14/03/2012 04:45\n",
       "1998    03/04/2012 07:15\n",
       "16      13/03/2012 15:45\n",
       "1148    25/03/2012 10:45\n",
       "82      14/03/2012 08:15\n",
       "229     15/03/2012 21:00\n",
       "276     16/03/2012 08:45\n",
       "1997    03/04/2012 07:00\n",
       "793     21/03/2012 18:00\n",
       "1515    29/03/2012 06:30\n",
       "592     19/03/2012 15:45\n",
       "2418    07/04/2012 16:15\n",
       "153     15/03/2012 02:00\n",
       "453     18/03/2012 05:00\n",
       "Name: date_time, dtype: object"
      ]
     },
     "execution_count": 38,
     "metadata": {},
     "output_type": "execute_result"
    }
   ],
   "source": [
    "house_measurements['date_time'].sample(15)"
   ]
  },
  {
   "cell_type": "markdown",
   "id": "3a93a317",
   "metadata": {},
   "source": [
    "### **Section 3: Data Validation**\n",
    "\n",
    "Now we'll inspect the contents of our columns to make sure the data makes sense. We know there are no missing values, but we need to make sure the data isn't invalid in other ways. For example, we shouldn't see negative values columns like the co2 columns, which are in parts per million units. We also need to see if any measurements were skipped. They should occur every fifteen minutes."
   ]
  },
  {
   "cell_type": "code",
   "execution_count": null,
   "id": "3e4c1016",
   "metadata": {},
   "outputs": [],
   "source": [
    "house_measurements.columns"
   ]
  },
  {
   "cell_type": "code",
   "execution_count": null,
   "id": "bc42b1a7",
   "metadata": {},
   "outputs": [],
   "source": [
    "# Function to check if the minimum values of the numeric data types are above zero\n",
    "def min_max_checker(df):\n",
    "    invalid_value_columns = []\n",
    "    for column in df.columns:\n",
    "        try:\n",
    "            df[column][0] + 1 # Checks to see if column is of numeric type\n",
    "            if df[column].min() < 0: # If it is numeric, and if the minimum value is below zero, add it to the list\n",
    "                invalid_value_columns.append(column)\n",
    "        except:\n",
    "            pass # Does nothing if the column is not numeric\n",
    "    return(invalid_value_columns)"
   ]
  },
  {
   "cell_type": "code",
   "execution_count": null,
   "id": "c8d3cffd",
   "metadata": {},
   "outputs": [],
   "source": [
    "min_max_checker(house_measurements)"
   ]
  },
  {
   "cell_type": "code",
   "execution_count": null,
   "id": "5f74de90",
   "metadata": {},
   "outputs": [],
   "source": [
    "house_measurements[min_max_checker(house_measurements)].describe()"
   ]
  },
  {
   "cell_type": "code",
   "execution_count": null,
   "id": "6d36f2e1",
   "metadata": {},
   "outputs": [],
   "source": [
    "negative_irrad_rows = len(house_measurements[house_measurements['meteo_sun_irradiance'] < 0])\n",
    "all_rows = len(house_measurements)\n",
    "print(round(negative_irrad_rows / all_rows * 100, 2), 'percent of the irradiance readings are below zero.')"
   ]
  },
  {
   "cell_type": "markdown",
   "id": "b92686d8",
   "metadata": {},
   "source": [
    "It seems to be relatively common to have small negative irradiance values at night time due to measurement error, but these should usually be positive values. The reason for this might be because the value is recorded on a log scale, with an arbitrary zero point at, say, dawn or dusk. At night (which comprises half of the measurments), the absence of sun falls just below this zero irradiance point. During the day, it is vastly higher."
   ]
  },
  {
   "cell_type": "code",
   "execution_count": null,
   "id": "7b6613fb",
   "metadata": {},
   "outputs": [],
   "source": [
    "# I'm not sure what Meteo_Sun_dusk means. Let's check it out.\n",
    "house_measurements['meteo_sun_dusk'].describe()"
   ]
  },
  {
   "cell_type": "code",
   "execution_count": null,
   "id": "69bf91cb",
   "metadata": {},
   "outputs": [],
   "source": [
    "# Measurements are supposed to have been taken every 15 minutes. Let's find out if any rows are missing.\n",
    "house_measurements['date_time'].diff().drop([0]).max()"
   ]
  },
  {
   "cell_type": "markdown",
   "id": "5477461f",
   "metadata": {},
   "source": [
    "The maximum time delta should be 0 days and fifteen minutes. If measurements were taken every fifteen minutes, we shouldn't be seeing a difference of 30 days between any two consecutive measurements, which is what the .diff() function is showing us."
   ]
  },
  {
   "cell_type": "code",
   "execution_count": null,
   "id": "244166d5",
   "metadata": {
    "scrolled": true
   },
   "outputs": [],
   "source": [
    "# Bring in a fresh subsetted version of the data for experimentation\n",
    "df = pd.read_csv(\"../Raw Data/train.csv\", usecols = ['Date'])\n",
    "df.head()"
   ]
  },
  {
   "cell_type": "code",
   "execution_count": null,
   "id": "cfc80e5f",
   "metadata": {},
   "outputs": [],
   "source": [
    "# It seems 12 dates were unconverted, and so are in an inconsistent date format\n",
    "df['date_obj'] = pd.to_datetime(df['Date'], errors = 'ignore', format='%d/%m/%y')"
   ]
  },
  {
   "cell_type": "code",
   "execution_count": null,
   "id": "c4546d36",
   "metadata": {
    "scrolled": true
   },
   "outputs": [],
   "source": [
    "df['date_obj'].unique()"
   ]
  },
  {
   "cell_type": "code",
   "execution_count": null,
   "id": "24676924",
   "metadata": {},
   "outputs": [],
   "source": [
    "house_measurements['date'].unique()"
   ]
  },
  {
   "cell_type": "code",
   "execution_count": null,
   "id": "13f1fe77",
   "metadata": {},
   "outputs": [],
   "source": [
    "house_measurements['date'].head()"
   ]
  },
  {
   "cell_type": "code",
   "execution_count": null,
   "id": "8a870f6a",
   "metadata": {},
   "outputs": [],
   "source": [
    "house_measurements.dtypes"
   ]
  },
  {
   "cell_type": "code",
   "execution_count": null,
   "id": "237f0b57",
   "metadata": {},
   "outputs": [],
   "source": [
    "len(df), len(house_measurements)"
   ]
  },
  {
   "cell_type": "code",
   "execution_count": null,
   "id": "67afb7db",
   "metadata": {},
   "outputs": [],
   "source": [
    "house_measurements = house_measurements.sort_values('Date_time')\n",
    "house_measurements['diff_datetime'] = house_measurements['Date_time'].diff().drop([0])\n",
    "house_measurements[house_measurements['diff_datetime'] == house_measurements['Date_time'].diff().drop([0]).max()]"
   ]
  },
  {
   "cell_type": "code",
   "execution_count": null,
   "id": "3491ea38",
   "metadata": {},
   "outputs": [],
   "source": [
    "#df = house_measurements.set_index('Date_time')"
   ]
  },
  {
   "cell_type": "code",
   "execution_count": null,
   "id": "b091365a",
   "metadata": {},
   "outputs": [],
   "source": [
    "#df.index.diff().drop([0]).max()"
   ]
  }
 ],
 "metadata": {
  "kernelspec": {
   "display_name": "Python 3 (ipykernel)",
   "language": "python",
   "name": "python3"
  },
  "language_info": {
   "codemirror_mode": {
    "name": "ipython",
    "version": 3
   },
   "file_extension": ".py",
   "mimetype": "text/x-python",
   "name": "python",
   "nbconvert_exporter": "python",
   "pygments_lexer": "ipython3",
   "version": "3.8.8"
  }
 },
 "nbformat": 4,
 "nbformat_minor": 5
}
