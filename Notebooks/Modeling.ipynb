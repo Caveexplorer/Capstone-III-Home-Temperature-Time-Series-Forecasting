{
 "cells": [
  {
   "cell_type": "markdown",
   "id": "a5ffe416",
   "metadata": {},
   "source": [
    "# **Capstone II Modeling**\n",
    "\n",
    "In this section of the data science method we finally apply machine learning models to answer our original question: "
   ]
  },
  {
   "cell_type": "code",
   "execution_count": 12,
   "id": "89cab5a0",
   "metadata": {},
   "outputs": [],
   "source": [
    "import pandas as pd\n",
    "import numpy as np\n",
    "import matplotlib.pyplot as plt\n",
    "import seaborn as sns\n",
    "\n",
    "from statsmodels.tsa.statespace.sarimax import SARIMAX"
   ]
  },
  {
   "cell_type": "code",
   "execution_count": 10,
   "id": "5d31a542",
   "metadata": {},
   "outputs": [],
   "source": [
    "df = pd.read_csv('../Data/train_cleaned.csv', parse_dates = ['date_time'], index_col = 'date_time')\n",
    "df.index = pd.date_range(start = df.index[0], end = df.index[-1], freq='15min')"
   ]
  },
  {
   "cell_type": "code",
   "execution_count": 18,
   "id": "8297195d",
   "metadata": {},
   "outputs": [],
   "source": [
    "X = df.drop(columns = 'indoor_temperature_room')\n",
    "y = df['indoor_temperature_room']"
   ]
  },
  {
   "cell_type": "markdown",
   "id": "4742e1da",
   "metadata": {},
   "source": [
    "### ARIMA Modeling\n",
    "\n",
    "Based on the acf and pacf functions viewed in previous in the EDA section, we assume the best model for our data is an ARIMA model of some order. Here we test a variety of combinations of AR, MA, and ARIMA orders to find the best model."
   ]
  },
  {
   "cell_type": "code",
   "execution_count": 24,
   "id": "570cf3b2",
   "metadata": {},
   "outputs": [],
   "source": [
    "def evaluate_ARMA_model(y, p_values, d_values, q_values):\n",
    "    \n",
    "    # Create empty list to store search results\n",
    "    order_aic_bic=[]\n",
    "\n",
    "    # Loop over p values\n",
    "    for p in p_values:\n",
    "        # Loop over d values\n",
    "        for d in d_values:\n",
    "            # Loop over q values\n",
    "            for q in q_values:\n",
    "                # create and fit ARMA(p,q) model\n",
    "                try:\n",
    "                    model = SARIMAX(y, order=(p, d, q))\n",
    "                    results = model.fit()\n",
    "                    order_aic_bic.append((p, d, q, results.aic, results.bic))\n",
    "                except:\n",
    "                    pass\n",
    "                # Append order and results tuple\n",
    "                order_aic_bic.append((p, d, q, results.aic, results.bic))\n",
    "    return order_aic_bic"
   ]
  },
  {
   "cell_type": "code",
   "execution_count": 25,
   "id": "20598fd6",
   "metadata": {},
   "outputs": [],
   "source": [
    "p = [x for x in range(0, 3)]\n",
    "d = [x for x in range(0, 3)]\n",
    "q = [x for x in range(0, 3)]"
   ]
  },
  {
   "cell_type": "code",
   "execution_count": 27,
   "id": "55a74a8a",
   "metadata": {},
   "outputs": [
    {
     "name": "stderr",
     "output_type": "stream",
     "text": [
      "C:\\Users\\metal\\anaconda3\\lib\\site-packages\\statsmodels\\base\\model.py:566: ConvergenceWarning: Maximum Likelihood optimization failed to converge. Check mle_retvals\n",
      "  warnings.warn(\"Maximum Likelihood optimization failed to \"\n"
     ]
    }
   ],
   "source": [
    "thing = evaluate_ARMA_model(y, p, d, q)"
   ]
  },
  {
   "cell_type": "code",
   "execution_count": 29,
   "id": "be522303",
   "metadata": {},
   "outputs": [],
   "source": [
    "blod = pd.DataFrame(thing, columns = ['p', 'd', 'q', 'AIC', 'BIC'])"
   ]
  },
  {
   "cell_type": "code",
   "execution_count": 31,
   "id": "25d537f5",
   "metadata": {},
   "outputs": [
    {
     "data": {
      "text/html": [
       "<div>\n",
       "<style scoped>\n",
       "    .dataframe tbody tr th:only-of-type {\n",
       "        vertical-align: middle;\n",
       "    }\n",
       "\n",
       "    .dataframe tbody tr th {\n",
       "        vertical-align: top;\n",
       "    }\n",
       "\n",
       "    .dataframe thead th {\n",
       "        text-align: right;\n",
       "    }\n",
       "</style>\n",
       "<table border=\"1\" class=\"dataframe\">\n",
       "  <thead>\n",
       "    <tr style=\"text-align: right;\">\n",
       "      <th></th>\n",
       "      <th>p</th>\n",
       "      <th>d</th>\n",
       "      <th>q</th>\n",
       "      <th>AIC</th>\n",
       "      <th>BIC</th>\n",
       "    </tr>\n",
       "  </thead>\n",
       "  <tbody>\n",
       "    <tr>\n",
       "      <th>47</th>\n",
       "      <td>2</td>\n",
       "      <td>1</td>\n",
       "      <td>2</td>\n",
       "      <td>-8832.860243</td>\n",
       "      <td>-8803.239881</td>\n",
       "    </tr>\n",
       "    <tr>\n",
       "      <th>46</th>\n",
       "      <td>2</td>\n",
       "      <td>1</td>\n",
       "      <td>2</td>\n",
       "      <td>-8832.860243</td>\n",
       "      <td>-8803.239881</td>\n",
       "    </tr>\n",
       "    <tr>\n",
       "      <th>29</th>\n",
       "      <td>1</td>\n",
       "      <td>1</td>\n",
       "      <td>2</td>\n",
       "      <td>-8811.640369</td>\n",
       "      <td>-8787.944079</td>\n",
       "    </tr>\n",
       "    <tr>\n",
       "      <th>28</th>\n",
       "      <td>1</td>\n",
       "      <td>1</td>\n",
       "      <td>2</td>\n",
       "      <td>-8811.640369</td>\n",
       "      <td>-8787.944079</td>\n",
       "    </tr>\n",
       "    <tr>\n",
       "      <th>26</th>\n",
       "      <td>1</td>\n",
       "      <td>1</td>\n",
       "      <td>1</td>\n",
       "      <td>-8810.726903</td>\n",
       "      <td>-8792.954686</td>\n",
       "    </tr>\n",
       "  </tbody>\n",
       "</table>\n",
       "</div>"
      ],
      "text/plain": [
       "    p  d  q          AIC          BIC\n",
       "47  2  1  2 -8832.860243 -8803.239881\n",
       "46  2  1  2 -8832.860243 -8803.239881\n",
       "29  1  1  2 -8811.640369 -8787.944079\n",
       "28  1  1  2 -8811.640369 -8787.944079\n",
       "26  1  1  1 -8810.726903 -8792.954686"
      ]
     },
     "execution_count": 31,
     "metadata": {},
     "output_type": "execute_result"
    }
   ],
   "source": [
    "blod.sort_values(by = ['AIC']).head()"
   ]
  },
  {
   "cell_type": "code",
   "execution_count": 32,
   "id": "6be57687",
   "metadata": {},
   "outputs": [
    {
     "data": {
      "text/html": [
       "<div>\n",
       "<style scoped>\n",
       "    .dataframe tbody tr th:only-of-type {\n",
       "        vertical-align: middle;\n",
       "    }\n",
       "\n",
       "    .dataframe tbody tr th {\n",
       "        vertical-align: top;\n",
       "    }\n",
       "\n",
       "    .dataframe thead th {\n",
       "        text-align: right;\n",
       "    }\n",
       "</style>\n",
       "<table border=\"1\" class=\"dataframe\">\n",
       "  <thead>\n",
       "    <tr style=\"text-align: right;\">\n",
       "      <th></th>\n",
       "      <th>p</th>\n",
       "      <th>d</th>\n",
       "      <th>q</th>\n",
       "      <th>AIC</th>\n",
       "      <th>BIC</th>\n",
       "    </tr>\n",
       "  </thead>\n",
       "  <tbody>\n",
       "    <tr>\n",
       "      <th>47</th>\n",
       "      <td>2</td>\n",
       "      <td>1</td>\n",
       "      <td>2</td>\n",
       "      <td>-8832.860243</td>\n",
       "      <td>-8803.239881</td>\n",
       "    </tr>\n",
       "    <tr>\n",
       "      <th>46</th>\n",
       "      <td>2</td>\n",
       "      <td>1</td>\n",
       "      <td>2</td>\n",
       "      <td>-8832.860243</td>\n",
       "      <td>-8803.239881</td>\n",
       "    </tr>\n",
       "    <tr>\n",
       "      <th>26</th>\n",
       "      <td>1</td>\n",
       "      <td>1</td>\n",
       "      <td>1</td>\n",
       "      <td>-8810.726903</td>\n",
       "      <td>-8792.954686</td>\n",
       "    </tr>\n",
       "    <tr>\n",
       "      <th>27</th>\n",
       "      <td>1</td>\n",
       "      <td>1</td>\n",
       "      <td>1</td>\n",
       "      <td>-8810.726903</td>\n",
       "      <td>-8792.954686</td>\n",
       "    </tr>\n",
       "    <tr>\n",
       "      <th>28</th>\n",
       "      <td>1</td>\n",
       "      <td>1</td>\n",
       "      <td>2</td>\n",
       "      <td>-8811.640369</td>\n",
       "      <td>-8787.944079</td>\n",
       "    </tr>\n",
       "  </tbody>\n",
       "</table>\n",
       "</div>"
      ],
      "text/plain": [
       "    p  d  q          AIC          BIC\n",
       "47  2  1  2 -8832.860243 -8803.239881\n",
       "46  2  1  2 -8832.860243 -8803.239881\n",
       "26  1  1  1 -8810.726903 -8792.954686\n",
       "27  1  1  1 -8810.726903 -8792.954686\n",
       "28  1  1  2 -8811.640369 -8787.944079"
      ]
     },
     "execution_count": 32,
     "metadata": {},
     "output_type": "execute_result"
    }
   ],
   "source": [
    "blod.sort_values(by = ['BIC']).head()"
   ]
  },
  {
   "cell_type": "code",
   "execution_count": 4,
   "id": "65dcea9f",
   "metadata": {},
   "outputs": [],
   "source": [
    "model = SARIMAX(df['indoor_temperature_room'], exog = df.drop(columns = 'indoor_temperature_room'),\n",
    "               order = (0, 1, 1))"
   ]
  },
  {
   "cell_type": "code",
   "execution_count": 5,
   "id": "febca82d",
   "metadata": {},
   "outputs": [],
   "source": [
    "res = model.fit()"
   ]
  },
  {
   "cell_type": "code",
   "execution_count": 6,
   "id": "17d2b459",
   "metadata": {},
   "outputs": [
    {
     "data": {
      "text/html": [
       "<table class=\"simpletable\">\n",
       "<caption>SARIMAX Results</caption>\n",
       "<tr>\n",
       "  <th>Dep. Variable:</th>   <td>indoor_temperature_room</td> <th>  No. Observations:  </th>   <td>2764</td>   \n",
       "</tr>\n",
       "<tr>\n",
       "  <th>Model:</th>              <td>SARIMAX(0, 1, 1)</td>     <th>  Log Likelihood     </th> <td>2475.518</td> \n",
       "</tr>\n",
       "<tr>\n",
       "  <th>Date:</th>               <td>Sun, 26 Jun 2022</td>     <th>  AIC                </th> <td>-4917.036</td>\n",
       "</tr>\n",
       "<tr>\n",
       "  <th>Time:</th>                   <td>18:01:33</td>         <th>  BIC                </th> <td>-4816.327</td>\n",
       "</tr>\n",
       "<tr>\n",
       "  <th>Sample:</th>                <td>03-13-2012</td>        <th>  HQIC               </th> <td>-4880.659</td>\n",
       "</tr>\n",
       "<tr>\n",
       "  <th></th>                      <td>- 04-11-2012</td>       <th>                     </th>     <td> </td>    \n",
       "</tr>\n",
       "<tr>\n",
       "  <th>Covariance Type:</th>           <td>opg</td>           <th>                     </th>     <td> </td>    \n",
       "</tr>\n",
       "</table>\n",
       "<table class=\"simpletable\">\n",
       "<tr>\n",
       "                <td></td>                   <th>coef</th>     <th>std err</th>      <th>z</th>      <th>P>|z|</th>  <th>[0.025</th>    <th>0.975]</th>  \n",
       "</tr>\n",
       "<tr>\n",
       "  <th>co2_dining_room</th>               <td>   -0.0002</td> <td>    0.001</td> <td>   -0.363</td> <td> 0.716</td> <td>   -0.001</td> <td>    0.001</td>\n",
       "</tr>\n",
       "<tr>\n",
       "  <th>co2_room</th>                      <td>    0.0033</td> <td>    0.000</td> <td>   12.226</td> <td> 0.000</td> <td>    0.003</td> <td>    0.004</td>\n",
       "</tr>\n",
       "<tr>\n",
       "  <th>relative_humidity_dining_room</th> <td>    0.0298</td> <td>    0.006</td> <td>    4.967</td> <td> 0.000</td> <td>    0.018</td> <td>    0.042</td>\n",
       "</tr>\n",
       "<tr>\n",
       "  <th>relative_humidity_room</th>        <td>   -0.0895</td> <td>    0.007</td> <td>  -12.571</td> <td> 0.000</td> <td>   -0.103</td> <td>   -0.076</td>\n",
       "</tr>\n",
       "<tr>\n",
       "  <th>lighting_dining_room</th>          <td>    0.0009</td> <td>    0.001</td> <td>    1.685</td> <td> 0.092</td> <td>   -0.000</td> <td>    0.002</td>\n",
       "</tr>\n",
       "<tr>\n",
       "  <th>lighting_room</th>                 <td> 6.348e-05</td> <td>    0.000</td> <td>    0.172</td> <td> 0.864</td> <td>   -0.001</td> <td>    0.001</td>\n",
       "</tr>\n",
       "<tr>\n",
       "  <th>rain</th>                          <td>    0.0363</td> <td>    0.039</td> <td>    0.925</td> <td> 0.355</td> <td>   -0.041</td> <td>    0.113</td>\n",
       "</tr>\n",
       "<tr>\n",
       "  <th>sun_dusk</th>                      <td>-6.103e-05</td> <td> 7.27e-05</td> <td>   -0.840</td> <td> 0.401</td> <td>   -0.000</td> <td> 8.15e-05</td>\n",
       "</tr>\n",
       "<tr>\n",
       "  <th>wind</th>                          <td>    0.0210</td> <td>    0.005</td> <td>    3.961</td> <td> 0.000</td> <td>    0.011</td> <td>    0.031</td>\n",
       "</tr>\n",
       "<tr>\n",
       "  <th>sun_light_in_west_facade</th>      <td> 2.077e-06</td> <td> 5.76e-07</td> <td>    3.604</td> <td> 0.000</td> <td> 9.48e-07</td> <td> 3.21e-06</td>\n",
       "</tr>\n",
       "<tr>\n",
       "  <th>sun_light_in_east_facade</th>      <td>-8.903e-06</td> <td> 4.65e-07</td> <td>  -19.162</td> <td> 0.000</td> <td>-9.81e-06</td> <td>-7.99e-06</td>\n",
       "</tr>\n",
       "<tr>\n",
       "  <th>sun_light_in_south_facade</th>     <td>  -1.8e-06</td> <td> 1.19e-06</td> <td>   -1.518</td> <td> 0.129</td> <td>-4.12e-06</td> <td> 5.25e-07</td>\n",
       "</tr>\n",
       "<tr>\n",
       "  <th>sun_irradiance</th>                <td>    0.0002</td> <td>    0.000</td> <td>    1.817</td> <td> 0.069</td> <td> -1.7e-05</td> <td>    0.000</td>\n",
       "</tr>\n",
       "<tr>\n",
       "  <th>outdoor_relative_humidity</th>     <td>   -0.0412</td> <td>    0.002</td> <td>  -20.027</td> <td> 0.000</td> <td>   -0.045</td> <td>   -0.037</td>\n",
       "</tr>\n",
       "<tr>\n",
       "  <th>day_of_the_week</th>               <td>    0.0047</td> <td>    0.013</td> <td>    0.348</td> <td> 0.728</td> <td>   -0.022</td> <td>    0.031</td>\n",
       "</tr>\n",
       "<tr>\n",
       "  <th>ma.L1</th>                         <td>    0.5284</td> <td>    0.024</td> <td>   22.192</td> <td> 0.000</td> <td>    0.482</td> <td>    0.575</td>\n",
       "</tr>\n",
       "<tr>\n",
       "  <th>sigma2</th>                        <td>    0.0138</td> <td>    0.000</td> <td>   29.280</td> <td> 0.000</td> <td>    0.013</td> <td>    0.015</td>\n",
       "</tr>\n",
       "</table>\n",
       "<table class=\"simpletable\">\n",
       "<tr>\n",
       "  <th>Ljung-Box (L1) (Q):</th>     <td>465.68</td> <th>  Jarque-Bera (JB):  </th> <td>1241.55</td>\n",
       "</tr>\n",
       "<tr>\n",
       "  <th>Prob(Q):</th>                 <td>0.00</td>  <th>  Prob(JB):          </th>  <td>0.00</td>  \n",
       "</tr>\n",
       "<tr>\n",
       "  <th>Heteroskedasticity (H):</th>  <td>0.68</td>  <th>  Skew:              </th>  <td>0.95</td>  \n",
       "</tr>\n",
       "<tr>\n",
       "  <th>Prob(H) (two-sided):</th>     <td>0.00</td>  <th>  Kurtosis:          </th>  <td>5.68</td>  \n",
       "</tr>\n",
       "</table><br/><br/>Warnings:<br/>[1] Covariance matrix calculated using the outer product of gradients (complex-step)."
      ],
      "text/plain": [
       "<class 'statsmodels.iolib.summary.Summary'>\n",
       "\"\"\"\n",
       "                                  SARIMAX Results                                  \n",
       "===================================================================================\n",
       "Dep. Variable:     indoor_temperature_room   No. Observations:                 2764\n",
       "Model:                    SARIMAX(0, 1, 1)   Log Likelihood                2475.518\n",
       "Date:                     Sun, 26 Jun 2022   AIC                          -4917.036\n",
       "Time:                             18:01:33   BIC                          -4816.327\n",
       "Sample:                         03-13-2012   HQIC                         -4880.659\n",
       "                              - 04-11-2012                                         \n",
       "Covariance Type:                       opg                                         \n",
       "=================================================================================================\n",
       "                                    coef    std err          z      P>|z|      [0.025      0.975]\n",
       "-------------------------------------------------------------------------------------------------\n",
       "co2_dining_room                  -0.0002      0.001     -0.363      0.716      -0.001       0.001\n",
       "co2_room                          0.0033      0.000     12.226      0.000       0.003       0.004\n",
       "relative_humidity_dining_room     0.0298      0.006      4.967      0.000       0.018       0.042\n",
       "relative_humidity_room           -0.0895      0.007    -12.571      0.000      -0.103      -0.076\n",
       "lighting_dining_room              0.0009      0.001      1.685      0.092      -0.000       0.002\n",
       "lighting_room                  6.348e-05      0.000      0.172      0.864      -0.001       0.001\n",
       "rain                              0.0363      0.039      0.925      0.355      -0.041       0.113\n",
       "sun_dusk                      -6.103e-05   7.27e-05     -0.840      0.401      -0.000    8.15e-05\n",
       "wind                              0.0210      0.005      3.961      0.000       0.011       0.031\n",
       "sun_light_in_west_facade       2.077e-06   5.76e-07      3.604      0.000    9.48e-07    3.21e-06\n",
       "sun_light_in_east_facade      -8.903e-06   4.65e-07    -19.162      0.000   -9.81e-06   -7.99e-06\n",
       "sun_light_in_south_facade       -1.8e-06   1.19e-06     -1.518      0.129   -4.12e-06    5.25e-07\n",
       "sun_irradiance                    0.0002      0.000      1.817      0.069    -1.7e-05       0.000\n",
       "outdoor_relative_humidity        -0.0412      0.002    -20.027      0.000      -0.045      -0.037\n",
       "day_of_the_week                   0.0047      0.013      0.348      0.728      -0.022       0.031\n",
       "ma.L1                             0.5284      0.024     22.192      0.000       0.482       0.575\n",
       "sigma2                            0.0138      0.000     29.280      0.000       0.013       0.015\n",
       "===================================================================================\n",
       "Ljung-Box (L1) (Q):                 465.68   Jarque-Bera (JB):              1241.55\n",
       "Prob(Q):                              0.00   Prob(JB):                         0.00\n",
       "Heteroskedasticity (H):               0.68   Skew:                             0.95\n",
       "Prob(H) (two-sided):                  0.00   Kurtosis:                         5.68\n",
       "===================================================================================\n",
       "\n",
       "Warnings:\n",
       "[1] Covariance matrix calculated using the outer product of gradients (complex-step).\n",
       "\"\"\""
      ]
     },
     "execution_count": 6,
     "metadata": {},
     "output_type": "execute_result"
    }
   ],
   "source": [
    "res.summary()"
   ]
  },
  {
   "cell_type": "code",
   "execution_count": 7,
   "id": "8c94ed9e",
   "metadata": {},
   "outputs": [],
   "source": [
    "forecast = res.get_prediction(start = -25)\n",
    "mean_forecast = forecast.predicted_mean"
   ]
  },
  {
   "cell_type": "code",
   "execution_count": 8,
   "id": "57a74fd4",
   "metadata": {},
   "outputs": [
    {
     "data": {
      "image/png": "[encoded data removed]",
      "text/plain": [
       "<Figure size 864x576 with 1 Axes>"
      ]
     },
     "metadata": {
      "needs_background": "light"
     },
     "output_type": "display_data"
    }
   ],
   "source": [
    "fig = plt.figure(figsize=(12, 8))\n",
    "orig = plt.plot(df['indoor_temperature_room'], color='blue',label='Original')\n",
    "forecasted_mean = plt.plot(mean_forecast, color='red', label = 'mean_forecast')\n",
    "plt.legend(loc='best')\n",
    "plt.title('Original and last 25 period forecast')\n",
    "plt.show()"
   ]
  },
  {
   "cell_type": "code",
   "execution_count": null,
   "id": "44fd8231",
   "metadata": {},
   "outputs": [],
   "source": [
    "from sklearn.metrics import mean_squared_error\n",
    "from statsmodels.tsa.arima.model import ARIMA"
   ]
  },
  {
   "cell_type": "code",
   "execution_count": null,
   "id": "2aa62d84",
   "metadata": {},
   "outputs": [],
   "source": [
    "# Make a function called evaluate_arima_model to find the MSE of a single ARIMA model \n",
    "def evaluate_arima_model(data, arima_order):\n",
    "    # Needs to be an integer because it is later used as an index.\n",
    "    # Use int()\n",
    "    split= int(len(data) * 0.8) \n",
    "    # Make train and test variables, with 'train, test'\n",
    "    train, test = data[0:split], data[split:len(data)]\n",
    "    past=[x for x in train]\n",
    "    # make predictions\n",
    "    predictions = list()\n",
    "    for i in range(len(test)):#timestep-wise comparison between test data and one-step prediction ARIMA model. \n",
    "        model = ARIMA(past, order=arima_order)\n",
    "        model_fit = model.fit()\n",
    "        future = model_fit.forecast()[0]\n",
    "        predictions.append(future)\n",
    "        past.append(test[i])\n",
    "    # calculate out of sample error\n",
    "    error = mean_squared_error(test, predictions)\n",
    "    # Return the error\n",
    "    return error"
   ]
  },
  {
   "cell_type": "code",
   "execution_count": null,
   "id": "da3e8f65",
   "metadata": {},
   "outputs": [],
   "source": [
    "# Make a function called evaluate_arima_model to find the MSE of a single ARIMA model \n",
    "def evaluate_arima_model(data, arima_order):\n",
    "    # Needs to be an integer because it is later used as an index.\n",
    "    # Use int()\n",
    "    split= int(len(data) * 0.8) \n",
    "    # Make train and test variables, with 'train, test'\n",
    "    train, test = data[0:split], data[split:len(data)]\n",
    "    past=[x for x in train]\n",
    "    # make predictions\n",
    "    predictions = list()\n",
    "    model = ARIMA(past, order=arima_order)\n",
    "    model_fit = model.fit()\n",
    "    future = model_fit.forecast(len(test))\n",
    "    # calculate out of sample error\n",
    "    error = mean_squared_error(test,future)\n",
    "    # Return the error\n",
    "    return error"
   ]
  },
  {
   "cell_type": "code",
   "execution_count": null,
   "id": "8102eaff",
   "metadata": {},
   "outputs": [],
   "source": [
    "# Make a function called evaluate_models to evaluate different ARIMA models with several different p, d, and q values.\n",
    "def evaluate_models(dataset, p_values, d_values, q_values):\n",
    "    best_score, best_cfg = float(\"inf\"), None\n",
    "    # Iterate through p_values\n",
    "    for p in p_values:\n",
    "        # Iterate through d_values\n",
    "        for d in d_values:\n",
    "            # Iterate through q_values\n",
    "            for q in q_values:\n",
    "                # p, d, q iterator variables in that order\n",
    "                order = (p , d, q)\n",
    "                try:\n",
    "                    # Make a variable called mse for the Mean squared error\n",
    "                    mse = evaluate_arima_model(dataset, order)\n",
    "                    print('mse',mse)\n",
    "\n",
    "                    if mse < best_score:\n",
    "                        best_score, best_cfg = mse, order\n",
    "                    print('ARIMA%s MSE=%.3f' % (order,mse))\n",
    "                except KeyboardInterrupt:\n",
    "                    break\n",
    "                except Exception as e:\n",
    "                    print('failed!', e)\n",
    "                    continue\n",
    "    return print('Best ARIMA%s MSE=%.3f' % (best_cfg, best_score))"
   ]
  },
  {
   "cell_type": "code",
   "execution_count": 13,
   "id": "9d1b02f3",
   "metadata": {},
   "outputs": [],
   "source": [
    "# Now, we choose a couple of values to try for each parameter.\n",
    "p = [x for x in range(0, 3)]\n",
    "d = [x for x in range(0, 3)]\n",
    "q = [x for x in range(0, 3)]"
   ]
  },
  {
   "cell_type": "code",
   "execution_count": null,
   "id": "925d8c84",
   "metadata": {},
   "outputs": [],
   "source": [
    "evaluate_models(train['indoor_temperature_room'], p, d, q)"
   ]
  },
  {
   "cell_type": "code",
   "execution_count": null,
   "id": "1ae44c66",
   "metadata": {},
   "outputs": [],
   "source": [
    "model = ARIMA(y[:-5], order = (2,0, 1))\n",
    "model_fit = model.fit()\n",
    "future = model_fit.forecast(5)"
   ]
  },
  {
   "cell_type": "code",
   "execution_count": null,
   "id": "5a121da1",
   "metadata": {},
   "outputs": [],
   "source": [
    "print( list(zip(y[:-5], future)))\n",
    "print(np.mean([ (i[0] - i[1] )**2 for i in list(zip(y[:-5], future))]))"
   ]
  },
  {
   "cell_type": "code",
   "execution_count": null,
   "id": "065b211f",
   "metadata": {},
   "outputs": [],
   "source": [
    "from sklearn.ensemble import RandomForestRegressor\n",
    "clf = RandomForestRegressor()\n",
    "split = int(len(X)*0.8)\n",
    "df_train = X.iloc[:split]\n",
    "y_train = y[:split]\n",
    "\n",
    "columns = ['co2_dining_room', 'co2_room', 'relative_humidity_dining_room',\n",
    "       'relative_humidity_room', 'lighting_dining_room', 'lighting_room',\n",
    "       'rain', 'sun_dusk', 'wind', 'sun_light_in_west_facade',\n",
    "       'sun_light_in_east_facade', 'sun_light_in_south_facade',\n",
    "       'sun_irradiance', 'outdoor_relative_humidity', 'day_of_the_week']\n",
    "clf.fit(df_train[columns].values, y_train)"
   ]
  },
  {
   "cell_type": "code",
   "execution_count": null,
   "id": "9f37ce60",
   "metadata": {},
   "outputs": [],
   "source": [
    "clf.predict(X.iloc[split:][columns].values)"
   ]
  },
  {
   "cell_type": "code",
   "execution_count": null,
   "id": "4cfcb18c",
   "metadata": {},
   "outputs": [],
   "source": [
    "np.mean([ (i[0] - i[1])**2 for i in  zip(y[split:], clf.predict(X.iloc[split:][columns].values))])"
   ]
  },
  {
   "cell_type": "code",
   "execution_count": null,
   "id": "d427abcb",
   "metadata": {},
   "outputs": [],
   "source": [
    "plt.figure(figsize=(15,10))\n",
    "plt.plot(y, label='observed data', color = 'blue')\n",
    "plt.plot(model_fit.predict(), color = 'red', label='modeled data')\n",
    "plt.title('Observed and modeled cigarette sales over time')\n",
    "plt.xlabel('Year')\n",
    "plt.ylabel('Cigarette sales (log scaled)')\n",
    "plt.legend(loc = 'best')\n",
    "plt.show()"
   ]
  },
  {
   "cell_type": "code",
   "execution_count": null,
   "id": "d6464cb5",
   "metadata": {},
   "outputs": [],
   "source": [
    "from statsmodels.tsa.arima.model import ARIMA\n",
    "\n",
    "model = ARIMA(train['indoor_temperature_room'], order = (0, 1, 1))"
   ]
  },
  {
   "cell_type": "code",
   "execution_count": null,
   "id": "dc039447",
   "metadata": {},
   "outputs": [],
   "source": [
    "import statsmodels.api as sm\n",
    "\n",
    "mod = sm.tsa.arima.ARIMA(y, order=(38, 0, 0))\n",
    "res = model.fit()\n",
    "\n",
    "res.params"
   ]
  },
  {
   "cell_type": "code",
   "execution_count": null,
   "id": "e17d58af",
   "metadata": {},
   "outputs": [],
   "source": [
    "pred = res.predict(start='2012-04-11 04:15:00', end='2012-04-11 06:30:00')\n",
    "pred.plot()"
   ]
  },
  {
   "cell_type": "code",
   "execution_count": null,
   "id": "1c84a947",
   "metadata": {},
   "outputs": [],
   "source": [
    "import statsmodels.api as sm\n",
    "\n",
    "mod = sm.tsa.arima.ARIMA(df['indoor_temperature_room'], order=(38, 0, 0))\n",
    "res = model.fit()\n",
    "\n",
    "res.params"
   ]
  }
 ],
 "metadata": {
  "kernelspec": {
   "display_name": "Python 3 (ipykernel)",
   "language": "python",
   "name": "python3"
  },
  "language_info": {
   "codemirror_mode": {
    "name": "ipython",
    "version": 3
   },
   "file_extension": ".py",
   "mimetype": "text/x-python",
   "name": "python",
   "nbconvert_exporter": "python",
   "pygments_lexer": "ipython3",
   "version": "3.8.8"
  }
 },
 "nbformat": 4,
 "nbformat_minor": 5
}
