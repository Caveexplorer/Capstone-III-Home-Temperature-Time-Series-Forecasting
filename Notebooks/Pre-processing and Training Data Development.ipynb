{
 "cells": [
  {
   "cell_type": "markdown",
   "id": "0c55d8cf",
   "metadata": {},
   "source": [
    "# Capstone III Preprocessing and Training Data Development\n",
    "\n",
    "In this section we prepare our cleaned data for modeling.\n",
    "\n",
    "Lastly, we will divide our data up into train/test splits so everything is ready to go for the modeling stage."
   ]
  }
 ],
 "metadata": {
  "kernelspec": {
   "display_name": "Python 3 (ipykernel)",
   "language": "python",
   "name": "python3"
  },
  "language_info": {
   "codemirror_mode": {
    "name": "ipython",
    "version": 3
   },
   "file_extension": ".py",
   "mimetype": "text/x-python",
   "name": "python",
   "nbconvert_exporter": "python",
   "pygments_lexer": "ipython3",
   "version": "3.8.8"
  }
 },
 "nbformat": 4,
 "nbformat_minor": 5
}
