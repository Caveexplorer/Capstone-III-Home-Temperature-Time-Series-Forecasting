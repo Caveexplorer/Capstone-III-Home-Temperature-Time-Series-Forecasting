{
 "cells": [
  {
   "cell_type": "markdown",
   "id": "0c55d8cf",
   "metadata": {},
   "source": [
    "# Capstone III Preprocessing and Training Data Development\n",
    "\n",
    "In this section we prepare our cleaned data for modeling. With this data set we have, in a sense, two sets of explanatory variables that may explain our target variable: time (how the room temperature changes over time), and the rest of the measurement data (how does co2/light/precipatation affect the room temperature). A SARIMAX model will be able to handle both sets of explanatory variables at once. How a SARIMAX model handles the exogenous variables may require some preprocessing. We may also try other kinds of non time dependent models that require some preprocessing. In this section of the project we do the following:\n",
    "\n",
    "- Remove outliers in the CO2 columns\n",
    "- Bin the sun dusk and rain columns into fewer categories\n",
    "- Create our training and testing split\n",
    "- Scale the data with standard scaling"
   ]
  },
  {
   "cell_type": "markdown",
   "id": "b8495e96",
   "metadata": {},
   "source": [
    "### Section 1: Loading and Imports"
   ]
  },
  {
   "cell_type": "code",
   "execution_count": 1,
   "id": "1426d078",
   "metadata": {},
   "outputs": [],
   "source": [
    "import pandas as pd\n",
    "import numpy as np\n",
    "import matplotlib.pyplot as plt\n",
    "\n",
    "from sklearn.preprocessing import StandardScaler"
   ]
  },
  {
   "cell_type": "code",
   "execution_count": 2,
   "id": "991a23d4",
   "metadata": {},
   "outputs": [],
   "source": [
    "df = pd.read_csv('../Data/train_cleaned.csv', parse_dates = ['date_time'], index_col = 'date_time')"
   ]
  },
  {
   "cell_type": "code",
   "execution_count": 3,
   "id": "5ad7acb5",
   "metadata": {},
   "outputs": [],
   "source": [
    "df.index = pd.date_range(start=df.index[0], end=df.index[-1], freq='15min')"
   ]
  },
  {
   "cell_type": "code",
   "execution_count": 4,
   "id": "168c1599",
   "metadata": {},
   "outputs": [
    {
     "data": {
      "text/html": [
       "<div>\n",
       "<style scoped>\n",
       "    .dataframe tbody tr th:only-of-type {\n",
       "        vertical-align: middle;\n",
       "    }\n",
       "\n",
       "    .dataframe tbody tr th {\n",
       "        vertical-align: top;\n",
       "    }\n",
       "\n",
       "    .dataframe thead th {\n",
       "        text-align: right;\n",
       "    }\n",
       "</style>\n",
       "<table border=\"1\" class=\"dataframe\">\n",
       "  <thead>\n",
       "    <tr style=\"text-align: right;\">\n",
       "      <th></th>\n",
       "      <th>co2_dining_room</th>\n",
       "      <th>co2_room</th>\n",
       "      <th>relative_humidity_dining_room</th>\n",
       "      <th>relative_humidity_room</th>\n",
       "      <th>lighting_dining_room</th>\n",
       "      <th>lighting_room</th>\n",
       "      <th>rain</th>\n",
       "      <th>sun_dusk</th>\n",
       "      <th>wind</th>\n",
       "      <th>sun_light_in_west_facade</th>\n",
       "      <th>sun_light_in_east_facade</th>\n",
       "      <th>sun_light_in_south_facade</th>\n",
       "      <th>sun_irradiance</th>\n",
       "      <th>outdoor_relative_humidity</th>\n",
       "      <th>indoor_temperature_room</th>\n",
       "    </tr>\n",
       "  </thead>\n",
       "  <tbody>\n",
       "    <tr>\n",
       "      <th>2012-03-13 11:45:00</th>\n",
       "      <td>216.560</td>\n",
       "      <td>221.920</td>\n",
       "      <td>39.9125</td>\n",
       "      <td>42.4150</td>\n",
       "      <td>81.6650</td>\n",
       "      <td>113.520</td>\n",
       "      <td>0.0</td>\n",
       "      <td>623.360</td>\n",
       "      <td>1.42625</td>\n",
       "      <td>9690.24</td>\n",
       "      <td>12604.20</td>\n",
       "      <td>95436.8</td>\n",
       "      <td>758.880</td>\n",
       "      <td>48.3750</td>\n",
       "      <td>17.8275</td>\n",
       "    </tr>\n",
       "    <tr>\n",
       "      <th>2012-03-13 12:00:00</th>\n",
       "      <td>219.947</td>\n",
       "      <td>220.363</td>\n",
       "      <td>39.9267</td>\n",
       "      <td>42.2453</td>\n",
       "      <td>81.7413</td>\n",
       "      <td>113.605</td>\n",
       "      <td>0.0</td>\n",
       "      <td>623.211</td>\n",
       "      <td>1.59200</td>\n",
       "      <td>11022.00</td>\n",
       "      <td>10787.20</td>\n",
       "      <td>95436.8</td>\n",
       "      <td>762.069</td>\n",
       "      <td>47.8080</td>\n",
       "      <td>18.1207</td>\n",
       "    </tr>\n",
       "    <tr>\n",
       "      <th>2012-03-13 12:15:00</th>\n",
       "      <td>219.403</td>\n",
       "      <td>218.933</td>\n",
       "      <td>39.7720</td>\n",
       "      <td>42.2267</td>\n",
       "      <td>81.4240</td>\n",
       "      <td>113.600</td>\n",
       "      <td>0.0</td>\n",
       "      <td>622.656</td>\n",
       "      <td>1.89133</td>\n",
       "      <td>13960.50</td>\n",
       "      <td>9669.63</td>\n",
       "      <td>95398.6</td>\n",
       "      <td>766.251</td>\n",
       "      <td>47.4320</td>\n",
       "      <td>18.4367</td>\n",
       "    </tr>\n",
       "    <tr>\n",
       "      <th>2012-03-13 12:30:00</th>\n",
       "      <td>218.613</td>\n",
       "      <td>217.045</td>\n",
       "      <td>39.7760</td>\n",
       "      <td>42.0987</td>\n",
       "      <td>81.5013</td>\n",
       "      <td>113.344</td>\n",
       "      <td>0.0</td>\n",
       "      <td>622.571</td>\n",
       "      <td>1.82800</td>\n",
       "      <td>18511.20</td>\n",
       "      <td>9648.13</td>\n",
       "      <td>95360.3</td>\n",
       "      <td>766.037</td>\n",
       "      <td>47.0240</td>\n",
       "      <td>18.7513</td>\n",
       "    </tr>\n",
       "    <tr>\n",
       "      <th>2012-03-13 12:45:00</th>\n",
       "      <td>217.714</td>\n",
       "      <td>216.080</td>\n",
       "      <td>39.7757</td>\n",
       "      <td>42.0686</td>\n",
       "      <td>81.4657</td>\n",
       "      <td>113.034</td>\n",
       "      <td>0.0</td>\n",
       "      <td>622.400</td>\n",
       "      <td>2.36071</td>\n",
       "      <td>26349.00</td>\n",
       "      <td>9208.32</td>\n",
       "      <td>95354.9</td>\n",
       "      <td>762.743</td>\n",
       "      <td>45.4743</td>\n",
       "      <td>19.0414</td>\n",
       "    </tr>\n",
       "  </tbody>\n",
       "</table>\n",
       "</div>"
      ],
      "text/plain": [
       "                     co2_dining_room  co2_room  relative_humidity_dining_room  \\\n",
       "2012-03-13 11:45:00          216.560   221.920                        39.9125   \n",
       "2012-03-13 12:00:00          219.947   220.363                        39.9267   \n",
       "2012-03-13 12:15:00          219.403   218.933                        39.7720   \n",
       "2012-03-13 12:30:00          218.613   217.045                        39.7760   \n",
       "2012-03-13 12:45:00          217.714   216.080                        39.7757   \n",
       "\n",
       "                     relative_humidity_room  lighting_dining_room  \\\n",
       "2012-03-13 11:45:00                 42.4150               81.6650   \n",
       "2012-03-13 12:00:00                 42.2453               81.7413   \n",
       "2012-03-13 12:15:00                 42.2267               81.4240   \n",
       "2012-03-13 12:30:00                 42.0987               81.5013   \n",
       "2012-03-13 12:45:00                 42.0686               81.4657   \n",
       "\n",
       "                     lighting_room  rain  sun_dusk     wind  \\\n",
       "2012-03-13 11:45:00        113.520   0.0   623.360  1.42625   \n",
       "2012-03-13 12:00:00        113.605   0.0   623.211  1.59200   \n",
       "2012-03-13 12:15:00        113.600   0.0   622.656  1.89133   \n",
       "2012-03-13 12:30:00        113.344   0.0   622.571  1.82800   \n",
       "2012-03-13 12:45:00        113.034   0.0   622.400  2.36071   \n",
       "\n",
       "                     sun_light_in_west_facade  sun_light_in_east_facade  \\\n",
       "2012-03-13 11:45:00                   9690.24                  12604.20   \n",
       "2012-03-13 12:00:00                  11022.00                  10787.20   \n",
       "2012-03-13 12:15:00                  13960.50                   9669.63   \n",
       "2012-03-13 12:30:00                  18511.20                   9648.13   \n",
       "2012-03-13 12:45:00                  26349.00                   9208.32   \n",
       "\n",
       "                     sun_light_in_south_facade  sun_irradiance  \\\n",
       "2012-03-13 11:45:00                    95436.8         758.880   \n",
       "2012-03-13 12:00:00                    95436.8         762.069   \n",
       "2012-03-13 12:15:00                    95398.6         766.251   \n",
       "2012-03-13 12:30:00                    95360.3         766.037   \n",
       "2012-03-13 12:45:00                    95354.9         762.743   \n",
       "\n",
       "                     outdoor_relative_humidity  indoor_temperature_room  \n",
       "2012-03-13 11:45:00                    48.3750                  17.8275  \n",
       "2012-03-13 12:00:00                    47.8080                  18.1207  \n",
       "2012-03-13 12:15:00                    47.4320                  18.4367  \n",
       "2012-03-13 12:30:00                    47.0240                  18.7513  \n",
       "2012-03-13 12:45:00                    45.4743                  19.0414  "
      ]
     },
     "execution_count": 4,
     "metadata": {},
     "output_type": "execute_result"
    }
   ],
   "source": [
    "df.head()"
   ]
  },
  {
   "cell_type": "markdown",
   "id": "82f15ea5",
   "metadata": {},
   "source": [
    "### Section 2: Feature Engineering"
   ]
  },
  {
   "cell_type": "markdown",
   "id": "5290075a",
   "metadata": {},
   "source": [
    "### 2.1 CO2 Columns"
   ]
  },
  {
   "cell_type": "code",
   "execution_count": 5,
   "id": "87ff171c",
   "metadata": {
    "scrolled": true
   },
   "outputs": [
    {
     "data": {
      "text/plain": [
       "count    2764.000000\n",
       "mean      208.479123\n",
       "std        27.032686\n",
       "min       187.339000\n",
       "25%       200.893250\n",
       "50%       207.045500\n",
       "75%       211.245500\n",
       "max       594.389000\n",
       "Name: co2_dining_room, dtype: float64"
      ]
     },
     "execution_count": 5,
     "metadata": {},
     "output_type": "execute_result"
    }
   ],
   "source": [
    "df['co2_dining_room'].describe()"
   ]
  },
  {
   "cell_type": "code",
   "execution_count": 6,
   "id": "d61f3c36",
   "metadata": {},
   "outputs": [
    {
     "data": {
      "image/png": "[encoded data removed]",
      "text/plain": [
       "<Figure size 864x432 with 2 Axes>"
      ]
     },
     "metadata": {
      "needs_background": "light"
     },
     "output_type": "display_data"
    }
   ],
   "source": [
    "# View the CO2 columns again\n",
    "fig = plt.figure(figsize = (12, 6))\n",
    "plt.subplot(2, 1, 1)\n",
    "plt.plot(df['co2_dining_room'])\n",
    "\n",
    "plt.subplot(2, 1, 2)\n",
    "plt.plot(df['co2_room'])\n",
    "\n",
    "plt.show()"
   ]
  },
  {
   "cell_type": "code",
   "execution_count": 7,
   "id": "52afa9f9",
   "metadata": {},
   "outputs": [],
   "source": [
    "# Function to obtain standard outlier value\n",
    "def outlier_value(column):\n",
    "    standard_outlier_range = 1.5 * (column.quantile(q = 0.75) - column.quantile(q = 0.25))\n",
    "    standard_outlier = standard_outlier_range + column.quantile(q = 0.75)\n",
    "    return standard_outlier"
   ]
  },
  {
   "cell_type": "code",
   "execution_count": 8,
   "id": "f1530db3",
   "metadata": {},
   "outputs": [
    {
     "data": {
      "text/plain": [
       "226.77387499999998"
      ]
     },
     "execution_count": 8,
     "metadata": {},
     "output_type": "execute_result"
    }
   ],
   "source": [
    "standard_outlier = outlier_value(df['co2_dining_room'])\n",
    "standard_outlier"
   ]
  },
  {
   "cell_type": "code",
   "execution_count": 9,
   "id": "f5c552d3",
   "metadata": {},
   "outputs": [
    {
     "name": "stdout",
     "output_type": "stream",
     "text": [
      "2.68 percent of the data is above 226.77\n"
     ]
    }
   ],
   "source": [
    "# Check % of data above standard outlier\n",
    "percent_above = len(df[df['co2_dining_room'] > standard_outlier]) / len(df) * 100\n",
    "print(np.round(percent_above, 2), 'percent of the data is above', np.round(standard_outlier, 2))"
   ]
  },
  {
   "cell_type": "code",
   "execution_count": 10,
   "id": "ff330464",
   "metadata": {},
   "outputs": [],
   "source": [
    "# Replace all values in the column above the standard outlier with the standard outlier\n",
    "df['co2_dining_room'].where(df['co2_dining_room'] <= standard_outlier, standard_outlier, inplace=True)"
   ]
  },
  {
   "cell_type": "code",
   "execution_count": 11,
   "id": "3156dc3e",
   "metadata": {},
   "outputs": [
    {
     "name": "stdout",
     "output_type": "stream",
     "text": [
      "3.22 percent of the data is above 229.02\n"
     ]
    }
   ],
   "source": [
    "# And now for the other CO2 column\n",
    "standard_outlier = outlier_value(df['co2_room'])\n",
    "percent_above = len(df[df['co2_room'] > standard_outlier]) / len(df) * 100\n",
    "print(np.round(percent_above, 2), 'percent of the data is above', np.round(standard_outlier, 2))"
   ]
  },
  {
   "cell_type": "code",
   "execution_count": 12,
   "id": "478b045b",
   "metadata": {},
   "outputs": [],
   "source": [
    "# Replace all values in the column above the standard outlier with the standard outlier\n",
    "df['co2_room'].where(df['co2_room'] <= standard_outlier, standard_outlier, inplace=True)"
   ]
  },
  {
   "cell_type": "code",
   "execution_count": 13,
   "id": "46517c36",
   "metadata": {
    "scrolled": false
   },
   "outputs": [
    {
     "data": {
      "image/png": "[encoded data removed]",
      "text/plain": [
       "<Figure size 864x432 with 2 Axes>"
      ]
     },
     "metadata": {
      "needs_background": "light"
     },
     "output_type": "display_data"
    }
   ],
   "source": [
    "# Check our work\n",
    "fig = plt.figure(figsize = (12, 6))\n",
    "plt.subplot(2, 1, 1)\n",
    "plt.plot(df['co2_dining_room'])\n",
    "\n",
    "plt.subplot(2, 1, 2)\n",
    "plt.plot(df['co2_room'])\n",
    "\n",
    "plt.show()"
   ]
  },
  {
   "cell_type": "markdown",
   "id": "ac861705",
   "metadata": {},
   "source": [
    "### 2.2 Rain\n",
    "\n",
    "Rain was described as the proportion of the last 15 minutes where rain was detected. Therefore, the values should be between 0 and 1."
   ]
  },
  {
   "cell_type": "code",
   "execution_count": 14,
   "id": "4c49e102",
   "metadata": {},
   "outputs": [
    {
     "data": {
      "image/png": "[encoded data removed]",
      "text/plain": [
       "<Figure size 432x576 with 1 Axes>"
      ]
     },
     "metadata": {
      "needs_background": "light"
     },
     "output_type": "display_data"
    }
   ],
   "source": [
    "# View the rain column again\n",
    "fig = plt.figure(figsize = (6, 8))\n",
    "plt.subplot(2, 1, 1)\n",
    "plt.hist(df['rain'], bins = 30)\n",
    "plt.show()"
   ]
  },
  {
   "cell_type": "code",
   "execution_count": 15,
   "id": "f869704a",
   "metadata": {},
   "outputs": [
    {
     "data": {
      "text/plain": [
       "count    2764.000000\n",
       "mean        0.047033\n",
       "std         0.206705\n",
       "min         0.000000\n",
       "25%         0.000000\n",
       "50%         0.000000\n",
       "75%         0.000000\n",
       "max         1.000000\n",
       "Name: rain, dtype: float64"
      ]
     },
     "execution_count": 15,
     "metadata": {},
     "output_type": "execute_result"
    }
   ],
   "source": [
    "df['rain'].describe()"
   ]
  },
  {
   "cell_type": "code",
   "execution_count": 16,
   "id": "3531debe",
   "metadata": {},
   "outputs": [
    {
     "data": {
      "text/plain": [
       "array([0.       , 0.8      , 1.       , 0.933333 , 0.266667 , 0.533333 ,\n",
       "       0.733333 , 0.866667 , 0.0666667, 0.666667 , 0.4      , 0.333333 ,\n",
       "       0.133333 , 0.6      , 0.466667 ])"
      ]
     },
     "execution_count": 16,
     "metadata": {},
     "output_type": "execute_result"
    }
   ],
   "source": [
    "df['rain'].unique()"
   ]
  },
  {
   "cell_type": "code",
   "execution_count": 17,
   "id": "4d4d2eea",
   "metadata": {},
   "outputs": [],
   "source": [
    "# If the value is above 0.5, count it as rain. otherwise count it as none\n",
    "for i in df['rain']:\n",
    "    if i < 0.5:\n",
    "        df['rain'].replace(to_replace = i, value = 'none', inplace=True)\n",
    "    else:\n",
    "        df['rain'].replace(to_replace = i, value = 'rain', inplace=True)"
   ]
  },
  {
   "cell_type": "code",
   "execution_count": 18,
   "id": "48dd056b",
   "metadata": {},
   "outputs": [
    {
     "data": {
      "image/png": "[encoded data removed]",
      "text/plain": [
       "<Figure size 432x576 with 1 Axes>"
      ]
     },
     "metadata": {
      "needs_background": "light"
     },
     "output_type": "display_data"
    }
   ],
   "source": [
    "# Check our work\n",
    "fig = plt.figure(figsize = (6, 8))\n",
    "plt.subplot(2, 1, 1)\n",
    "plt.hist(df['rain'], bins = 30)\n",
    "plt.show()"
   ]
  },
  {
   "cell_type": "markdown",
   "id": "5f332d98",
   "metadata": {},
   "source": [
    "### 2.3 Sun Dusk"
   ]
  },
  {
   "cell_type": "code",
   "execution_count": 19,
   "id": "0f44cf5d",
   "metadata": {},
   "outputs": [
    {
     "data": {
      "image/png": "[encoded data removed]",
      "text/plain": [
       "<Figure size 432x576 with 1 Axes>"
      ]
     },
     "metadata": {
      "needs_background": "light"
     },
     "output_type": "display_data"
    }
   ],
   "source": [
    "# View the sun dusk column again\n",
    "fig = plt.figure(figsize = (6, 8))\n",
    "plt.subplot(2, 1, 1)\n",
    "plt.hist(df['sun_dusk'], bins = 30)\n",
    "plt.show()"
   ]
  },
  {
   "cell_type": "code",
   "execution_count": 20,
   "id": "90ca7557",
   "metadata": {},
   "outputs": [
    {
     "data": {
      "text/plain": [
       "count    2764.000000\n",
       "mean      325.369289\n",
       "std       305.062614\n",
       "min         0.606667\n",
       "25%         0.650000\n",
       "50%       611.797000\n",
       "75%       619.210750\n",
       "max       624.960000\n",
       "Name: sun_dusk, dtype: float64"
      ]
     },
     "execution_count": 20,
     "metadata": {},
     "output_type": "execute_result"
    }
   ],
   "source": [
    "df['sun_dusk'].describe()"
   ]
  },
  {
   "cell_type": "code",
   "execution_count": 21,
   "id": "7f03e5b6",
   "metadata": {},
   "outputs": [],
   "source": [
    "# Replace values with sun dusk, partial dusk, no dusk\n",
    "for i in df['sun_dusk']:\n",
    "    if i < 100:\n",
    "        df['sun_dusk'].replace(to_replace = i, value = 'none', inplace=True)\n",
    "    elif 100 <= i < 600:\n",
    "        df['sun_dusk'].replace(to_replace = i, value = 'partial', inplace=True)\n",
    "    else:\n",
    "        df['sun_dusk'].replace(to_replace = i, value = 'full', inplace=True)"
   ]
  },
  {
   "cell_type": "code",
   "execution_count": 22,
   "id": "eae282e4",
   "metadata": {},
   "outputs": [
    {
     "data": {
      "image/png": "[encoded data removed]",
      "text/plain": [
       "<Figure size 864x432 with 1 Axes>"
      ]
     },
     "metadata": {
      "needs_background": "light"
     },
     "output_type": "display_data"
    }
   ],
   "source": [
    "fig = plt.figure(figsize = (12, 6))\n",
    "plt.subplot(2, 1, 1)\n",
    "plt.hist(df['sun_dusk'], bins = 30)\n",
    "plt.show()"
   ]
  },
  {
   "cell_type": "markdown",
   "id": "f2097d40",
   "metadata": {},
   "source": [
    "### 2.4 OneHot Encoding\n",
    "\n",
    "We will use pandas to OneHot encode our newly created categorical columns"
   ]
  },
  {
   "cell_type": "code",
   "execution_count": 23,
   "id": "29716365",
   "metadata": {},
   "outputs": [
    {
     "data": {
      "text/html": [
       "<div>\n",
       "<style scoped>\n",
       "    .dataframe tbody tr th:only-of-type {\n",
       "        vertical-align: middle;\n",
       "    }\n",
       "\n",
       "    .dataframe tbody tr th {\n",
       "        vertical-align: top;\n",
       "    }\n",
       "\n",
       "    .dataframe thead th {\n",
       "        text-align: right;\n",
       "    }\n",
       "</style>\n",
       "<table border=\"1\" class=\"dataframe\">\n",
       "  <thead>\n",
       "    <tr style=\"text-align: right;\">\n",
       "      <th></th>\n",
       "      <th>co2_dining_room</th>\n",
       "      <th>co2_room</th>\n",
       "      <th>relative_humidity_dining_room</th>\n",
       "      <th>relative_humidity_room</th>\n",
       "      <th>lighting_dining_room</th>\n",
       "      <th>lighting_room</th>\n",
       "      <th>wind</th>\n",
       "      <th>sun_light_in_west_facade</th>\n",
       "      <th>sun_light_in_east_facade</th>\n",
       "      <th>sun_light_in_south_facade</th>\n",
       "      <th>sun_irradiance</th>\n",
       "      <th>outdoor_relative_humidity</th>\n",
       "      <th>indoor_temperature_room</th>\n",
       "      <th>rain_none</th>\n",
       "      <th>rain_rain</th>\n",
       "      <th>sun_dusk_full</th>\n",
       "      <th>sun_dusk_none</th>\n",
       "      <th>sun_dusk_partial</th>\n",
       "    </tr>\n",
       "  </thead>\n",
       "  <tbody>\n",
       "    <tr>\n",
       "      <th>2012-03-13 11:45:00</th>\n",
       "      <td>216.560</td>\n",
       "      <td>221.920</td>\n",
       "      <td>39.9125</td>\n",
       "      <td>42.4150</td>\n",
       "      <td>81.6650</td>\n",
       "      <td>113.520</td>\n",
       "      <td>1.42625</td>\n",
       "      <td>9690.24</td>\n",
       "      <td>12604.20</td>\n",
       "      <td>95436.8</td>\n",
       "      <td>758.880</td>\n",
       "      <td>48.3750</td>\n",
       "      <td>17.8275</td>\n",
       "      <td>1</td>\n",
       "      <td>0</td>\n",
       "      <td>1</td>\n",
       "      <td>0</td>\n",
       "      <td>0</td>\n",
       "    </tr>\n",
       "    <tr>\n",
       "      <th>2012-03-13 12:00:00</th>\n",
       "      <td>219.947</td>\n",
       "      <td>220.363</td>\n",
       "      <td>39.9267</td>\n",
       "      <td>42.2453</td>\n",
       "      <td>81.7413</td>\n",
       "      <td>113.605</td>\n",
       "      <td>1.59200</td>\n",
       "      <td>11022.00</td>\n",
       "      <td>10787.20</td>\n",
       "      <td>95436.8</td>\n",
       "      <td>762.069</td>\n",
       "      <td>47.8080</td>\n",
       "      <td>18.1207</td>\n",
       "      <td>1</td>\n",
       "      <td>0</td>\n",
       "      <td>1</td>\n",
       "      <td>0</td>\n",
       "      <td>0</td>\n",
       "    </tr>\n",
       "    <tr>\n",
       "      <th>2012-03-13 12:15:00</th>\n",
       "      <td>219.403</td>\n",
       "      <td>218.933</td>\n",
       "      <td>39.7720</td>\n",
       "      <td>42.2267</td>\n",
       "      <td>81.4240</td>\n",
       "      <td>113.600</td>\n",
       "      <td>1.89133</td>\n",
       "      <td>13960.50</td>\n",
       "      <td>9669.63</td>\n",
       "      <td>95398.6</td>\n",
       "      <td>766.251</td>\n",
       "      <td>47.4320</td>\n",
       "      <td>18.4367</td>\n",
       "      <td>1</td>\n",
       "      <td>0</td>\n",
       "      <td>1</td>\n",
       "      <td>0</td>\n",
       "      <td>0</td>\n",
       "    </tr>\n",
       "    <tr>\n",
       "      <th>2012-03-13 12:30:00</th>\n",
       "      <td>218.613</td>\n",
       "      <td>217.045</td>\n",
       "      <td>39.7760</td>\n",
       "      <td>42.0987</td>\n",
       "      <td>81.5013</td>\n",
       "      <td>113.344</td>\n",
       "      <td>1.82800</td>\n",
       "      <td>18511.20</td>\n",
       "      <td>9648.13</td>\n",
       "      <td>95360.3</td>\n",
       "      <td>766.037</td>\n",
       "      <td>47.0240</td>\n",
       "      <td>18.7513</td>\n",
       "      <td>1</td>\n",
       "      <td>0</td>\n",
       "      <td>1</td>\n",
       "      <td>0</td>\n",
       "      <td>0</td>\n",
       "    </tr>\n",
       "    <tr>\n",
       "      <th>2012-03-13 12:45:00</th>\n",
       "      <td>217.714</td>\n",
       "      <td>216.080</td>\n",
       "      <td>39.7757</td>\n",
       "      <td>42.0686</td>\n",
       "      <td>81.4657</td>\n",
       "      <td>113.034</td>\n",
       "      <td>2.36071</td>\n",
       "      <td>26349.00</td>\n",
       "      <td>9208.32</td>\n",
       "      <td>95354.9</td>\n",
       "      <td>762.743</td>\n",
       "      <td>45.4743</td>\n",
       "      <td>19.0414</td>\n",
       "      <td>1</td>\n",
       "      <td>0</td>\n",
       "      <td>1</td>\n",
       "      <td>0</td>\n",
       "      <td>0</td>\n",
       "    </tr>\n",
       "  </tbody>\n",
       "</table>\n",
       "</div>"
      ],
      "text/plain": [
       "                     co2_dining_room  co2_room  relative_humidity_dining_room  \\\n",
       "2012-03-13 11:45:00          216.560   221.920                        39.9125   \n",
       "2012-03-13 12:00:00          219.947   220.363                        39.9267   \n",
       "2012-03-13 12:15:00          219.403   218.933                        39.7720   \n",
       "2012-03-13 12:30:00          218.613   217.045                        39.7760   \n",
       "2012-03-13 12:45:00          217.714   216.080                        39.7757   \n",
       "\n",
       "                     relative_humidity_room  lighting_dining_room  \\\n",
       "2012-03-13 11:45:00                 42.4150               81.6650   \n",
       "2012-03-13 12:00:00                 42.2453               81.7413   \n",
       "2012-03-13 12:15:00                 42.2267               81.4240   \n",
       "2012-03-13 12:30:00                 42.0987               81.5013   \n",
       "2012-03-13 12:45:00                 42.0686               81.4657   \n",
       "\n",
       "                     lighting_room     wind  sun_light_in_west_facade  \\\n",
       "2012-03-13 11:45:00        113.520  1.42625                   9690.24   \n",
       "2012-03-13 12:00:00        113.605  1.59200                  11022.00   \n",
       "2012-03-13 12:15:00        113.600  1.89133                  13960.50   \n",
       "2012-03-13 12:30:00        113.344  1.82800                  18511.20   \n",
       "2012-03-13 12:45:00        113.034  2.36071                  26349.00   \n",
       "\n",
       "                     sun_light_in_east_facade  sun_light_in_south_facade  \\\n",
       "2012-03-13 11:45:00                  12604.20                    95436.8   \n",
       "2012-03-13 12:00:00                  10787.20                    95436.8   \n",
       "2012-03-13 12:15:00                   9669.63                    95398.6   \n",
       "2012-03-13 12:30:00                   9648.13                    95360.3   \n",
       "2012-03-13 12:45:00                   9208.32                    95354.9   \n",
       "\n",
       "                     sun_irradiance  outdoor_relative_humidity  \\\n",
       "2012-03-13 11:45:00         758.880                    48.3750   \n",
       "2012-03-13 12:00:00         762.069                    47.8080   \n",
       "2012-03-13 12:15:00         766.251                    47.4320   \n",
       "2012-03-13 12:30:00         766.037                    47.0240   \n",
       "2012-03-13 12:45:00         762.743                    45.4743   \n",
       "\n",
       "                     indoor_temperature_room  rain_none  rain_rain  \\\n",
       "2012-03-13 11:45:00                  17.8275          1          0   \n",
       "2012-03-13 12:00:00                  18.1207          1          0   \n",
       "2012-03-13 12:15:00                  18.4367          1          0   \n",
       "2012-03-13 12:30:00                  18.7513          1          0   \n",
       "2012-03-13 12:45:00                  19.0414          1          0   \n",
       "\n",
       "                     sun_dusk_full  sun_dusk_none  sun_dusk_partial  \n",
       "2012-03-13 11:45:00              1              0                 0  \n",
       "2012-03-13 12:00:00              1              0                 0  \n",
       "2012-03-13 12:15:00              1              0                 0  \n",
       "2012-03-13 12:30:00              1              0                 0  \n",
       "2012-03-13 12:45:00              1              0                 0  "
      ]
     },
     "execution_count": 23,
     "metadata": {},
     "output_type": "execute_result"
    }
   ],
   "source": [
    "df = pd.get_dummies(df, prefix=['rain', 'sun_dusk'])\n",
    "df.head()"
   ]
  },
  {
   "cell_type": "markdown",
   "id": "70dcc3cd",
   "metadata": {},
   "source": [
    "### Section 3: Splitting and Scaling\n",
    "\n",
    "Train/test splits for a time series require that the data not be shuffled, and thus some extra care needs to be taken when splitting your data."
   ]
  },
  {
   "cell_type": "code",
   "execution_count": 24,
   "id": "cd4faf27",
   "metadata": {},
   "outputs": [
    {
     "data": {
      "text/plain": [
       "((2211, 18), (553, 18))"
      ]
     },
     "execution_count": 24,
     "metadata": {},
     "output_type": "execute_result"
    }
   ],
   "source": [
    "# Make 80/20 train/test split\n",
    "split= int(len(df) * 0.8) \n",
    "train, test = df[0:split], df[split:len(df)]\n",
    "train.shape, test.shape"
   ]
  },
  {
   "cell_type": "code",
   "execution_count": 25,
   "id": "262416d7",
   "metadata": {},
   "outputs": [],
   "source": [
    "# We only wish to scale the independent variables\n",
    "X_train, y_train = train.drop(columns = 'indoor_temperature_room'), train['indoor_temperature_room']\n",
    "X_test, y_test = test.drop(columns = 'indoor_temperature_room'), test['indoor_temperature_room']"
   ]
  },
  {
   "cell_type": "code",
   "execution_count": 26,
   "id": "afd989d1",
   "metadata": {
    "scrolled": true
   },
   "outputs": [],
   "source": [
    "# Scale the independent variables\n",
    "scaler = StandardScaler()\n",
    "scaler.fit(X_train)\n",
    "X_train_scaled = scaler.transform(X_train)\n",
    "X_test_scaled = scaler.transform(X_test)"
   ]
  },
  {
   "cell_type": "code",
   "execution_count": 27,
   "id": "2ce2282f",
   "metadata": {},
   "outputs": [
    {
     "data": {
      "text/html": [
       "<div>\n",
       "<style scoped>\n",
       "    .dataframe tbody tr th:only-of-type {\n",
       "        vertical-align: middle;\n",
       "    }\n",
       "\n",
       "    .dataframe tbody tr th {\n",
       "        vertical-align: top;\n",
       "    }\n",
       "\n",
       "    .dataframe thead th {\n",
       "        text-align: right;\n",
       "    }\n",
       "</style>\n",
       "<table border=\"1\" class=\"dataframe\">\n",
       "  <thead>\n",
       "    <tr style=\"text-align: right;\">\n",
       "      <th></th>\n",
       "      <th>co2_dining_room</th>\n",
       "      <th>co2_room</th>\n",
       "      <th>relative_humidity_dining_room</th>\n",
       "      <th>relative_humidity_room</th>\n",
       "      <th>lighting_dining_room</th>\n",
       "      <th>lighting_room</th>\n",
       "      <th>wind</th>\n",
       "      <th>sun_light_in_west_facade</th>\n",
       "      <th>sun_light_in_east_facade</th>\n",
       "      <th>sun_light_in_south_facade</th>\n",
       "      <th>sun_irradiance</th>\n",
       "      <th>outdoor_relative_humidity</th>\n",
       "      <th>rain_none</th>\n",
       "      <th>rain_rain</th>\n",
       "      <th>sun_dusk_full</th>\n",
       "      <th>sun_dusk_none</th>\n",
       "      <th>sun_dusk_partial</th>\n",
       "    </tr>\n",
       "  </thead>\n",
       "  <tbody>\n",
       "    <tr>\n",
       "      <th>2012-03-13 11:45:00</th>\n",
       "      <td>1.259658</td>\n",
       "      <td>1.715107</td>\n",
       "      <td>-0.674522</td>\n",
       "      <td>-0.591184</td>\n",
       "      <td>2.293957</td>\n",
       "      <td>1.696829</td>\n",
       "      <td>0.361028</td>\n",
       "      <td>-0.188425</td>\n",
       "      <td>0.005900</td>\n",
       "      <td>2.125555</td>\n",
       "      <td>1.871279</td>\n",
       "      <td>-0.635709</td>\n",
       "      <td>0.235308</td>\n",
       "      <td>-0.235308</td>\n",
       "      <td>0.988756</td>\n",
       "      <td>-0.931342</td>\n",
       "      <td>-0.175412</td>\n",
       "    </tr>\n",
       "    <tr>\n",
       "      <th>2012-03-13 12:00:00</th>\n",
       "      <td>1.822433</td>\n",
       "      <td>1.462093</td>\n",
       "      <td>-0.672419</td>\n",
       "      <td>-0.612898</td>\n",
       "      <td>2.297159</td>\n",
       "      <td>1.698815</td>\n",
       "      <td>0.510874</td>\n",
       "      <td>-0.136147</td>\n",
       "      <td>-0.076794</td>\n",
       "      <td>2.125555</td>\n",
       "      <td>1.882173</td>\n",
       "      <td>-0.679815</td>\n",
       "      <td>0.235308</td>\n",
       "      <td>-0.235308</td>\n",
       "      <td>0.988756</td>\n",
       "      <td>-0.931342</td>\n",
       "      <td>-0.175412</td>\n",
       "    </tr>\n",
       "    <tr>\n",
       "      <th>2012-03-13 12:15:00</th>\n",
       "      <td>1.732044</td>\n",
       "      <td>1.229717</td>\n",
       "      <td>-0.695332</td>\n",
       "      <td>-0.615278</td>\n",
       "      <td>2.283843</td>\n",
       "      <td>1.698698</td>\n",
       "      <td>0.781484</td>\n",
       "      <td>-0.020797</td>\n",
       "      <td>-0.127657</td>\n",
       "      <td>2.124431</td>\n",
       "      <td>1.896460</td>\n",
       "      <td>-0.709064</td>\n",
       "      <td>0.235308</td>\n",
       "      <td>-0.235308</td>\n",
       "      <td>0.988756</td>\n",
       "      <td>-0.931342</td>\n",
       "      <td>-0.175412</td>\n",
       "    </tr>\n",
       "    <tr>\n",
       "      <th>2012-03-13 12:30:00</th>\n",
       "      <td>1.600779</td>\n",
       "      <td>0.922915</td>\n",
       "      <td>-0.694740</td>\n",
       "      <td>-0.631657</td>\n",
       "      <td>2.287087</td>\n",
       "      <td>1.692718</td>\n",
       "      <td>0.724231</td>\n",
       "      <td>0.157841</td>\n",
       "      <td>-0.128635</td>\n",
       "      <td>2.123304</td>\n",
       "      <td>1.895729</td>\n",
       "      <td>-0.740802</td>\n",
       "      <td>0.235308</td>\n",
       "      <td>-0.235308</td>\n",
       "      <td>0.988756</td>\n",
       "      <td>-0.931342</td>\n",
       "      <td>-0.175412</td>\n",
       "    </tr>\n",
       "    <tr>\n",
       "      <th>2012-03-13 12:45:00</th>\n",
       "      <td>1.451404</td>\n",
       "      <td>0.766102</td>\n",
       "      <td>-0.694784</td>\n",
       "      <td>-0.635509</td>\n",
       "      <td>2.285593</td>\n",
       "      <td>1.685475</td>\n",
       "      <td>1.205828</td>\n",
       "      <td>0.465513</td>\n",
       "      <td>-0.148652</td>\n",
       "      <td>2.123145</td>\n",
       "      <td>1.884476</td>\n",
       "      <td>-0.861350</td>\n",
       "      <td>0.235308</td>\n",
       "      <td>-0.235308</td>\n",
       "      <td>0.988756</td>\n",
       "      <td>-0.931342</td>\n",
       "      <td>-0.175412</td>\n",
       "    </tr>\n",
       "  </tbody>\n",
       "</table>\n",
       "</div>"
      ],
      "text/plain": [
       "                     co2_dining_room  co2_room  relative_humidity_dining_room  \\\n",
       "2012-03-13 11:45:00         1.259658  1.715107                      -0.674522   \n",
       "2012-03-13 12:00:00         1.822433  1.462093                      -0.672419   \n",
       "2012-03-13 12:15:00         1.732044  1.229717                      -0.695332   \n",
       "2012-03-13 12:30:00         1.600779  0.922915                      -0.694740   \n",
       "2012-03-13 12:45:00         1.451404  0.766102                      -0.694784   \n",
       "\n",
       "                     relative_humidity_room  lighting_dining_room  \\\n",
       "2012-03-13 11:45:00               -0.591184              2.293957   \n",
       "2012-03-13 12:00:00               -0.612898              2.297159   \n",
       "2012-03-13 12:15:00               -0.615278              2.283843   \n",
       "2012-03-13 12:30:00               -0.631657              2.287087   \n",
       "2012-03-13 12:45:00               -0.635509              2.285593   \n",
       "\n",
       "                     lighting_room      wind  sun_light_in_west_facade  \\\n",
       "2012-03-13 11:45:00       1.696829  0.361028                 -0.188425   \n",
       "2012-03-13 12:00:00       1.698815  0.510874                 -0.136147   \n",
       "2012-03-13 12:15:00       1.698698  0.781484                 -0.020797   \n",
       "2012-03-13 12:30:00       1.692718  0.724231                  0.157841   \n",
       "2012-03-13 12:45:00       1.685475  1.205828                  0.465513   \n",
       "\n",
       "                     sun_light_in_east_facade  sun_light_in_south_facade  \\\n",
       "2012-03-13 11:45:00                  0.005900                   2.125555   \n",
       "2012-03-13 12:00:00                 -0.076794                   2.125555   \n",
       "2012-03-13 12:15:00                 -0.127657                   2.124431   \n",
       "2012-03-13 12:30:00                 -0.128635                   2.123304   \n",
       "2012-03-13 12:45:00                 -0.148652                   2.123145   \n",
       "\n",
       "                     sun_irradiance  outdoor_relative_humidity  rain_none  \\\n",
       "2012-03-13 11:45:00        1.871279                  -0.635709   0.235308   \n",
       "2012-03-13 12:00:00        1.882173                  -0.679815   0.235308   \n",
       "2012-03-13 12:15:00        1.896460                  -0.709064   0.235308   \n",
       "2012-03-13 12:30:00        1.895729                  -0.740802   0.235308   \n",
       "2012-03-13 12:45:00        1.884476                  -0.861350   0.235308   \n",
       "\n",
       "                     rain_rain  sun_dusk_full  sun_dusk_none  sun_dusk_partial  \n",
       "2012-03-13 11:45:00  -0.235308       0.988756      -0.931342         -0.175412  \n",
       "2012-03-13 12:00:00  -0.235308       0.988756      -0.931342         -0.175412  \n",
       "2012-03-13 12:15:00  -0.235308       0.988756      -0.931342         -0.175412  \n",
       "2012-03-13 12:30:00  -0.235308       0.988756      -0.931342         -0.175412  \n",
       "2012-03-13 12:45:00  -0.235308       0.988756      -0.931342         -0.175412  "
      ]
     },
     "execution_count": 27,
     "metadata": {},
     "output_type": "execute_result"
    }
   ],
   "source": [
    "# Change train and test sets back into dataframes for ease of use\n",
    "X_train_scaled_df = pd.DataFrame(X_train_scaled, columns=X_train.columns, index = X_train.index)\n",
    "X_test_scaled_df = pd.DataFrame(X_test_scaled, columns=X_test.columns, index = X_test.index)\n",
    "X_train_scaled_df.head()"
   ]
  },
  {
   "cell_type": "code",
   "execution_count": 28,
   "id": "a8b08417",
   "metadata": {},
   "outputs": [
    {
     "data": {
      "text/html": [
       "<div>\n",
       "<style scoped>\n",
       "    .dataframe tbody tr th:only-of-type {\n",
       "        vertical-align: middle;\n",
       "    }\n",
       "\n",
       "    .dataframe tbody tr th {\n",
       "        vertical-align: top;\n",
       "    }\n",
       "\n",
       "    .dataframe thead th {\n",
       "        text-align: right;\n",
       "    }\n",
       "</style>\n",
       "<table border=\"1\" class=\"dataframe\">\n",
       "  <thead>\n",
       "    <tr style=\"text-align: right;\">\n",
       "      <th></th>\n",
       "      <th>co2_dining_room</th>\n",
       "      <th>co2_room</th>\n",
       "      <th>relative_humidity_dining_room</th>\n",
       "      <th>relative_humidity_room</th>\n",
       "      <th>lighting_dining_room</th>\n",
       "      <th>lighting_room</th>\n",
       "      <th>wind</th>\n",
       "      <th>sun_light_in_west_facade</th>\n",
       "      <th>sun_light_in_east_facade</th>\n",
       "      <th>sun_light_in_south_facade</th>\n",
       "      <th>sun_irradiance</th>\n",
       "      <th>outdoor_relative_humidity</th>\n",
       "      <th>rain_none</th>\n",
       "      <th>rain_rain</th>\n",
       "      <th>sun_dusk_full</th>\n",
       "      <th>sun_dusk_none</th>\n",
       "      <th>sun_dusk_partial</th>\n",
       "      <th>indoor_temperature_room</th>\n",
       "    </tr>\n",
       "  </thead>\n",
       "  <tbody>\n",
       "    <tr>\n",
       "      <th>2012-04-05 12:30:00</th>\n",
       "      <td>-1.220738</td>\n",
       "      <td>-1.767126</td>\n",
       "      <td>1.679070</td>\n",
       "      <td>1.397576</td>\n",
       "      <td>1.869218</td>\n",
       "      <td>2.051067</td>\n",
       "      <td>2.068257</td>\n",
       "      <td>0.559222</td>\n",
       "      <td>0.488807</td>\n",
       "      <td>1.387201</td>\n",
       "      <td>2.094765</td>\n",
       "      <td>0.581603</td>\n",
       "      <td>0.235308</td>\n",
       "      <td>-0.235308</td>\n",
       "      <td>0.988756</td>\n",
       "      <td>-0.931342</td>\n",
       "      <td>-0.175412</td>\n",
       "      <td>21.1560</td>\n",
       "    </tr>\n",
       "    <tr>\n",
       "      <th>2012-04-05 12:45:00</th>\n",
       "      <td>-1.327078</td>\n",
       "      <td>-1.775901</td>\n",
       "      <td>1.675900</td>\n",
       "      <td>1.326943</td>\n",
       "      <td>2.332524</td>\n",
       "      <td>2.334635</td>\n",
       "      <td>2.222543</td>\n",
       "      <td>1.030489</td>\n",
       "      <td>0.438598</td>\n",
       "      <td>1.766622</td>\n",
       "      <td>2.607617</td>\n",
       "      <td>0.577456</td>\n",
       "      <td>0.235308</td>\n",
       "      <td>-0.235308</td>\n",
       "      <td>0.988756</td>\n",
       "      <td>-0.931342</td>\n",
       "      <td>-0.175412</td>\n",
       "      <td>21.3400</td>\n",
       "    </tr>\n",
       "    <tr>\n",
       "      <th>2012-04-05 13:00:00</th>\n",
       "      <td>-1.321761</td>\n",
       "      <td>-1.848702</td>\n",
       "      <td>1.697229</td>\n",
       "      <td>1.507108</td>\n",
       "      <td>0.944063</td>\n",
       "      <td>1.419546</td>\n",
       "      <td>1.904317</td>\n",
       "      <td>0.685870</td>\n",
       "      <td>0.309941</td>\n",
       "      <td>0.711389</td>\n",
       "      <td>1.426092</td>\n",
       "      <td>0.435150</td>\n",
       "      <td>0.235308</td>\n",
       "      <td>-0.235308</td>\n",
       "      <td>0.988756</td>\n",
       "      <td>-0.931342</td>\n",
       "      <td>-0.175412</td>\n",
       "      <td>21.5040</td>\n",
       "    </tr>\n",
       "    <tr>\n",
       "      <th>2012-04-05 13:15:00</th>\n",
       "      <td>-1.410323</td>\n",
       "      <td>-1.916302</td>\n",
       "      <td>1.740286</td>\n",
       "      <td>1.558982</td>\n",
       "      <td>-0.050365</td>\n",
       "      <td>0.393168</td>\n",
       "      <td>1.888044</td>\n",
       "      <td>0.263852</td>\n",
       "      <td>0.243795</td>\n",
       "      <td>0.082534</td>\n",
       "      <td>0.611519</td>\n",
       "      <td>0.426026</td>\n",
       "      <td>0.235308</td>\n",
       "      <td>-0.235308</td>\n",
       "      <td>0.988756</td>\n",
       "      <td>-0.931342</td>\n",
       "      <td>-0.175412</td>\n",
       "      <td>21.5693</td>\n",
       "    </tr>\n",
       "    <tr>\n",
       "      <th>2012-04-05 13:30:00</th>\n",
       "      <td>-1.449370</td>\n",
       "      <td>-2.028915</td>\n",
       "      <td>1.789268</td>\n",
       "      <td>1.523487</td>\n",
       "      <td>0.173063</td>\n",
       "      <td>0.955724</td>\n",
       "      <td>1.732547</td>\n",
       "      <td>0.308552</td>\n",
       "      <td>0.318111</td>\n",
       "      <td>0.041121</td>\n",
       "      <td>0.666906</td>\n",
       "      <td>0.468343</td>\n",
       "      <td>0.235308</td>\n",
       "      <td>-0.235308</td>\n",
       "      <td>0.988756</td>\n",
       "      <td>-0.931342</td>\n",
       "      <td>-0.175412</td>\n",
       "      <td>21.5840</td>\n",
       "    </tr>\n",
       "  </tbody>\n",
       "</table>\n",
       "</div>"
      ],
      "text/plain": [
       "                     co2_dining_room  co2_room  relative_humidity_dining_room  \\\n",
       "2012-04-05 12:30:00        -1.220738 -1.767126                       1.679070   \n",
       "2012-04-05 12:45:00        -1.327078 -1.775901                       1.675900   \n",
       "2012-04-05 13:00:00        -1.321761 -1.848702                       1.697229   \n",
       "2012-04-05 13:15:00        -1.410323 -1.916302                       1.740286   \n",
       "2012-04-05 13:30:00        -1.449370 -2.028915                       1.789268   \n",
       "\n",
       "                     relative_humidity_room  lighting_dining_room  \\\n",
       "2012-04-05 12:30:00                1.397576              1.869218   \n",
       "2012-04-05 12:45:00                1.326943              2.332524   \n",
       "2012-04-05 13:00:00                1.507108              0.944063   \n",
       "2012-04-05 13:15:00                1.558982             -0.050365   \n",
       "2012-04-05 13:30:00                1.523487              0.173063   \n",
       "\n",
       "                     lighting_room      wind  sun_light_in_west_facade  \\\n",
       "2012-04-05 12:30:00       2.051067  2.068257                  0.559222   \n",
       "2012-04-05 12:45:00       2.334635  2.222543                  1.030489   \n",
       "2012-04-05 13:00:00       1.419546  1.904317                  0.685870   \n",
       "2012-04-05 13:15:00       0.393168  1.888044                  0.263852   \n",
       "2012-04-05 13:30:00       0.955724  1.732547                  0.308552   \n",
       "\n",
       "                     sun_light_in_east_facade  sun_light_in_south_facade  \\\n",
       "2012-04-05 12:30:00                  0.488807                   1.387201   \n",
       "2012-04-05 12:45:00                  0.438598                   1.766622   \n",
       "2012-04-05 13:00:00                  0.309941                   0.711389   \n",
       "2012-04-05 13:15:00                  0.243795                   0.082534   \n",
       "2012-04-05 13:30:00                  0.318111                   0.041121   \n",
       "\n",
       "                     sun_irradiance  outdoor_relative_humidity  rain_none  \\\n",
       "2012-04-05 12:30:00        2.094765                   0.581603   0.235308   \n",
       "2012-04-05 12:45:00        2.607617                   0.577456   0.235308   \n",
       "2012-04-05 13:00:00        1.426092                   0.435150   0.235308   \n",
       "2012-04-05 13:15:00        0.611519                   0.426026   0.235308   \n",
       "2012-04-05 13:30:00        0.666906                   0.468343   0.235308   \n",
       "\n",
       "                     rain_rain  sun_dusk_full  sun_dusk_none  \\\n",
       "2012-04-05 12:30:00  -0.235308       0.988756      -0.931342   \n",
       "2012-04-05 12:45:00  -0.235308       0.988756      -0.931342   \n",
       "2012-04-05 13:00:00  -0.235308       0.988756      -0.931342   \n",
       "2012-04-05 13:15:00  -0.235308       0.988756      -0.931342   \n",
       "2012-04-05 13:30:00  -0.235308       0.988756      -0.931342   \n",
       "\n",
       "                     sun_dusk_partial  indoor_temperature_room  \n",
       "2012-04-05 12:30:00         -0.175412                  21.1560  \n",
       "2012-04-05 12:45:00         -0.175412                  21.3400  \n",
       "2012-04-05 13:00:00         -0.175412                  21.5040  \n",
       "2012-04-05 13:15:00         -0.175412                  21.5693  \n",
       "2012-04-05 13:30:00         -0.175412                  21.5840  "
      ]
     },
     "execution_count": 28,
     "metadata": {},
     "output_type": "execute_result"
    }
   ],
   "source": [
    "# Add back on the y_values\n",
    "X_train_scaled_df['indoor_temperature_room'] = y_train\n",
    "X_test_scaled_df['indoor_temperature_room'] = y_test\n",
    "X_test_scaled_df.head()"
   ]
  },
  {
   "cell_type": "code",
   "execution_count": 29,
   "id": "f8f6605b",
   "metadata": {},
   "outputs": [],
   "source": [
    "# And save our work to use in the modeling stage\n",
    "X_train_scaled_df.to_csv('../Data/train_scaled_df.csv')\n",
    "X_test_scaled_df.to_csv('../Data/test_scaled_df.csv')"
   ]
  }
 ],
 "metadata": {
  "kernelspec": {
   "display_name": "Python 3 (ipykernel)",
   "language": "python",
   "name": "python3"
  },
  "language_info": {
   "codemirror_mode": {
    "name": "ipython",
    "version": 3
   },
   "file_extension": ".py",
   "mimetype": "text/x-python",
   "name": "python",
   "nbconvert_exporter": "python",
   "pygments_lexer": "ipython3",
   "version": "3.8.8"
  }
 },
 "nbformat": 4,
 "nbformat_minor": 5
}
